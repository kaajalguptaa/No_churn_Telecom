{
 "cells": [
  {
   "cell_type": "markdown",
   "metadata": {},
   "source": [
    "### Data Science PROJECT - No-Churn Telecom\n",
    "* Candidate Name      : Kajal kumari S(PTID-CDS_JUL22-1335)\n",
    "    \n",
    "* Candidate E-Mail    : kaajalguptaa77@gmail.com\n"
   ]
  },
  {
   "cell_type": "markdown",
   "metadata": {},
   "source": [
    "* CASE STUDY\n",
    "\n",
    "  * No-Churn Telecom is an established Telecom operator in Europe with more than a decade in Business. \n",
    "Due to new players in the market, telecom industry has become very competitive and\n",
    "retaining customers becoming a challenge.\n",
    "\n",
    "  * In spite of No-Churn initiatives of reducing tariffs and promoting\n",
    "more offers, the churn rate ( percentage of customers migrating to\n",
    "competitors) is well above 10%.\n",
    "  * No-Churn wants to explore possibility of Machine Learning to help\n",
    "with following use cases to retain competitive edge in the industry.\n",
    "\n",
    "* PROJECT GOAL\n",
    "\n",
    "\n",
    "  1. Understanding the variables that are influencing the customers\n",
    "to migrate. \n",
    "\n",
    "  2. Creating Churn risk scores that can be indicative to drive\n",
    "retention campaigns.\n",
    "\n",
    "  3. Introduce new predicting variable “CHURN-FLAG” with values\n",
    "YES(1) or NO(0) so that email campaigns with lucrative offers\n",
    "can be targeted to Churn YES customers.\n",
    "\n",
    "  * Help to identify possible CHURN-FLAG YES customers and provide\n",
    "more attention in customer touch point areas, including customer\n",
    "care support, request fulfilment, auto categorizing tickets as high\n",
    "priority for quick resolutions any questions they may have etc.,"
   ]
  },
  {
   "cell_type": "code",
   "execution_count": 103,
   "metadata": {
    "id": "eVw5k_zx0iaU"
   },
   "outputs": [],
   "source": [
    "import pandas as pd\n",
    "import numpy as np\n",
    "\n",
    "import matplotlib.pyplot as plt\n",
    "import seaborn as sns\n",
    "from sklearn.model_selection import train_test_split, cross_val_score\n",
    "%matplotlib inline\n",
    "\n",
    "# Models from Scikit-Learn\n",
    "from sklearn.linear_model import LogisticRegression\n",
    "from sklearn.neighbors import KNeighborsClassifier\n",
    "from sklearn.ensemble import RandomForestClassifier\n",
    "from sklearn.linear_model import LogisticRegression\n",
    "from sklearn.svm import SVC\n",
    "from sklearn.tree import DecisionTreeClassifier\n",
    "from sklearn.linear_model import SGDClassifier\n",
    "from xgboost import  XGBClassifier\n",
    "from sklearn.naive_bayes import GaussianNB\n",
    "from sklearn.neural_network import MLPClassifier\n",
    "from sklearn.gaussian_process import GaussianProcessClassifier\n",
    "from sklearn.gaussian_process.kernels import RBF\n",
    "from sklearn.metrics import accuracy_score\n",
    "from sklearn.metrics import confusion_matrix, classification_report\n",
    "from sklearn.metrics import precision_score, recall_score,f1_score\n",
    "from sklearn.model_selection import RandomizedSearchCV, GridSearchCV\n",
    "from sklearn.metrics import classification_report\n",
    "from sklearn.model_selection import cross_val_score\n",
    "from imblearn.over_sampling import SMOTE\n"
   ]
  },
  {
   "cell_type": "markdown",
   "metadata": {
    "id": "fdqkJOsLOiMS"
   },
   "source": [
    "* Ignoring Warnings:"
   ]
  },
  {
   "cell_type": "code",
   "execution_count": 104,
   "metadata": {
    "id": "T1P27J2kOg7F"
   },
   "outputs": [],
   "source": [
    "import warnings\n",
    "warnings.filterwarnings( 'ignore')"
   ]
  },
  {
   "cell_type": "markdown",
   "metadata": {
    "id": "jfFXprr-O5Aw"
   },
   "source": [
    "* **Extracting data from mysql server:**"
   ]
  },
  {
   "cell_type": "code",
   "execution_count": 105,
   "metadata": {
    "colab": {
     "base_uri": "https://localhost:8080/"
    },
    "id": "2YySDXg6vG8j",
    "outputId": "2b611570-0625-4d7f-bfc6-e8bccaf949fa"
   },
   "outputs": [
    {
     "name": "stdout",
     "output_type": "stream",
     "text": [
      "Requirement already satisfied: mysql-connector-python in c:\\users\\acer\\anaconda3\\lib\\site-packages (8.0.31)\n",
      "Requirement already satisfied: protobuf<=3.20.1,>=3.11.0 in c:\\users\\acer\\anaconda3\\lib\\site-packages (from mysql-connector-python) (3.19.1)\n"
     ]
    }
   ],
   "source": [
    "!pip install mysql-connector-python"
   ]
  },
  {
   "cell_type": "code",
   "execution_count": 110,
   "metadata": {
    "colab": {
     "base_uri": "https://localhost:8080/",
     "height": 81
    },
    "id": "iIAYMbOK0frH",
    "outputId": "235ce271-8a6c-49e8-d17b-a5575814ca6c"
   },
   "outputs": [
    {
     "data": {
      "text/html": [
       "<div>\n",
       "<style scoped>\n",
       "    .dataframe tbody tr th:only-of-type {\n",
       "        vertical-align: middle;\n",
       "    }\n",
       "\n",
       "    .dataframe tbody tr th {\n",
       "        vertical-align: top;\n",
       "    }\n",
       "\n",
       "    .dataframe thead th {\n",
       "        text-align: right;\n",
       "    }\n",
       "</style>\n",
       "<table border=\"1\" class=\"dataframe\">\n",
       "  <thead>\n",
       "    <tr style=\"text-align: right;\">\n",
       "      <th></th>\n",
       "      <th>Tables_in_project_telecom</th>\n",
       "    </tr>\n",
       "  </thead>\n",
       "  <tbody>\n",
       "    <tr>\n",
       "      <th>0</th>\n",
       "      <td>telecom_churn_data</td>\n",
       "    </tr>\n",
       "  </tbody>\n",
       "</table>\n",
       "</div>"
      ],
      "text/plain": [
       "  Tables_in_project_telecom\n",
       "0        telecom_churn_data"
      ]
     },
     "execution_count": 110,
     "metadata": {},
     "output_type": "execute_result"
    }
   ],
   "source": [
    "data"
   ]
  },
  {
   "cell_type": "code",
   "execution_count": 111,
   "metadata": {
    "id": "AsArqW35MyV3"
   },
   "outputs": [],
   "source": [
    "data1 = pd.read_sql('select * from telecom_churn_data',connection )\n"
   ]
  },
  {
   "cell_type": "code",
   "execution_count": 112,
   "metadata": {
    "id": "AB71DJVQxgXq"
   },
   "outputs": [],
   "source": [
    "pd.set_option('display.max_columns',None)"
   ]
  },
  {
   "cell_type": "code",
   "execution_count": 113,
   "metadata": {
    "id": "VovD42_UNWoh"
   },
   "outputs": [],
   "source": [
    "data1.to_csv('churn.csv')"
   ]
  },
  {
   "cell_type": "code",
   "execution_count": 114,
   "metadata": {
    "colab": {
     "base_uri": "https://localhost:8080/",
     "height": 487
    },
    "id": "-z-lzTaPNZzH",
    "outputId": "42363724-d4f4-403f-e3cc-738739bf3222"
   },
   "outputs": [
    {
     "data": {
      "text/html": [
       "<div>\n",
       "<style scoped>\n",
       "    .dataframe tbody tr th:only-of-type {\n",
       "        vertical-align: middle;\n",
       "    }\n",
       "\n",
       "    .dataframe tbody tr th {\n",
       "        vertical-align: top;\n",
       "    }\n",
       "\n",
       "    .dataframe thead th {\n",
       "        text-align: right;\n",
       "    }\n",
       "</style>\n",
       "<table border=\"1\" class=\"dataframe\">\n",
       "  <thead>\n",
       "    <tr style=\"text-align: right;\">\n",
       "      <th></th>\n",
       "      <th>columns1</th>\n",
       "      <th>columns2</th>\n",
       "      <th>columns3</th>\n",
       "      <th>columns4</th>\n",
       "      <th>columns5</th>\n",
       "      <th>columns6</th>\n",
       "      <th>columns7</th>\n",
       "      <th>columns8</th>\n",
       "      <th>columns9</th>\n",
       "      <th>columns10</th>\n",
       "      <th>columns11</th>\n",
       "      <th>columns12</th>\n",
       "      <th>columns13</th>\n",
       "      <th>columns14</th>\n",
       "      <th>columns15</th>\n",
       "      <th>columns16</th>\n",
       "      <th>columns17</th>\n",
       "      <th>columns18</th>\n",
       "      <th>columns19</th>\n",
       "      <th>columns20</th>\n",
       "      <th>columns21</th>\n",
       "    </tr>\n",
       "  </thead>\n",
       "  <tbody>\n",
       "    <tr>\n",
       "      <th>0</th>\n",
       "      <td>KS</td>\n",
       "      <td>128</td>\n",
       "      <td>415</td>\n",
       "      <td>382-4657</td>\n",
       "      <td>no</td>\n",
       "      <td>yes</td>\n",
       "      <td>25</td>\n",
       "      <td>265.1</td>\n",
       "      <td>110</td>\n",
       "      <td>45.07</td>\n",
       "      <td>197.4</td>\n",
       "      <td>99</td>\n",
       "      <td>16.78</td>\n",
       "      <td>244.7</td>\n",
       "      <td>91</td>\n",
       "      <td>11.01</td>\n",
       "      <td>10</td>\n",
       "      <td>3</td>\n",
       "      <td>2.7</td>\n",
       "      <td>1</td>\n",
       "      <td>False.</td>\n",
       "    </tr>\n",
       "    <tr>\n",
       "      <th>1</th>\n",
       "      <td>OH</td>\n",
       "      <td>107</td>\n",
       "      <td>415</td>\n",
       "      <td>371-7191</td>\n",
       "      <td>no</td>\n",
       "      <td>yes</td>\n",
       "      <td>26</td>\n",
       "      <td>161.6</td>\n",
       "      <td>123</td>\n",
       "      <td>27.47</td>\n",
       "      <td>195.5</td>\n",
       "      <td>103</td>\n",
       "      <td>16.62</td>\n",
       "      <td>254.4</td>\n",
       "      <td>103</td>\n",
       "      <td>11.45</td>\n",
       "      <td>13.7</td>\n",
       "      <td>3</td>\n",
       "      <td>3.7</td>\n",
       "      <td>1</td>\n",
       "      <td>False.</td>\n",
       "    </tr>\n",
       "    <tr>\n",
       "      <th>2</th>\n",
       "      <td>NJ</td>\n",
       "      <td>137</td>\n",
       "      <td>415</td>\n",
       "      <td>358-1921</td>\n",
       "      <td>no</td>\n",
       "      <td>no</td>\n",
       "      <td>0</td>\n",
       "      <td>243.4</td>\n",
       "      <td>114</td>\n",
       "      <td>41.38</td>\n",
       "      <td>121.2</td>\n",
       "      <td>110</td>\n",
       "      <td>10.3</td>\n",
       "      <td>162.6</td>\n",
       "      <td>104</td>\n",
       "      <td>7.32</td>\n",
       "      <td>12.2</td>\n",
       "      <td>5</td>\n",
       "      <td>3.29</td>\n",
       "      <td>0</td>\n",
       "      <td>False.</td>\n",
       "    </tr>\n",
       "    <tr>\n",
       "      <th>3</th>\n",
       "      <td>OH</td>\n",
       "      <td>84</td>\n",
       "      <td>408</td>\n",
       "      <td>375-9999</td>\n",
       "      <td>yes</td>\n",
       "      <td>no</td>\n",
       "      <td>0</td>\n",
       "      <td>299.4</td>\n",
       "      <td>71</td>\n",
       "      <td>50.9</td>\n",
       "      <td>61.9</td>\n",
       "      <td>88</td>\n",
       "      <td>5.26</td>\n",
       "      <td>196.9</td>\n",
       "      <td>89</td>\n",
       "      <td>8.86</td>\n",
       "      <td>6.6</td>\n",
       "      <td>7</td>\n",
       "      <td>1.78</td>\n",
       "      <td>2</td>\n",
       "      <td>False.</td>\n",
       "    </tr>\n",
       "    <tr>\n",
       "      <th>4</th>\n",
       "      <td>OK</td>\n",
       "      <td>75</td>\n",
       "      <td>415</td>\n",
       "      <td>330-6626</td>\n",
       "      <td>yes</td>\n",
       "      <td>no</td>\n",
       "      <td>0</td>\n",
       "      <td>166.7</td>\n",
       "      <td>113</td>\n",
       "      <td>28.34</td>\n",
       "      <td>148.3</td>\n",
       "      <td>122</td>\n",
       "      <td>12.61</td>\n",
       "      <td>186.9</td>\n",
       "      <td>121</td>\n",
       "      <td>8.41</td>\n",
       "      <td>10.1</td>\n",
       "      <td>3</td>\n",
       "      <td>2.73</td>\n",
       "      <td>3</td>\n",
       "      <td>False.</td>\n",
       "    </tr>\n",
       "    <tr>\n",
       "      <th>...</th>\n",
       "      <td>...</td>\n",
       "      <td>...</td>\n",
       "      <td>...</td>\n",
       "      <td>...</td>\n",
       "      <td>...</td>\n",
       "      <td>...</td>\n",
       "      <td>...</td>\n",
       "      <td>...</td>\n",
       "      <td>...</td>\n",
       "      <td>...</td>\n",
       "      <td>...</td>\n",
       "      <td>...</td>\n",
       "      <td>...</td>\n",
       "      <td>...</td>\n",
       "      <td>...</td>\n",
       "      <td>...</td>\n",
       "      <td>...</td>\n",
       "      <td>...</td>\n",
       "      <td>...</td>\n",
       "      <td>...</td>\n",
       "      <td>...</td>\n",
       "    </tr>\n",
       "    <tr>\n",
       "      <th>4612</th>\n",
       "      <td>NY</td>\n",
       "      <td>57</td>\n",
       "      <td>510</td>\n",
       "      <td>345-7512</td>\n",
       "      <td>no</td>\n",
       "      <td>yes</td>\n",
       "      <td>25</td>\n",
       "      <td>144</td>\n",
       "      <td>81</td>\n",
       "      <td>24.48</td>\n",
       "      <td>187.2</td>\n",
       "      <td>112</td>\n",
       "      <td>15.91</td>\n",
       "      <td>158.6</td>\n",
       "      <td>122</td>\n",
       "      <td>7.14</td>\n",
       "      <td>8.5</td>\n",
       "      <td>6</td>\n",
       "      <td>2.3</td>\n",
       "      <td>3</td>\n",
       "      <td>False.</td>\n",
       "    </tr>\n",
       "    <tr>\n",
       "      <th>4613</th>\n",
       "      <td>NM</td>\n",
       "      <td>177</td>\n",
       "      <td>408</td>\n",
       "      <td>343-6820</td>\n",
       "      <td>no</td>\n",
       "      <td>yes</td>\n",
       "      <td>29</td>\n",
       "      <td>189</td>\n",
       "      <td>91</td>\n",
       "      <td>32.13</td>\n",
       "      <td>303.1</td>\n",
       "      <td>96</td>\n",
       "      <td>25.76</td>\n",
       "      <td>163.6</td>\n",
       "      <td>116</td>\n",
       "      <td>7.36</td>\n",
       "      <td>15.7</td>\n",
       "      <td>1</td>\n",
       "      <td>4.24</td>\n",
       "      <td>3</td>\n",
       "      <td>False.</td>\n",
       "    </tr>\n",
       "    <tr>\n",
       "      <th>4614</th>\n",
       "      <td>VT</td>\n",
       "      <td>67</td>\n",
       "      <td>408</td>\n",
       "      <td>338-4794</td>\n",
       "      <td>no</td>\n",
       "      <td>yes</td>\n",
       "      <td>33</td>\n",
       "      <td>127.5</td>\n",
       "      <td>126</td>\n",
       "      <td>21.68</td>\n",
       "      <td>296.1</td>\n",
       "      <td>129</td>\n",
       "      <td>25.17</td>\n",
       "      <td>200.9</td>\n",
       "      <td>91</td>\n",
       "      <td>9.04</td>\n",
       "      <td>13</td>\n",
       "      <td>3</td>\n",
       "      <td>3.51</td>\n",
       "      <td>1</td>\n",
       "      <td>False.</td>\n",
       "    </tr>\n",
       "    <tr>\n",
       "      <th>4615</th>\n",
       "      <td>MI</td>\n",
       "      <td>98</td>\n",
       "      <td>415</td>\n",
       "      <td>355-8388</td>\n",
       "      <td>no</td>\n",
       "      <td>yes</td>\n",
       "      <td>23</td>\n",
       "      <td>168.9</td>\n",
       "      <td>98</td>\n",
       "      <td>28.71</td>\n",
       "      <td>226.3</td>\n",
       "      <td>117</td>\n",
       "      <td>19.24</td>\n",
       "      <td>165.5</td>\n",
       "      <td>96</td>\n",
       "      <td>7.45</td>\n",
       "      <td>14.3</td>\n",
       "      <td>3</td>\n",
       "      <td>3.86</td>\n",
       "      <td>0</td>\n",
       "      <td>False.</td>\n",
       "    </tr>\n",
       "    <tr>\n",
       "      <th>4616</th>\n",
       "      <td>IN</td>\n",
       "      <td>140</td>\n",
       "      <td>415</td>\n",
       "      <td>409-6884</td>\n",
       "      <td>no</td>\n",
       "      <td>no</td>\n",
       "      <td>0</td>\n",
       "      <td>204.7</td>\n",
       "      <td>100</td>\n",
       "      <td>34.8</td>\n",
       "      <td>126.8</td>\n",
       "      <td>107</td>\n",
       "      <td>10.78</td>\n",
       "      <td>202.8</td>\n",
       "      <td>115</td>\n",
       "      <td>9.13</td>\n",
       "      <td>12.1</td>\n",
       "      <td>4</td>\n",
       "      <td>3.27</td>\n",
       "      <td>2</td>\n",
       "      <td>False.</td>\n",
       "    </tr>\n",
       "  </tbody>\n",
       "</table>\n",
       "<p>4617 rows × 21 columns</p>\n",
       "</div>"
      ],
      "text/plain": [
       "     columns1 columns2 columns3   columns4 columns5 columns6 columns7  \\\n",
       "0          KS      128      415   382-4657       no      yes       25   \n",
       "1          OH      107      415   371-7191       no      yes       26   \n",
       "2          NJ      137      415   358-1921       no       no        0   \n",
       "3          OH       84      408   375-9999      yes       no        0   \n",
       "4          OK       75      415   330-6626      yes       no        0   \n",
       "...       ...      ...      ...        ...      ...      ...      ...   \n",
       "4612       NY       57      510   345-7512       no      yes       25   \n",
       "4613       NM      177      408   343-6820       no      yes       29   \n",
       "4614       VT       67      408   338-4794       no      yes       33   \n",
       "4615       MI       98      415   355-8388       no      yes       23   \n",
       "4616       IN      140      415   409-6884       no       no        0   \n",
       "\n",
       "     columns8 columns9 columns10 columns11 columns12 columns13 columns14  \\\n",
       "0       265.1      110     45.07     197.4        99     16.78     244.7   \n",
       "1       161.6      123     27.47     195.5       103     16.62     254.4   \n",
       "2       243.4      114     41.38     121.2       110      10.3     162.6   \n",
       "3       299.4       71      50.9      61.9        88      5.26     196.9   \n",
       "4       166.7      113     28.34     148.3       122     12.61     186.9   \n",
       "...       ...      ...       ...       ...       ...       ...       ...   \n",
       "4612      144       81     24.48     187.2       112     15.91     158.6   \n",
       "4613      189       91     32.13     303.1        96     25.76     163.6   \n",
       "4614    127.5      126     21.68     296.1       129     25.17     200.9   \n",
       "4615    168.9       98     28.71     226.3       117     19.24     165.5   \n",
       "4616    204.7      100      34.8     126.8       107     10.78     202.8   \n",
       "\n",
       "     columns15 columns16 columns17 columns18 columns19 columns20 columns21  \n",
       "0           91     11.01        10         3       2.7         1    False.  \n",
       "1          103     11.45      13.7         3       3.7         1    False.  \n",
       "2          104      7.32      12.2         5      3.29         0    False.  \n",
       "3           89      8.86       6.6         7      1.78         2    False.  \n",
       "4          121      8.41      10.1         3      2.73         3    False.  \n",
       "...        ...       ...       ...       ...       ...       ...       ...  \n",
       "4612       122      7.14       8.5         6       2.3         3    False.  \n",
       "4613       116      7.36      15.7         1      4.24         3    False.  \n",
       "4614        91      9.04        13         3      3.51         1    False.  \n",
       "4615        96      7.45      14.3         3      3.86         0    False.  \n",
       "4616       115      9.13      12.1         4      3.27         2    False.  \n",
       "\n",
       "[4617 rows x 21 columns]"
      ]
     },
     "execution_count": 114,
     "metadata": {},
     "output_type": "execute_result"
    }
   ],
   "source": [
    "data1"
   ]
  },
  {
   "cell_type": "markdown",
   "metadata": {
    "id": "RXjTPytJhSiJ"
   },
   "source": [
    "* Renaming the columns"
   ]
  },
  {
   "cell_type": "code",
   "execution_count": 115,
   "metadata": {
    "id": "Yu2hi5yhvmVc"
   },
   "outputs": [],
   "source": [
    "new_column_names = {'columns1':'State', 'columns2':'Account_length','columns3':'Area_code',\t'columns4':'Phone', 'columns5':'International_plan',\t'columns6':'VMail_plan', 'columns7':'Vmail_message',\t'columns8':'Day_mins',\t'columns9':'Day_calls','columns10':'Day_charge',\t'columns11':'Eve_mins','columns12':'Eve_calls',\t'columns13':'Eve_charge', 'columns14':'Night_mins','columns15':'Night_calls',\t'columns16':'Night_charge',\t'columns17':'International_mins',\t'columns18':'International_calls',\t'columns19':'International_charge',\t'columns20':'Cust_serv_calls',\t'columns21':'Churn'}"
   ]
  },
  {
   "cell_type": "code",
   "execution_count": 116,
   "metadata": {
    "id": "PSrHmkSI0X_5"
   },
   "outputs": [],
   "source": [
    "data1.rename(columns=new_column_names,inplace = True)"
   ]
  },
  {
   "cell_type": "code",
   "execution_count": 117,
   "metadata": {
    "colab": {
     "base_uri": "https://localhost:8080/"
    },
    "id": "m8NV6H1627tD",
    "outputId": "ca49a454-ad5a-4f49-912c-224a979e6c44"
   },
   "outputs": [
    {
     "data": {
      "text/plain": [
       "Index(['State', 'Account_length', 'Area_code', 'Phone', 'International_plan',\n",
       "       'VMail_plan', 'Vmail_message', 'Day_mins', 'Day_calls', 'Day_charge',\n",
       "       'Eve_mins', 'Eve_calls', 'Eve_charge', 'Night_mins', 'Night_calls',\n",
       "       'Night_charge', 'International_mins', 'International_calls',\n",
       "       'International_charge', 'Cust_serv_calls', 'Churn'],\n",
       "      dtype='object')"
      ]
     },
     "execution_count": 117,
     "metadata": {},
     "output_type": "execute_result"
    }
   ],
   "source": [
    "\n",
    "data1.columns"
   ]
  },
  {
   "cell_type": "markdown",
   "metadata": {
    "id": "WQw8M9GKjQYE"
   },
   "source": [
    "* **Basic checks**:"
   ]
  },
  {
   "cell_type": "code",
   "execution_count": 118,
   "metadata": {
    "colab": {
     "base_uri": "https://localhost:8080/",
     "height": 357
    },
    "id": "NB-h3PklvOJJ",
    "outputId": "cd6655b9-b574-44fa-cc46-dce9a39f904c"
   },
   "outputs": [
    {
     "data": {
      "text/html": [
       "<div>\n",
       "<style scoped>\n",
       "    .dataframe tbody tr th:only-of-type {\n",
       "        vertical-align: middle;\n",
       "    }\n",
       "\n",
       "    .dataframe tbody tr th {\n",
       "        vertical-align: top;\n",
       "    }\n",
       "\n",
       "    .dataframe thead th {\n",
       "        text-align: right;\n",
       "    }\n",
       "</style>\n",
       "<table border=\"1\" class=\"dataframe\">\n",
       "  <thead>\n",
       "    <tr style=\"text-align: right;\">\n",
       "      <th></th>\n",
       "      <th>State</th>\n",
       "      <th>Account_length</th>\n",
       "      <th>Area_code</th>\n",
       "      <th>Phone</th>\n",
       "      <th>International_plan</th>\n",
       "      <th>VMail_plan</th>\n",
       "      <th>Vmail_message</th>\n",
       "      <th>Day_mins</th>\n",
       "      <th>Day_calls</th>\n",
       "      <th>Day_charge</th>\n",
       "      <th>Eve_mins</th>\n",
       "      <th>Eve_calls</th>\n",
       "      <th>Eve_charge</th>\n",
       "      <th>Night_mins</th>\n",
       "      <th>Night_calls</th>\n",
       "      <th>Night_charge</th>\n",
       "      <th>International_mins</th>\n",
       "      <th>International_calls</th>\n",
       "      <th>International_charge</th>\n",
       "      <th>Cust_serv_calls</th>\n",
       "      <th>Churn</th>\n",
       "    </tr>\n",
       "  </thead>\n",
       "  <tbody>\n",
       "    <tr>\n",
       "      <th>0</th>\n",
       "      <td>KS</td>\n",
       "      <td>128</td>\n",
       "      <td>415</td>\n",
       "      <td>382-4657</td>\n",
       "      <td>no</td>\n",
       "      <td>yes</td>\n",
       "      <td>25</td>\n",
       "      <td>265.1</td>\n",
       "      <td>110</td>\n",
       "      <td>45.07</td>\n",
       "      <td>197.4</td>\n",
       "      <td>99</td>\n",
       "      <td>16.78</td>\n",
       "      <td>244.7</td>\n",
       "      <td>91</td>\n",
       "      <td>11.01</td>\n",
       "      <td>10</td>\n",
       "      <td>3</td>\n",
       "      <td>2.7</td>\n",
       "      <td>1</td>\n",
       "      <td>False.</td>\n",
       "    </tr>\n",
       "    <tr>\n",
       "      <th>1</th>\n",
       "      <td>OH</td>\n",
       "      <td>107</td>\n",
       "      <td>415</td>\n",
       "      <td>371-7191</td>\n",
       "      <td>no</td>\n",
       "      <td>yes</td>\n",
       "      <td>26</td>\n",
       "      <td>161.6</td>\n",
       "      <td>123</td>\n",
       "      <td>27.47</td>\n",
       "      <td>195.5</td>\n",
       "      <td>103</td>\n",
       "      <td>16.62</td>\n",
       "      <td>254.4</td>\n",
       "      <td>103</td>\n",
       "      <td>11.45</td>\n",
       "      <td>13.7</td>\n",
       "      <td>3</td>\n",
       "      <td>3.7</td>\n",
       "      <td>1</td>\n",
       "      <td>False.</td>\n",
       "    </tr>\n",
       "    <tr>\n",
       "      <th>2</th>\n",
       "      <td>NJ</td>\n",
       "      <td>137</td>\n",
       "      <td>415</td>\n",
       "      <td>358-1921</td>\n",
       "      <td>no</td>\n",
       "      <td>no</td>\n",
       "      <td>0</td>\n",
       "      <td>243.4</td>\n",
       "      <td>114</td>\n",
       "      <td>41.38</td>\n",
       "      <td>121.2</td>\n",
       "      <td>110</td>\n",
       "      <td>10.3</td>\n",
       "      <td>162.6</td>\n",
       "      <td>104</td>\n",
       "      <td>7.32</td>\n",
       "      <td>12.2</td>\n",
       "      <td>5</td>\n",
       "      <td>3.29</td>\n",
       "      <td>0</td>\n",
       "      <td>False.</td>\n",
       "    </tr>\n",
       "    <tr>\n",
       "      <th>3</th>\n",
       "      <td>OH</td>\n",
       "      <td>84</td>\n",
       "      <td>408</td>\n",
       "      <td>375-9999</td>\n",
       "      <td>yes</td>\n",
       "      <td>no</td>\n",
       "      <td>0</td>\n",
       "      <td>299.4</td>\n",
       "      <td>71</td>\n",
       "      <td>50.9</td>\n",
       "      <td>61.9</td>\n",
       "      <td>88</td>\n",
       "      <td>5.26</td>\n",
       "      <td>196.9</td>\n",
       "      <td>89</td>\n",
       "      <td>8.86</td>\n",
       "      <td>6.6</td>\n",
       "      <td>7</td>\n",
       "      <td>1.78</td>\n",
       "      <td>2</td>\n",
       "      <td>False.</td>\n",
       "    </tr>\n",
       "    <tr>\n",
       "      <th>4</th>\n",
       "      <td>OK</td>\n",
       "      <td>75</td>\n",
       "      <td>415</td>\n",
       "      <td>330-6626</td>\n",
       "      <td>yes</td>\n",
       "      <td>no</td>\n",
       "      <td>0</td>\n",
       "      <td>166.7</td>\n",
       "      <td>113</td>\n",
       "      <td>28.34</td>\n",
       "      <td>148.3</td>\n",
       "      <td>122</td>\n",
       "      <td>12.61</td>\n",
       "      <td>186.9</td>\n",
       "      <td>121</td>\n",
       "      <td>8.41</td>\n",
       "      <td>10.1</td>\n",
       "      <td>3</td>\n",
       "      <td>2.73</td>\n",
       "      <td>3</td>\n",
       "      <td>False.</td>\n",
       "    </tr>\n",
       "  </tbody>\n",
       "</table>\n",
       "</div>"
      ],
      "text/plain": [
       "  State Account_length Area_code      Phone International_plan VMail_plan  \\\n",
       "0    KS            128       415   382-4657                 no        yes   \n",
       "1    OH            107       415   371-7191                 no        yes   \n",
       "2    NJ            137       415   358-1921                 no         no   \n",
       "3    OH             84       408   375-9999                yes         no   \n",
       "4    OK             75       415   330-6626                yes         no   \n",
       "\n",
       "  Vmail_message Day_mins Day_calls Day_charge Eve_mins Eve_calls Eve_charge  \\\n",
       "0            25    265.1       110      45.07    197.4        99      16.78   \n",
       "1            26    161.6       123      27.47    195.5       103      16.62   \n",
       "2             0    243.4       114      41.38    121.2       110       10.3   \n",
       "3             0    299.4        71       50.9     61.9        88       5.26   \n",
       "4             0    166.7       113      28.34    148.3       122      12.61   \n",
       "\n",
       "  Night_mins Night_calls Night_charge International_mins International_calls  \\\n",
       "0      244.7          91        11.01                 10                   3   \n",
       "1      254.4         103        11.45               13.7                   3   \n",
       "2      162.6         104         7.32               12.2                   5   \n",
       "3      196.9          89         8.86                6.6                   7   \n",
       "4      186.9         121         8.41               10.1                   3   \n",
       "\n",
       "  International_charge Cust_serv_calls    Churn  \n",
       "0                  2.7               1   False.  \n",
       "1                  3.7               1   False.  \n",
       "2                 3.29               0   False.  \n",
       "3                 1.78               2   False.  \n",
       "4                 2.73               3   False.  "
      ]
     },
     "execution_count": 118,
     "metadata": {},
     "output_type": "execute_result"
    }
   ],
   "source": [
    "data1.head()"
   ]
  },
  {
   "cell_type": "code",
   "execution_count": 119,
   "metadata": {
    "colab": {
     "base_uri": "https://localhost:8080/",
     "height": 357
    },
    "id": "EPVVDksgwhRQ",
    "outputId": "d2a19451-dcf8-4b4f-be1c-d0a798265e61"
   },
   "outputs": [
    {
     "data": {
      "text/html": [
       "<div>\n",
       "<style scoped>\n",
       "    .dataframe tbody tr th:only-of-type {\n",
       "        vertical-align: middle;\n",
       "    }\n",
       "\n",
       "    .dataframe tbody tr th {\n",
       "        vertical-align: top;\n",
       "    }\n",
       "\n",
       "    .dataframe thead th {\n",
       "        text-align: right;\n",
       "    }\n",
       "</style>\n",
       "<table border=\"1\" class=\"dataframe\">\n",
       "  <thead>\n",
       "    <tr style=\"text-align: right;\">\n",
       "      <th></th>\n",
       "      <th>State</th>\n",
       "      <th>Account_length</th>\n",
       "      <th>Area_code</th>\n",
       "      <th>Phone</th>\n",
       "      <th>International_plan</th>\n",
       "      <th>VMail_plan</th>\n",
       "      <th>Vmail_message</th>\n",
       "      <th>Day_mins</th>\n",
       "      <th>Day_calls</th>\n",
       "      <th>Day_charge</th>\n",
       "      <th>Eve_mins</th>\n",
       "      <th>Eve_calls</th>\n",
       "      <th>Eve_charge</th>\n",
       "      <th>Night_mins</th>\n",
       "      <th>Night_calls</th>\n",
       "      <th>Night_charge</th>\n",
       "      <th>International_mins</th>\n",
       "      <th>International_calls</th>\n",
       "      <th>International_charge</th>\n",
       "      <th>Cust_serv_calls</th>\n",
       "      <th>Churn</th>\n",
       "    </tr>\n",
       "  </thead>\n",
       "  <tbody>\n",
       "    <tr>\n",
       "      <th>4612</th>\n",
       "      <td>NY</td>\n",
       "      <td>57</td>\n",
       "      <td>510</td>\n",
       "      <td>345-7512</td>\n",
       "      <td>no</td>\n",
       "      <td>yes</td>\n",
       "      <td>25</td>\n",
       "      <td>144</td>\n",
       "      <td>81</td>\n",
       "      <td>24.48</td>\n",
       "      <td>187.2</td>\n",
       "      <td>112</td>\n",
       "      <td>15.91</td>\n",
       "      <td>158.6</td>\n",
       "      <td>122</td>\n",
       "      <td>7.14</td>\n",
       "      <td>8.5</td>\n",
       "      <td>6</td>\n",
       "      <td>2.3</td>\n",
       "      <td>3</td>\n",
       "      <td>False.</td>\n",
       "    </tr>\n",
       "    <tr>\n",
       "      <th>4613</th>\n",
       "      <td>NM</td>\n",
       "      <td>177</td>\n",
       "      <td>408</td>\n",
       "      <td>343-6820</td>\n",
       "      <td>no</td>\n",
       "      <td>yes</td>\n",
       "      <td>29</td>\n",
       "      <td>189</td>\n",
       "      <td>91</td>\n",
       "      <td>32.13</td>\n",
       "      <td>303.1</td>\n",
       "      <td>96</td>\n",
       "      <td>25.76</td>\n",
       "      <td>163.6</td>\n",
       "      <td>116</td>\n",
       "      <td>7.36</td>\n",
       "      <td>15.7</td>\n",
       "      <td>1</td>\n",
       "      <td>4.24</td>\n",
       "      <td>3</td>\n",
       "      <td>False.</td>\n",
       "    </tr>\n",
       "    <tr>\n",
       "      <th>4614</th>\n",
       "      <td>VT</td>\n",
       "      <td>67</td>\n",
       "      <td>408</td>\n",
       "      <td>338-4794</td>\n",
       "      <td>no</td>\n",
       "      <td>yes</td>\n",
       "      <td>33</td>\n",
       "      <td>127.5</td>\n",
       "      <td>126</td>\n",
       "      <td>21.68</td>\n",
       "      <td>296.1</td>\n",
       "      <td>129</td>\n",
       "      <td>25.17</td>\n",
       "      <td>200.9</td>\n",
       "      <td>91</td>\n",
       "      <td>9.04</td>\n",
       "      <td>13</td>\n",
       "      <td>3</td>\n",
       "      <td>3.51</td>\n",
       "      <td>1</td>\n",
       "      <td>False.</td>\n",
       "    </tr>\n",
       "    <tr>\n",
       "      <th>4615</th>\n",
       "      <td>MI</td>\n",
       "      <td>98</td>\n",
       "      <td>415</td>\n",
       "      <td>355-8388</td>\n",
       "      <td>no</td>\n",
       "      <td>yes</td>\n",
       "      <td>23</td>\n",
       "      <td>168.9</td>\n",
       "      <td>98</td>\n",
       "      <td>28.71</td>\n",
       "      <td>226.3</td>\n",
       "      <td>117</td>\n",
       "      <td>19.24</td>\n",
       "      <td>165.5</td>\n",
       "      <td>96</td>\n",
       "      <td>7.45</td>\n",
       "      <td>14.3</td>\n",
       "      <td>3</td>\n",
       "      <td>3.86</td>\n",
       "      <td>0</td>\n",
       "      <td>False.</td>\n",
       "    </tr>\n",
       "    <tr>\n",
       "      <th>4616</th>\n",
       "      <td>IN</td>\n",
       "      <td>140</td>\n",
       "      <td>415</td>\n",
       "      <td>409-6884</td>\n",
       "      <td>no</td>\n",
       "      <td>no</td>\n",
       "      <td>0</td>\n",
       "      <td>204.7</td>\n",
       "      <td>100</td>\n",
       "      <td>34.8</td>\n",
       "      <td>126.8</td>\n",
       "      <td>107</td>\n",
       "      <td>10.78</td>\n",
       "      <td>202.8</td>\n",
       "      <td>115</td>\n",
       "      <td>9.13</td>\n",
       "      <td>12.1</td>\n",
       "      <td>4</td>\n",
       "      <td>3.27</td>\n",
       "      <td>2</td>\n",
       "      <td>False.</td>\n",
       "    </tr>\n",
       "  </tbody>\n",
       "</table>\n",
       "</div>"
      ],
      "text/plain": [
       "     State Account_length Area_code      Phone International_plan VMail_plan  \\\n",
       "4612    NY             57       510   345-7512                 no        yes   \n",
       "4613    NM            177       408   343-6820                 no        yes   \n",
       "4614    VT             67       408   338-4794                 no        yes   \n",
       "4615    MI             98       415   355-8388                 no        yes   \n",
       "4616    IN            140       415   409-6884                 no         no   \n",
       "\n",
       "     Vmail_message Day_mins Day_calls Day_charge Eve_mins Eve_calls  \\\n",
       "4612            25      144        81      24.48    187.2       112   \n",
       "4613            29      189        91      32.13    303.1        96   \n",
       "4614            33    127.5       126      21.68    296.1       129   \n",
       "4615            23    168.9        98      28.71    226.3       117   \n",
       "4616             0    204.7       100       34.8    126.8       107   \n",
       "\n",
       "     Eve_charge Night_mins Night_calls Night_charge International_mins  \\\n",
       "4612      15.91      158.6         122         7.14                8.5   \n",
       "4613      25.76      163.6         116         7.36               15.7   \n",
       "4614      25.17      200.9          91         9.04                 13   \n",
       "4615      19.24      165.5          96         7.45               14.3   \n",
       "4616      10.78      202.8         115         9.13               12.1   \n",
       "\n",
       "     International_calls International_charge Cust_serv_calls    Churn  \n",
       "4612                   6                  2.3               3   False.  \n",
       "4613                   1                 4.24               3   False.  \n",
       "4614                   3                 3.51               1   False.  \n",
       "4615                   3                 3.86               0   False.  \n",
       "4616                   4                 3.27               2   False.  "
      ]
     },
     "execution_count": 119,
     "metadata": {},
     "output_type": "execute_result"
    }
   ],
   "source": [
    "data1.tail()"
   ]
  },
  {
   "cell_type": "code",
   "execution_count": 120,
   "metadata": {
    "colab": {
     "base_uri": "https://localhost:8080/",
     "height": 708
    },
    "id": "u6aLJaAVw1ig",
    "outputId": "b7f787e0-8a07-4f85-f007-0663649f2f08"
   },
   "outputs": [
    {
     "data": {
      "text/html": [
       "<div>\n",
       "<style scoped>\n",
       "    .dataframe tbody tr th:only-of-type {\n",
       "        vertical-align: middle;\n",
       "    }\n",
       "\n",
       "    .dataframe tbody tr th {\n",
       "        vertical-align: top;\n",
       "    }\n",
       "\n",
       "    .dataframe thead th {\n",
       "        text-align: right;\n",
       "    }\n",
       "</style>\n",
       "<table border=\"1\" class=\"dataframe\">\n",
       "  <thead>\n",
       "    <tr style=\"text-align: right;\">\n",
       "      <th></th>\n",
       "      <th>0</th>\n",
       "      <th>1</th>\n",
       "      <th>2</th>\n",
       "      <th>3</th>\n",
       "      <th>4</th>\n",
       "    </tr>\n",
       "  </thead>\n",
       "  <tbody>\n",
       "    <tr>\n",
       "      <th>State</th>\n",
       "      <td>KS</td>\n",
       "      <td>OH</td>\n",
       "      <td>NJ</td>\n",
       "      <td>OH</td>\n",
       "      <td>OK</td>\n",
       "    </tr>\n",
       "    <tr>\n",
       "      <th>Account_length</th>\n",
       "      <td>128</td>\n",
       "      <td>107</td>\n",
       "      <td>137</td>\n",
       "      <td>84</td>\n",
       "      <td>75</td>\n",
       "    </tr>\n",
       "    <tr>\n",
       "      <th>Area_code</th>\n",
       "      <td>415</td>\n",
       "      <td>415</td>\n",
       "      <td>415</td>\n",
       "      <td>408</td>\n",
       "      <td>415</td>\n",
       "    </tr>\n",
       "    <tr>\n",
       "      <th>Phone</th>\n",
       "      <td>382-4657</td>\n",
       "      <td>371-7191</td>\n",
       "      <td>358-1921</td>\n",
       "      <td>375-9999</td>\n",
       "      <td>330-6626</td>\n",
       "    </tr>\n",
       "    <tr>\n",
       "      <th>International_plan</th>\n",
       "      <td>no</td>\n",
       "      <td>no</td>\n",
       "      <td>no</td>\n",
       "      <td>yes</td>\n",
       "      <td>yes</td>\n",
       "    </tr>\n",
       "    <tr>\n",
       "      <th>VMail_plan</th>\n",
       "      <td>yes</td>\n",
       "      <td>yes</td>\n",
       "      <td>no</td>\n",
       "      <td>no</td>\n",
       "      <td>no</td>\n",
       "    </tr>\n",
       "    <tr>\n",
       "      <th>Vmail_message</th>\n",
       "      <td>25</td>\n",
       "      <td>26</td>\n",
       "      <td>0</td>\n",
       "      <td>0</td>\n",
       "      <td>0</td>\n",
       "    </tr>\n",
       "    <tr>\n",
       "      <th>Day_mins</th>\n",
       "      <td>265.1</td>\n",
       "      <td>161.6</td>\n",
       "      <td>243.4</td>\n",
       "      <td>299.4</td>\n",
       "      <td>166.7</td>\n",
       "    </tr>\n",
       "    <tr>\n",
       "      <th>Day_calls</th>\n",
       "      <td>110</td>\n",
       "      <td>123</td>\n",
       "      <td>114</td>\n",
       "      <td>71</td>\n",
       "      <td>113</td>\n",
       "    </tr>\n",
       "    <tr>\n",
       "      <th>Day_charge</th>\n",
       "      <td>45.07</td>\n",
       "      <td>27.47</td>\n",
       "      <td>41.38</td>\n",
       "      <td>50.9</td>\n",
       "      <td>28.34</td>\n",
       "    </tr>\n",
       "    <tr>\n",
       "      <th>Eve_mins</th>\n",
       "      <td>197.4</td>\n",
       "      <td>195.5</td>\n",
       "      <td>121.2</td>\n",
       "      <td>61.9</td>\n",
       "      <td>148.3</td>\n",
       "    </tr>\n",
       "    <tr>\n",
       "      <th>Eve_calls</th>\n",
       "      <td>99</td>\n",
       "      <td>103</td>\n",
       "      <td>110</td>\n",
       "      <td>88</td>\n",
       "      <td>122</td>\n",
       "    </tr>\n",
       "    <tr>\n",
       "      <th>Eve_charge</th>\n",
       "      <td>16.78</td>\n",
       "      <td>16.62</td>\n",
       "      <td>10.3</td>\n",
       "      <td>5.26</td>\n",
       "      <td>12.61</td>\n",
       "    </tr>\n",
       "    <tr>\n",
       "      <th>Night_mins</th>\n",
       "      <td>244.7</td>\n",
       "      <td>254.4</td>\n",
       "      <td>162.6</td>\n",
       "      <td>196.9</td>\n",
       "      <td>186.9</td>\n",
       "    </tr>\n",
       "    <tr>\n",
       "      <th>Night_calls</th>\n",
       "      <td>91</td>\n",
       "      <td>103</td>\n",
       "      <td>104</td>\n",
       "      <td>89</td>\n",
       "      <td>121</td>\n",
       "    </tr>\n",
       "    <tr>\n",
       "      <th>Night_charge</th>\n",
       "      <td>11.01</td>\n",
       "      <td>11.45</td>\n",
       "      <td>7.32</td>\n",
       "      <td>8.86</td>\n",
       "      <td>8.41</td>\n",
       "    </tr>\n",
       "    <tr>\n",
       "      <th>International_mins</th>\n",
       "      <td>10</td>\n",
       "      <td>13.7</td>\n",
       "      <td>12.2</td>\n",
       "      <td>6.6</td>\n",
       "      <td>10.1</td>\n",
       "    </tr>\n",
       "    <tr>\n",
       "      <th>International_calls</th>\n",
       "      <td>3</td>\n",
       "      <td>3</td>\n",
       "      <td>5</td>\n",
       "      <td>7</td>\n",
       "      <td>3</td>\n",
       "    </tr>\n",
       "    <tr>\n",
       "      <th>International_charge</th>\n",
       "      <td>2.7</td>\n",
       "      <td>3.7</td>\n",
       "      <td>3.29</td>\n",
       "      <td>1.78</td>\n",
       "      <td>2.73</td>\n",
       "    </tr>\n",
       "    <tr>\n",
       "      <th>Cust_serv_calls</th>\n",
       "      <td>1</td>\n",
       "      <td>1</td>\n",
       "      <td>0</td>\n",
       "      <td>2</td>\n",
       "      <td>3</td>\n",
       "    </tr>\n",
       "    <tr>\n",
       "      <th>Churn</th>\n",
       "      <td>False.</td>\n",
       "      <td>False.</td>\n",
       "      <td>False.</td>\n",
       "      <td>False.</td>\n",
       "      <td>False.</td>\n",
       "    </tr>\n",
       "  </tbody>\n",
       "</table>\n",
       "</div>"
      ],
      "text/plain": [
       "                              0          1          2          3          4\n",
       "State                        KS         OH         NJ         OH         OK\n",
       "Account_length              128        107        137         84         75\n",
       "Area_code                   415        415        415        408        415\n",
       "Phone                  382-4657   371-7191   358-1921   375-9999   330-6626\n",
       "International_plan           no         no         no        yes        yes\n",
       "VMail_plan                  yes        yes         no         no         no\n",
       "Vmail_message                25         26          0          0          0\n",
       "Day_mins                  265.1      161.6      243.4      299.4      166.7\n",
       "Day_calls                   110        123        114         71        113\n",
       "Day_charge                45.07      27.47      41.38       50.9      28.34\n",
       "Eve_mins                  197.4      195.5      121.2       61.9      148.3\n",
       "Eve_calls                    99        103        110         88        122\n",
       "Eve_charge                16.78      16.62       10.3       5.26      12.61\n",
       "Night_mins                244.7      254.4      162.6      196.9      186.9\n",
       "Night_calls                  91        103        104         89        121\n",
       "Night_charge              11.01      11.45       7.32       8.86       8.41\n",
       "International_mins           10       13.7       12.2        6.6       10.1\n",
       "International_calls           3          3          5          7          3\n",
       "International_charge        2.7        3.7       3.29       1.78       2.73\n",
       "Cust_serv_calls               1          1          0          2          3\n",
       "Churn                    False.     False.     False.     False.     False."
      ]
     },
     "execution_count": 120,
     "metadata": {},
     "output_type": "execute_result"
    }
   ],
   "source": [
    "data1.head().T"
   ]
  },
  {
   "cell_type": "code",
   "execution_count": 121,
   "metadata": {
    "colab": {
     "base_uri": "https://localhost:8080/"
    },
    "id": "D8DfOkb6xBlK",
    "outputId": "2a3afe5d-4ac3-484b-facc-07bd6b55bf86"
   },
   "outputs": [
    {
     "data": {
      "text/plain": [
       "(4617, 21)"
      ]
     },
     "execution_count": 121,
     "metadata": {},
     "output_type": "execute_result"
    }
   ],
   "source": [
    "data1.shape"
   ]
  },
  {
   "cell_type": "code",
   "execution_count": 122,
   "metadata": {
    "colab": {
     "base_uri": "https://localhost:8080/",
     "height": 256
    },
    "id": "VbmVer-gw9cm",
    "outputId": "5ca579a1-4d11-4c97-c46b-35be8b7ed6f6"
   },
   "outputs": [
    {
     "data": {
      "text/html": [
       "<div>\n",
       "<style scoped>\n",
       "    .dataframe tbody tr th:only-of-type {\n",
       "        vertical-align: middle;\n",
       "    }\n",
       "\n",
       "    .dataframe tbody tr th {\n",
       "        vertical-align: top;\n",
       "    }\n",
       "\n",
       "    .dataframe thead th {\n",
       "        text-align: right;\n",
       "    }\n",
       "</style>\n",
       "<table border=\"1\" class=\"dataframe\">\n",
       "  <thead>\n",
       "    <tr style=\"text-align: right;\">\n",
       "      <th></th>\n",
       "      <th>State</th>\n",
       "      <th>Account_length</th>\n",
       "      <th>Area_code</th>\n",
       "      <th>Phone</th>\n",
       "      <th>International_plan</th>\n",
       "      <th>VMail_plan</th>\n",
       "      <th>Vmail_message</th>\n",
       "      <th>Day_mins</th>\n",
       "      <th>Day_calls</th>\n",
       "      <th>Day_charge</th>\n",
       "      <th>Eve_mins</th>\n",
       "      <th>Eve_calls</th>\n",
       "      <th>Eve_charge</th>\n",
       "      <th>Night_mins</th>\n",
       "      <th>Night_calls</th>\n",
       "      <th>Night_charge</th>\n",
       "      <th>International_mins</th>\n",
       "      <th>International_calls</th>\n",
       "      <th>International_charge</th>\n",
       "      <th>Cust_serv_calls</th>\n",
       "      <th>Churn</th>\n",
       "    </tr>\n",
       "  </thead>\n",
       "  <tbody>\n",
       "    <tr>\n",
       "      <th>count</th>\n",
       "      <td>4617</td>\n",
       "      <td>4617</td>\n",
       "      <td>4617</td>\n",
       "      <td>4617</td>\n",
       "      <td>4617</td>\n",
       "      <td>4617</td>\n",
       "      <td>4617</td>\n",
       "      <td>4617</td>\n",
       "      <td>4617</td>\n",
       "      <td>4617</td>\n",
       "      <td>4617</td>\n",
       "      <td>4617</td>\n",
       "      <td>4617</td>\n",
       "      <td>4617</td>\n",
       "      <td>4617</td>\n",
       "      <td>4617</td>\n",
       "      <td>4617</td>\n",
       "      <td>4617</td>\n",
       "      <td>4617</td>\n",
       "      <td>4617</td>\n",
       "      <td>4617</td>\n",
       "    </tr>\n",
       "    <tr>\n",
       "      <th>unique</th>\n",
       "      <td>51</td>\n",
       "      <td>218</td>\n",
       "      <td>3</td>\n",
       "      <td>4617</td>\n",
       "      <td>2</td>\n",
       "      <td>2</td>\n",
       "      <td>47</td>\n",
       "      <td>1901</td>\n",
       "      <td>123</td>\n",
       "      <td>1901</td>\n",
       "      <td>1833</td>\n",
       "      <td>125</td>\n",
       "      <td>1621</td>\n",
       "      <td>1813</td>\n",
       "      <td>130</td>\n",
       "      <td>1012</td>\n",
       "      <td>168</td>\n",
       "      <td>21</td>\n",
       "      <td>168</td>\n",
       "      <td>10</td>\n",
       "      <td>2</td>\n",
       "    </tr>\n",
       "    <tr>\n",
       "      <th>top</th>\n",
       "      <td>WV</td>\n",
       "      <td>90</td>\n",
       "      <td>415</td>\n",
       "      <td>382-4657</td>\n",
       "      <td>no</td>\n",
       "      <td>no</td>\n",
       "      <td>0</td>\n",
       "      <td>154</td>\n",
       "      <td>102</td>\n",
       "      <td>26.18</td>\n",
       "      <td>169.9</td>\n",
       "      <td>105</td>\n",
       "      <td>14.25</td>\n",
       "      <td>194.3</td>\n",
       "      <td>105</td>\n",
       "      <td>9.66</td>\n",
       "      <td>9.8</td>\n",
       "      <td>3</td>\n",
       "      <td>2.65</td>\n",
       "      <td>1</td>\n",
       "      <td>False.</td>\n",
       "    </tr>\n",
       "    <tr>\n",
       "      <th>freq</th>\n",
       "      <td>149</td>\n",
       "      <td>63</td>\n",
       "      <td>2299</td>\n",
       "      <td>1</td>\n",
       "      <td>4171</td>\n",
       "      <td>3381</td>\n",
       "      <td>3381</td>\n",
       "      <td>10</td>\n",
       "      <td>108</td>\n",
       "      <td>10</td>\n",
       "      <td>10</td>\n",
       "      <td>111</td>\n",
       "      <td>15</td>\n",
       "      <td>10</td>\n",
       "      <td>115</td>\n",
       "      <td>19</td>\n",
       "      <td>81</td>\n",
       "      <td>925</td>\n",
       "      <td>81</td>\n",
       "      <td>1651</td>\n",
       "      <td>3961</td>\n",
       "    </tr>\n",
       "  </tbody>\n",
       "</table>\n",
       "</div>"
      ],
      "text/plain": [
       "       State Account_length Area_code      Phone International_plan  \\\n",
       "count   4617           4617      4617       4617               4617   \n",
       "unique    51            218         3       4617                  2   \n",
       "top       WV             90       415   382-4657                 no   \n",
       "freq     149             63      2299          1               4171   \n",
       "\n",
       "       VMail_plan Vmail_message Day_mins Day_calls Day_charge Eve_mins  \\\n",
       "count        4617          4617     4617      4617       4617     4617   \n",
       "unique          2            47     1901       123       1901     1833   \n",
       "top            no             0      154       102      26.18    169.9   \n",
       "freq         3381          3381       10       108         10       10   \n",
       "\n",
       "       Eve_calls Eve_charge Night_mins Night_calls Night_charge  \\\n",
       "count       4617       4617       4617        4617         4617   \n",
       "unique       125       1621       1813         130         1012   \n",
       "top          105      14.25      194.3         105         9.66   \n",
       "freq         111         15         10         115           19   \n",
       "\n",
       "       International_mins International_calls International_charge  \\\n",
       "count                4617                4617                 4617   \n",
       "unique                168                  21                  168   \n",
       "top                   9.8                   3                 2.65   \n",
       "freq                   81                 925                   81   \n",
       "\n",
       "       Cust_serv_calls    Churn  \n",
       "count             4617     4617  \n",
       "unique              10        2  \n",
       "top                  1   False.  \n",
       "freq              1651     3961  "
      ]
     },
     "execution_count": 122,
     "metadata": {},
     "output_type": "execute_result"
    }
   ],
   "source": [
    "data1.describe()"
   ]
  },
  {
   "cell_type": "code",
   "execution_count": 123,
   "metadata": {
    "colab": {
     "base_uri": "https://localhost:8080/"
    },
    "id": "tBaGtIDXjXMF",
    "outputId": "ef0fa15a-fbca-4703-911c-a60ad10600dc"
   },
   "outputs": [
    {
     "data": {
      "text/plain": [
       "State                   object\n",
       "Account_length          object\n",
       "Area_code               object\n",
       "Phone                   object\n",
       "International_plan      object\n",
       "VMail_plan              object\n",
       "Vmail_message           object\n",
       "Day_mins                object\n",
       "Day_calls               object\n",
       "Day_charge              object\n",
       "Eve_mins                object\n",
       "Eve_calls               object\n",
       "Eve_charge              object\n",
       "Night_mins              object\n",
       "Night_calls             object\n",
       "Night_charge            object\n",
       "International_mins      object\n",
       "International_calls     object\n",
       "International_charge    object\n",
       "Cust_serv_calls         object\n",
       "Churn                   object\n",
       "dtype: object"
      ]
     },
     "execution_count": 123,
     "metadata": {},
     "output_type": "execute_result"
    }
   ],
   "source": [
    "data1.dtypes"
   ]
  },
  {
   "cell_type": "code",
   "execution_count": 124,
   "metadata": {
    "colab": {
     "base_uri": "https://localhost:8080/"
    },
    "id": "UPcjk1GSwlFp",
    "outputId": "5ec15773-bfdd-4883-a19c-eb8585bb0852"
   },
   "outputs": [
    {
     "name": "stdout",
     "output_type": "stream",
     "text": [
      "<class 'pandas.core.frame.DataFrame'>\n",
      "RangeIndex: 4617 entries, 0 to 4616\n",
      "Data columns (total 21 columns):\n",
      " #   Column                Non-Null Count  Dtype \n",
      "---  ------                --------------  ----- \n",
      " 0   State                 4617 non-null   object\n",
      " 1   Account_length        4617 non-null   object\n",
      " 2   Area_code             4617 non-null   object\n",
      " 3   Phone                 4617 non-null   object\n",
      " 4   International_plan    4617 non-null   object\n",
      " 5   VMail_plan            4617 non-null   object\n",
      " 6   Vmail_message         4617 non-null   object\n",
      " 7   Day_mins              4617 non-null   object\n",
      " 8   Day_calls             4617 non-null   object\n",
      " 9   Day_charge            4617 non-null   object\n",
      " 10  Eve_mins              4617 non-null   object\n",
      " 11  Eve_calls             4617 non-null   object\n",
      " 12  Eve_charge            4617 non-null   object\n",
      " 13  Night_mins            4617 non-null   object\n",
      " 14  Night_calls           4617 non-null   object\n",
      " 15  Night_charge          4617 non-null   object\n",
      " 16  International_mins    4617 non-null   object\n",
      " 17  International_calls   4617 non-null   object\n",
      " 18  International_charge  4617 non-null   object\n",
      " 19  Cust_serv_calls       4617 non-null   object\n",
      " 20  Churn                 4617 non-null   object\n",
      "dtypes: object(21)\n",
      "memory usage: 757.6+ KB\n"
     ]
    }
   ],
   "source": [
    "data1.info()"
   ]
  },
  {
   "cell_type": "code",
   "execution_count": 125,
   "metadata": {
    "colab": {
     "base_uri": "https://localhost:8080/"
    },
    "id": "Ibm38D5lyL31",
    "outputId": "3112bea8-effe-4572-ae65-cf5218e0f3fa"
   },
   "outputs": [
    {
     "data": {
      "text/plain": [
       "State                     51\n",
       "Account_length           218\n",
       "Area_code                  3\n",
       "Phone                   4617\n",
       "International_plan         2\n",
       "VMail_plan                 2\n",
       "Vmail_message             47\n",
       "Day_mins                1901\n",
       "Day_calls                123\n",
       "Day_charge              1901\n",
       "Eve_mins                1833\n",
       "Eve_calls                125\n",
       "Eve_charge              1621\n",
       "Night_mins              1813\n",
       "Night_calls              130\n",
       "Night_charge            1012\n",
       "International_mins       168\n",
       "International_calls       21\n",
       "International_charge     168\n",
       "Cust_serv_calls           10\n",
       "Churn                      2\n",
       "dtype: int64"
      ]
     },
     "execution_count": 125,
     "metadata": {},
     "output_type": "execute_result"
    }
   ],
   "source": [
    "data1.nunique()"
   ]
  },
  {
   "cell_type": "code",
   "execution_count": 126,
   "metadata": {
    "colab": {
     "base_uri": "https://localhost:8080/"
    },
    "id": "z-UQkemozj8F",
    "outputId": "fab0eb27-65cc-4eb7-e114-3abfb4bba1fe"
   },
   "outputs": [
    {
     "data": {
      "text/plain": [
       "0"
      ]
     },
     "execution_count": 126,
     "metadata": {},
     "output_type": "execute_result"
    }
   ],
   "source": [
    "data1.duplicated().sum()"
   ]
  },
  {
   "cell_type": "code",
   "execution_count": 127,
   "metadata": {
    "colab": {
     "base_uri": "https://localhost:8080/"
    },
    "id": "bhvYFGxZ2OP6",
    "outputId": "8daec86c-c60d-414f-c98e-e3b4f7e5ea1d"
   },
   "outputs": [
    {
     "data": {
      "text/plain": [
       "State                   0\n",
       "Account_length          0\n",
       "Area_code               0\n",
       "Phone                   0\n",
       "International_plan      0\n",
       "VMail_plan              0\n",
       "Vmail_message           0\n",
       "Day_mins                0\n",
       "Day_calls               0\n",
       "Day_charge              0\n",
       "Eve_mins                0\n",
       "Eve_calls               0\n",
       "Eve_charge              0\n",
       "Night_mins              0\n",
       "Night_calls             0\n",
       "Night_charge            0\n",
       "International_mins      0\n",
       "International_calls     0\n",
       "International_charge    0\n",
       "Cust_serv_calls         0\n",
       "Churn                   0\n",
       "dtype: int64"
      ]
     },
     "execution_count": 127,
     "metadata": {},
     "output_type": "execute_result"
    }
   ],
   "source": [
    "data1.isna().sum()"
   ]
  },
  {
   "cell_type": "markdown",
   "metadata": {
    "id": "rHYRO8ihhzjJ"
   },
   "source": [
    "**EXPLARATORY DATA ANALYSIS**:"
   ]
  },
  {
   "cell_type": "code",
   "execution_count": 128,
   "metadata": {
    "colab": {
     "base_uri": "https://localhost:8080/"
    },
    "id": "rNB89lKZvhzB",
    "outputId": "422f5030-4310-4377-cff4-1ebb463831d7"
   },
   "outputs": [
    {
     "data": {
      "text/plain": [
       "Index(['State', 'Account_length', 'Area_code', 'Phone', 'International_plan',\n",
       "       'VMail_plan', 'Vmail_message', 'Day_mins', 'Day_calls', 'Day_charge',\n",
       "       'Eve_mins', 'Eve_calls', 'Eve_charge', 'Night_mins', 'Night_calls',\n",
       "       'Night_charge', 'International_mins', 'International_calls',\n",
       "       'International_charge', 'Cust_serv_calls', 'Churn'],\n",
       "      dtype='object')"
      ]
     },
     "execution_count": 128,
     "metadata": {},
     "output_type": "execute_result"
    }
   ],
   "source": [
    "data1.columns"
   ]
  },
  {
   "cell_type": "code",
   "execution_count": 129,
   "metadata": {
    "id": "D05zS0o8-Z4B"
   },
   "outputs": [],
   "source": [
    "num_data = data1[['Account_length', 'Area_code', 'Phone', 'Vmail_message', 'Day_mins', 'Day_calls', 'Day_charge',\n",
    "       'Eve_mins', 'Eve_calls', 'Eve_charge', 'Night_mins', 'Night_calls',\n",
    "       'Night_charge', 'International_mins', 'International_calls',\n",
    "       'International_charge', 'Cust_serv_calls']]"
   ]
  },
  {
   "cell_type": "markdown",
   "metadata": {
    "id": "WQbJiF2QzGo7"
   },
   "source": [
    "UNIVARIATE ANALYSIS :\n",
    "\n",
    "  *  To check features using various statistical methods and visualizations\n",
    "   \n",
    "   *  Missing values\n",
    "  "
   ]
  },
  {
   "cell_type": "code",
   "execution_count": 28,
   "metadata": {
    "colab": {
     "base_uri": "https://localhost:8080/"
    },
    "id": "nOdfjedWiIoC",
    "outputId": "cdbd8146-44a6-4f1e-e785-a555aeddb823"
   },
   "outputs": [
    {
     "name": "stdout",
     "output_type": "stream",
     "text": [
      "Requirement already satisfied: sweetviz in c:\\users\\acer\\anaconda3\\lib\\site-packages (2.1.4)\n",
      "Requirement already satisfied: matplotlib>=3.1.3 in c:\\users\\acer\\anaconda3\\lib\\site-packages (from sweetviz) (3.5.1)\n",
      "Requirement already satisfied: tqdm>=4.43.0 in c:\\users\\acer\\anaconda3\\lib\\site-packages (from sweetviz) (4.64.0)\n",
      "Requirement already satisfied: importlib-resources>=1.2.0 in c:\\users\\acer\\anaconda3\\lib\\site-packages (from sweetviz) (5.10.0)\n",
      "Requirement already satisfied: jinja2>=2.11.1 in c:\\users\\acer\\anaconda3\\lib\\site-packages (from sweetviz) (2.11.3)\n",
      "Requirement already satisfied: scipy>=1.3.2 in c:\\users\\acer\\anaconda3\\lib\\site-packages (from sweetviz) (1.7.3)\n",
      "Requirement already satisfied: numpy>=1.16.0 in c:\\users\\acer\\anaconda3\\lib\\site-packages (from sweetviz) (1.21.5)\n",
      "Requirement already satisfied: pandas!=1.0.0,!=1.0.1,!=1.0.2,>=0.25.3 in c:\\users\\acer\\anaconda3\\lib\\site-packages (from sweetviz) (1.4.2)\n",
      "Requirement already satisfied: zipp>=3.1.0 in c:\\users\\acer\\anaconda3\\lib\\site-packages (from importlib-resources>=1.2.0->sweetviz) (3.7.0)\n",
      "Requirement already satisfied: MarkupSafe>=0.23 in c:\\users\\acer\\anaconda3\\lib\\site-packages (from jinja2>=2.11.1->sweetviz) (2.0.1)\n",
      "Requirement already satisfied: fonttools>=4.22.0 in c:\\users\\acer\\anaconda3\\lib\\site-packages (from matplotlib>=3.1.3->sweetviz) (4.25.0)\n",
      "Requirement already satisfied: packaging>=20.0 in c:\\users\\acer\\anaconda3\\lib\\site-packages (from matplotlib>=3.1.3->sweetviz) (21.3)\n",
      "Requirement already satisfied: pillow>=6.2.0 in c:\\users\\acer\\anaconda3\\lib\\site-packages (from matplotlib>=3.1.3->sweetviz) (9.0.1)\n",
      "Requirement already satisfied: pyparsing>=2.2.1 in c:\\users\\acer\\anaconda3\\lib\\site-packages (from matplotlib>=3.1.3->sweetviz) (3.0.4)\n",
      "Requirement already satisfied: kiwisolver>=1.0.1 in c:\\users\\acer\\anaconda3\\lib\\site-packages (from matplotlib>=3.1.3->sweetviz) (1.3.2)\n",
      "Requirement already satisfied: python-dateutil>=2.7 in c:\\users\\acer\\anaconda3\\lib\\site-packages (from matplotlib>=3.1.3->sweetviz) (2.8.2)\n",
      "Requirement already satisfied: cycler>=0.10 in c:\\users\\acer\\anaconda3\\lib\\site-packages (from matplotlib>=3.1.3->sweetviz) (0.11.0)\n",
      "Requirement already satisfied: pytz>=2020.1 in c:\\users\\acer\\anaconda3\\lib\\site-packages (from pandas!=1.0.0,!=1.0.1,!=1.0.2,>=0.25.3->sweetviz) (2021.3)\n",
      "Requirement already satisfied: six>=1.5 in c:\\users\\acer\\anaconda3\\lib\\site-packages (from python-dateutil>=2.7->matplotlib>=3.1.3->sweetviz) (1.16.0)\n",
      "Requirement already satisfied: colorama in c:\\users\\acer\\anaconda3\\lib\\site-packages (from tqdm>=4.43.0->sweetviz) (0.4.4)\n"
     ]
    }
   ],
   "source": [
    "!pip install sweetviz\n"
   ]
  },
  {
   "cell_type": "code",
   "execution_count": 29,
   "metadata": {
    "colab": {
     "base_uri": "https://localhost:8080/",
     "height": 66,
     "referenced_widgets": [
      "d6c65e6c4e0747758ed6ecc19e4bbd68",
      "28771a09c1494394ba16779dece08739",
      "e374e502f0d84b619993b437d1993948",
      "439e260d935d437bbb53e9b5936b1ac7",
      "14b0293b78394cdaba6242ad5baa5347",
      "3757932dae2d41bd8c28a07b3cc152ac",
      "4b55581178cf418296049b20cf90a7b2",
      "766a8301317f483b9cc4258df842f3fb",
      "47d8b51bbc274f278ba99daec8875c28",
      "4c97f5ef21574acb9c86079a62c6354a",
      "0edb0d6066c74788a1cff40fa433d07c"
     ]
    },
    "id": "ACobE8GsiSkY",
    "outputId": "4970cf5d-92c4-4232-c538-2c3631900a62"
   },
   "outputs": [
    {
     "data": {
      "application/vnd.jupyter.widget-view+json": {
       "model_id": "42db27249b4d4636b34dfb0fbd0247f5",
       "version_major": 2,
       "version_minor": 0
      },
      "text/plain": [
       "                                             |          | [  0%]   00:00 -> (? left)"
      ]
     },
     "metadata": {},
     "output_type": "display_data"
    },
    {
     "name": "stdout",
     "output_type": "stream",
     "text": [
      "Report SWEETVIZ_REPORT.html was generated! NOTEBOOK/COLAB USERS: the web browser MAY not pop up, regardless, the report IS saved in your notebook/colab files.\n"
     ]
    }
   ],
   "source": [
    "import sweetviz as sv\n",
    "report = sv.analyze(data1)\n",
    "report.show_html()"
   ]
  },
  {
   "cell_type": "markdown",
   "metadata": {
    "id": "iyeOERySHAM-"
   },
   "source": [
    "FEATURES:\n",
    "* STATE:          \n",
    " - all unique name of states\n",
    "* ACCOUNT LENGTH:\n",
    " - Length of the account\n",
    "* AREA CODE:     \n",
    " - Code number giving to states\n",
    "* PHONE:\n",
    " - Phone number\n",
    "* International Plan:\n",
    " - YES (International plan is subscribed)\n",
    " - NO  (International plan is not subscribed)\n",
    "* VOICE MAIL PLAN:\n",
    " - YES (Subscribtion for voice mail)\n",
    " - NO (Not subscribed for voice mail)\n",
    "* VOICE MAIL MESSAGE  \n",
    " - No of voice mail messages ranging from (0 to 50)\n",
    "* TOTAL DAY MINUTES:\n",
    " - Total minutes spent in morning\n",
    "* TOTAL DAY CALLS:\n",
    " - Total no of calls made in morning\n",
    "* TOTAL DAY CHARGE:\n",
    " - Total no of charge to customers\n",
    "* TOTAL EVE MINUTES:\n",
    "  - Total minutes spent in evening\n",
    "* TOTAL EVE CALLS:\n",
    " - Total calls made in evening\n",
    "* TOTAL EVE CHARGE :\n",
    "  - Total charge to customers in evening\n",
    "* TOTAL NIGHT MINUTES:\n",
    "  - Total minutes spent in night\n",
    "* TOTAL NIGHT CALLS:\n",
    "  - Total calls made in night\n",
    "* TOTAL NIGHT CHARGE :\n",
    "  - Total charge to customers in night\n",
    "*   INTERNATIONAL MINUTES:\n",
    "  - Total minutes spent in International calls\n",
    "* TOTAL INTERNATIONAL CALLS:\n",
    "  - Total calls made in International service  \n",
    "* TOTAL INTERNATIONAL CHARGE :\n",
    "  - Total charge to customers for International Customers\n",
    "* CUSTOMER SERVICE CALLS:\n",
    "  - Total no of customer service calls made\n",
    "* CHURN:\n",
    "  - TRUE (churned customers)\n",
    "  - FALSE (retained customers)"
   ]
  },
  {
   "cell_type": "markdown",
   "metadata": {},
   "source": [
    "### **INSIGHTS FROM UNIVARIATE ANALYSIS :**"
   ]
  },
  {
   "cell_type": "markdown",
   "metadata": {
    "id": "CnM62mThCfF4"
   },
   "source": [
    "\n",
    "\n",
    "*  **3% of customers** are from **WV**(west virginia) state\n",
    "\n",
    "*  **Most** of the **states** are other states with **60%**.\n",
    "* And rest of the states are 2%.\n",
    "* **50%** of **area code** is **415**.\n",
    "* Area code with 408 and 510 are **25%**.\n",
    "* **90%** of customers have **not** taken **International plan.**\n",
    "* Only 10% have subscribed International plan.\n",
    "* **27%** of customers have **voice mail subscribtion** anfd the rest 73% have not subscribed.\n",
    "* zero voice mail messege are seen in 73% of customers.\n",
    "* **Highest minutes** spent in day is **154 minutes**, which is found in less than 1% of customers.\n",
    "* **102 calls** is the **highest** number of **calls made in a day**\n",
    "* **26.18** is the **highest charge** in a day.\n",
    "* **Highest minutes** spent in evening is **169.9 minutes**.\n",
    "* **111 no of customers** do evening calls, which is **2% of customers** and is highest.\n",
    "* 14.25 is the charge paid many times\n",
    "* **194.3 minutes** is highly occured **night minutes**.\n",
    "* **115 customers** did **105 night calls** that is the highest no of calls.\n",
    "* Less than 1% of customers have night charges.\n",
    "* Mostly occured **international minutes** is **9.8 minutes**.\n",
    "* **20%** of customers(925)  has done **3 international calls**.\n",
    "* Highly occured international charge is 2.65.\n",
    "* 365 customers had 1 survey call.\n",
    "* **86% of customers**  will **not churn** or leave , the rest **14% will churn**."
   ]
  },
  {
   "cell_type": "markdown",
   "metadata": {
    "id": "36rGcTsyLQHI"
   },
   "source": [
    "**DATA PREPROCESSING**"
   ]
  },
  {
   "cell_type": "markdown",
   "metadata": {
    "id": "hVNSRez0MGF4"
   },
   "source": [
    "* PHONE\n",
    "\n",
    " * Column \"Phone\" has unwanted non digit character\n",
    " * We will remove using Regular Expression method"
   ]
  },
  {
   "cell_type": "code",
   "execution_count": 130,
   "metadata": {
    "id": "rq-xB0VGMG8y"
   },
   "outputs": [],
   "source": [
    "data1['Phone'] = data1['Phone'].str.replace(r'\\D', '')"
   ]
  },
  {
   "cell_type": "code",
   "execution_count": 131,
   "metadata": {
    "colab": {
     "base_uri": "https://localhost:8080/"
    },
    "id": "T6EttEwBMS3n",
    "outputId": "0f44dce4-97ea-41c3-eef7-b66a681ffa3d"
   },
   "outputs": [
    {
     "data": {
      "text/plain": [
       "dtype('O')"
      ]
     },
     "execution_count": 131,
     "metadata": {},
     "output_type": "execute_result"
    }
   ],
   "source": [
    "data1.Phone.dtype"
   ]
  },
  {
   "cell_type": "markdown",
   "metadata": {
    "id": "OcSfJb0yM4Kh"
   },
   "source": [
    "* Here we label encode columns with categorical data\n",
    "\n",
    "*  Columns to be encoded for further analysis of dataset using label encodeing:\n",
    "\n",
    "    * State\n",
    "    * International_plan\n",
    "    * VMail_plan\n",
    "    * Churn"
   ]
  },
  {
   "cell_type": "code",
   "execution_count": 132,
   "metadata": {
    "id": "9QqnjDLxuyt-"
   },
   "outputs": [],
   "source": [
    "from sklearn.preprocessing import LabelEncoder\n",
    "LE = LabelEncoder()\n",
    "columns_to_be_labelled =['State','International_plan','VMail_plan','Churn']\n",
    "for column in columns_to_be_labelled:\n",
    "    data1[column] = LE.fit_transform(data1[column])"
   ]
  },
  {
   "cell_type": "code",
   "execution_count": 133,
   "metadata": {
    "colab": {
     "base_uri": "https://localhost:8080/"
    },
    "id": "2pnOHG39O-ws",
    "outputId": "f33d8765-d073-49a7-c04a-4f78e01320c5"
   },
   "outputs": [
    {
     "data": {
      "text/plain": [
       "State                    int32\n",
       "Account_length          object\n",
       "Area_code               object\n",
       "Phone                   object\n",
       "International_plan       int32\n",
       "VMail_plan               int32\n",
       "Vmail_message           object\n",
       "Day_mins                object\n",
       "Day_calls               object\n",
       "Day_charge              object\n",
       "Eve_mins                object\n",
       "Eve_calls               object\n",
       "Eve_charge              object\n",
       "Night_mins              object\n",
       "Night_calls             object\n",
       "Night_charge            object\n",
       "International_mins      object\n",
       "International_calls     object\n",
       "International_charge    object\n",
       "Cust_serv_calls         object\n",
       "Churn                    int32\n",
       "dtype: object"
      ]
     },
     "execution_count": 133,
     "metadata": {},
     "output_type": "execute_result"
    }
   ],
   "source": [
    "data1.dtypes"
   ]
  },
  {
   "cell_type": "markdown",
   "metadata": {
    "id": "c31X0DeJwwvA"
   },
   "source": [
    "* Coverting few numeric datatype columns into integer, which are represented as object type\n"
   ]
  },
  {
   "cell_type": "code",
   "execution_count": 134,
   "metadata": {
    "id": "pi7Q67RVwU98"
   },
   "outputs": [],
   "source": [
    "numeric_columns = data1.columns[1:]\n",
    "data1[numeric_columns] = data1[numeric_columns].apply(pd.to_numeric, errors='coerce')"
   ]
  },
  {
   "cell_type": "code",
   "execution_count": 135,
   "metadata": {
    "colab": {
     "base_uri": "https://localhost:8080/"
    },
    "id": "-8-12YYOwgas",
    "outputId": "296312ec-a0dd-4cc3-a47d-3c15c5f345c1"
   },
   "outputs": [
    {
     "data": {
      "text/plain": [
       "State                     int32\n",
       "Account_length            int64\n",
       "Area_code                 int64\n",
       "Phone                     int64\n",
       "International_plan        int32\n",
       "VMail_plan                int32\n",
       "Vmail_message             int64\n",
       "Day_mins                float64\n",
       "Day_calls                 int64\n",
       "Day_charge              float64\n",
       "Eve_mins                float64\n",
       "Eve_calls                 int64\n",
       "Eve_charge              float64\n",
       "Night_mins              float64\n",
       "Night_calls               int64\n",
       "Night_charge            float64\n",
       "International_mins      float64\n",
       "International_calls       int64\n",
       "International_charge    float64\n",
       "Cust_serv_calls           int64\n",
       "Churn                     int32\n",
       "dtype: object"
      ]
     },
     "execution_count": 135,
     "metadata": {},
     "output_type": "execute_result"
    }
   ],
   "source": [
    "data1.dtypes"
   ]
  },
  {
   "cell_type": "markdown",
   "metadata": {
    "id": "qFdKCr4Hz7em"
   },
   "source": [
    "**MODELLING**:"
   ]
  },
  {
   "cell_type": "markdown",
   "metadata": {
    "id": "lrX1r9up25oE"
   },
   "source": [
    "* SPLITTING INDEPENDENT NAD DEPENDENT VARIABLE"
   ]
  },
  {
   "cell_type": "code",
   "execution_count": 136,
   "metadata": {
    "colab": {
     "base_uri": "https://localhost:8080/",
     "height": 270
    },
    "id": "N3_ms5lV3LVu",
    "outputId": "c37b6a06-938c-4c3a-f923-739714c22f89"
   },
   "outputs": [
    {
     "data": {
      "text/html": [
       "<div>\n",
       "<style scoped>\n",
       "    .dataframe tbody tr th:only-of-type {\n",
       "        vertical-align: middle;\n",
       "    }\n",
       "\n",
       "    .dataframe tbody tr th {\n",
       "        vertical-align: top;\n",
       "    }\n",
       "\n",
       "    .dataframe thead th {\n",
       "        text-align: right;\n",
       "    }\n",
       "</style>\n",
       "<table border=\"1\" class=\"dataframe\">\n",
       "  <thead>\n",
       "    <tr style=\"text-align: right;\">\n",
       "      <th></th>\n",
       "      <th>State</th>\n",
       "      <th>Account_length</th>\n",
       "      <th>Area_code</th>\n",
       "      <th>Phone</th>\n",
       "      <th>International_plan</th>\n",
       "      <th>VMail_plan</th>\n",
       "      <th>Vmail_message</th>\n",
       "      <th>Day_mins</th>\n",
       "      <th>Day_calls</th>\n",
       "      <th>Day_charge</th>\n",
       "      <th>Eve_mins</th>\n",
       "      <th>Eve_calls</th>\n",
       "      <th>Eve_charge</th>\n",
       "      <th>Night_mins</th>\n",
       "      <th>Night_calls</th>\n",
       "      <th>Night_charge</th>\n",
       "      <th>International_mins</th>\n",
       "      <th>International_calls</th>\n",
       "      <th>International_charge</th>\n",
       "      <th>Cust_serv_calls</th>\n",
       "      <th>Churn</th>\n",
       "    </tr>\n",
       "  </thead>\n",
       "  <tbody>\n",
       "    <tr>\n",
       "      <th>0</th>\n",
       "      <td>16</td>\n",
       "      <td>128</td>\n",
       "      <td>415</td>\n",
       "      <td>3824657</td>\n",
       "      <td>0</td>\n",
       "      <td>1</td>\n",
       "      <td>25</td>\n",
       "      <td>265.1</td>\n",
       "      <td>110</td>\n",
       "      <td>45.07</td>\n",
       "      <td>197.4</td>\n",
       "      <td>99</td>\n",
       "      <td>16.78</td>\n",
       "      <td>244.7</td>\n",
       "      <td>91</td>\n",
       "      <td>11.01</td>\n",
       "      <td>10.0</td>\n",
       "      <td>3</td>\n",
       "      <td>2.70</td>\n",
       "      <td>1</td>\n",
       "      <td>0</td>\n",
       "    </tr>\n",
       "    <tr>\n",
       "      <th>1</th>\n",
       "      <td>35</td>\n",
       "      <td>107</td>\n",
       "      <td>415</td>\n",
       "      <td>3717191</td>\n",
       "      <td>0</td>\n",
       "      <td>1</td>\n",
       "      <td>26</td>\n",
       "      <td>161.6</td>\n",
       "      <td>123</td>\n",
       "      <td>27.47</td>\n",
       "      <td>195.5</td>\n",
       "      <td>103</td>\n",
       "      <td>16.62</td>\n",
       "      <td>254.4</td>\n",
       "      <td>103</td>\n",
       "      <td>11.45</td>\n",
       "      <td>13.7</td>\n",
       "      <td>3</td>\n",
       "      <td>3.70</td>\n",
       "      <td>1</td>\n",
       "      <td>0</td>\n",
       "    </tr>\n",
       "    <tr>\n",
       "      <th>2</th>\n",
       "      <td>31</td>\n",
       "      <td>137</td>\n",
       "      <td>415</td>\n",
       "      <td>3581921</td>\n",
       "      <td>0</td>\n",
       "      <td>0</td>\n",
       "      <td>0</td>\n",
       "      <td>243.4</td>\n",
       "      <td>114</td>\n",
       "      <td>41.38</td>\n",
       "      <td>121.2</td>\n",
       "      <td>110</td>\n",
       "      <td>10.30</td>\n",
       "      <td>162.6</td>\n",
       "      <td>104</td>\n",
       "      <td>7.32</td>\n",
       "      <td>12.2</td>\n",
       "      <td>5</td>\n",
       "      <td>3.29</td>\n",
       "      <td>0</td>\n",
       "      <td>0</td>\n",
       "    </tr>\n",
       "    <tr>\n",
       "      <th>3</th>\n",
       "      <td>35</td>\n",
       "      <td>84</td>\n",
       "      <td>408</td>\n",
       "      <td>3759999</td>\n",
       "      <td>1</td>\n",
       "      <td>0</td>\n",
       "      <td>0</td>\n",
       "      <td>299.4</td>\n",
       "      <td>71</td>\n",
       "      <td>50.90</td>\n",
       "      <td>61.9</td>\n",
       "      <td>88</td>\n",
       "      <td>5.26</td>\n",
       "      <td>196.9</td>\n",
       "      <td>89</td>\n",
       "      <td>8.86</td>\n",
       "      <td>6.6</td>\n",
       "      <td>7</td>\n",
       "      <td>1.78</td>\n",
       "      <td>2</td>\n",
       "      <td>0</td>\n",
       "    </tr>\n",
       "    <tr>\n",
       "      <th>4</th>\n",
       "      <td>36</td>\n",
       "      <td>75</td>\n",
       "      <td>415</td>\n",
       "      <td>3306626</td>\n",
       "      <td>1</td>\n",
       "      <td>0</td>\n",
       "      <td>0</td>\n",
       "      <td>166.7</td>\n",
       "      <td>113</td>\n",
       "      <td>28.34</td>\n",
       "      <td>148.3</td>\n",
       "      <td>122</td>\n",
       "      <td>12.61</td>\n",
       "      <td>186.9</td>\n",
       "      <td>121</td>\n",
       "      <td>8.41</td>\n",
       "      <td>10.1</td>\n",
       "      <td>3</td>\n",
       "      <td>2.73</td>\n",
       "      <td>3</td>\n",
       "      <td>0</td>\n",
       "    </tr>\n",
       "  </tbody>\n",
       "</table>\n",
       "</div>"
      ],
      "text/plain": [
       "   State  Account_length  Area_code    Phone  International_plan  VMail_plan  \\\n",
       "0     16             128        415  3824657                   0           1   \n",
       "1     35             107        415  3717191                   0           1   \n",
       "2     31             137        415  3581921                   0           0   \n",
       "3     35              84        408  3759999                   1           0   \n",
       "4     36              75        415  3306626                   1           0   \n",
       "\n",
       "   Vmail_message  Day_mins  Day_calls  Day_charge  Eve_mins  Eve_calls  \\\n",
       "0             25     265.1        110       45.07     197.4         99   \n",
       "1             26     161.6        123       27.47     195.5        103   \n",
       "2              0     243.4        114       41.38     121.2        110   \n",
       "3              0     299.4         71       50.90      61.9         88   \n",
       "4              0     166.7        113       28.34     148.3        122   \n",
       "\n",
       "   Eve_charge  Night_mins  Night_calls  Night_charge  International_mins  \\\n",
       "0       16.78       244.7           91         11.01                10.0   \n",
       "1       16.62       254.4          103         11.45                13.7   \n",
       "2       10.30       162.6          104          7.32                12.2   \n",
       "3        5.26       196.9           89          8.86                 6.6   \n",
       "4       12.61       186.9          121          8.41                10.1   \n",
       "\n",
       "   International_calls  International_charge  Cust_serv_calls  Churn  \n",
       "0                    3                  2.70                1      0  \n",
       "1                    3                  3.70                1      0  \n",
       "2                    5                  3.29                0      0  \n",
       "3                    7                  1.78                2      0  \n",
       "4                    3                  2.73                3      0  "
      ]
     },
     "execution_count": 136,
     "metadata": {},
     "output_type": "execute_result"
    }
   ],
   "source": [
    "data1.head()"
   ]
  },
  {
   "cell_type": "code",
   "execution_count": 137,
   "metadata": {
    "id": "n9z4aHnE3gyF"
   },
   "outputs": [],
   "source": [
    "X=data1.iloc[:,0:-1]  #independent variable\n",
    "y=data1.Churn"
   ]
  },
  {
   "cell_type": "markdown",
   "metadata": {
    "id": "_iXmRkjQQBEa"
   },
   "source": [
    "* X - Independent variables\n",
    "* Y - Dependent variable"
   ]
  },
  {
   "cell_type": "code",
   "execution_count": 138,
   "metadata": {
    "id": "s5-PYS4c7TGf"
   },
   "outputs": [],
   "source": [
    "np.random.seed(42)\n",
    "X_train, X_test, y_train, y_test = train_test_split(X, y, test_size=0.2)"
   ]
  },
  {
   "cell_type": "code",
   "execution_count": 139,
   "metadata": {
    "colab": {
     "base_uri": "https://localhost:8080/"
    },
    "id": "gVA63mLX7XT5",
    "outputId": "400fdc74-1fa4-47a7-b1c0-15023261ead5"
   },
   "outputs": [
    {
     "name": "stdout",
     "output_type": "stream",
     "text": [
      "(3693, 20) (3693,) (924, 20) (924,)\n"
     ]
    }
   ],
   "source": [
    "print(X_train.shape, y_train.shape, X_test.shape, y_test.shape)"
   ]
  },
  {
   "cell_type": "markdown",
   "metadata": {
    "id": "Iaoqn7ZR_g5a"
   },
   "source": [
    "BALANCING THE DATA"
   ]
  },
  {
   "cell_type": "code",
   "execution_count": 140,
   "metadata": {
    "id": "aXoRLSZG_ck7"
   },
   "outputs": [],
   "source": [
    "sc=SMOTE()\n",
    "X_smote,Y_smote=sc.fit_resample(X_train,y_train)"
   ]
  },
  {
   "cell_type": "code",
   "execution_count": 141,
   "metadata": {},
   "outputs": [
    {
     "name": "stdout",
     "output_type": "stream",
     "text": [
      "    feature_names       Scores\n",
      "7        Day_mins  9516.341908\n",
      "6   Vmail_message  3235.996233\n",
      "9      Day_charge  1617.724836\n",
      "10       Eve_mins  1126.708428\n",
      "5      VMail_plan   530.520796\n"
     ]
    }
   ],
   "source": [
    "from sklearn.feature_selection import SelectKBest\n",
    "from sklearn.feature_selection import chi2\n",
    "\n",
    "bestfeatures = SelectKBest(score_func=chi2,k=15)\n",
    "fit = bestfeatures.fit(X_smote,Y_smote)\n",
    "\n",
    "dfscores = pd.DataFrame(fit.scores_)\n",
    "dfcolumns = pd.DataFrame(X_smote.columns)\n",
    "\n",
    "featurescores = pd.concat([dfcolumns,dfscores],axis=1)\n",
    "featurescores.columns = ['feature_names','Scores']\n",
    "\n",
    "print(featurescores.nlargest(5,'Scores'))"
   ]
  },
  {
   "cell_type": "code",
   "execution_count": 142,
   "metadata": {},
   "outputs": [
    {
     "data": {
      "image/png": "[encoded data removed]",
      "text/plain": [
       "<Figure size 864x864 with 1 Axes>"
      ]
     },
     "metadata": {},
     "output_type": "display_data"
    }
   ],
   "source": [
    "plt.style.use('ggplot')\n",
    "ax = X.corrwith(y).plot(kind='barh', grid=True, figsize=(12,12),color='indigo')\n",
    "plt.title(\"Correlation with target variable\\n\", size=20,color=\"brown\")\n",
    "plt.xticks(size=15)\n",
    "plt.yticks(size=15)\n",
    "ax.xaxis.label.set_color('purple')\n",
    "ax.yaxis.label.set_color('brown')\n",
    "plt.show()"
   ]
  },
  {
   "cell_type": "markdown",
   "metadata": {},
   "source": [
    "### * Columns that impact target variable in positive way"
   ]
  },
  {
   "cell_type": "markdown",
   "metadata": {},
   "source": [
    "* International plan \n",
    "* customer service calls \n",
    "* Day mins\n",
    "* Day charge "
   ]
  },
  {
   "cell_type": "markdown",
   "metadata": {
    "id": "bRs84te4BTTP"
   },
   "source": [
    "**FEATURE SELECTION**"
   ]
  },
  {
   "cell_type": "code",
   "execution_count": 43,
   "metadata": {
    "colab": {
     "base_uri": "https://localhost:8080/",
     "height": 1000
    },
    "id": "dwPQg-jsBL0a",
    "outputId": "e3561fc5-4f13-4112-d43f-a792d575df1e"
   },
   "outputs": [
    {
     "data": {
      "image/png": "[encoded data removed]",
      "text/plain": [
       "<Figure size 1500x1500 with 2 Axes>"
      ]
     },
     "metadata": {},
     "output_type": "display_data"
    }
   ],
   "source": [
    "plt.figure(figsize=(15,15))\n",
    "cor = X_smote.corr()\n",
    "sns.heatmap(cor, annot=True, cmap=plt.cm.YlGnBu)\n",
    "plt.show()"
   ]
  },
  {
   "cell_type": "markdown",
   "metadata": {
    "id": "iHAHrnHNBmwC"
   },
   "source": [
    "* Above features impact (target variable) to churn\n",
    "* Lets drop any 3 features, as there show highly correlated features\n",
    "    "
   ]
  },
  {
   "cell_type": "code",
   "execution_count": 143,
   "metadata": {
    "id": "byGCKi5pKMNe"
   },
   "outputs": [],
   "source": [
    "def correlation(dataset, threshold):\n",
    "    col_corr = set()  # Set of all the names of correlated columns\n",
    "    corr_matrix = dataset.corr()\n",
    "    for i in range(len(corr_matrix.columns)):\n",
    "        for j in range(i):\n",
    "            if abs(corr_matrix.iloc[i, j]) > threshold: # we are interested in absolute coeff value\n",
    "                colname = corr_matrix.columns[i]  # getting the name of column\n",
    "                col_corr.add(colname)\n",
    "    return col_corr"
   ]
  },
  {
   "cell_type": "code",
   "execution_count": 144,
   "metadata": {
    "colab": {
     "base_uri": "https://localhost:8080/"
    },
    "id": "1keNc4QhKmYw",
    "outputId": "a1593b18-bfa8-40cf-aa43-5bdceeb84544"
   },
   "outputs": [
    {
     "data": {
      "text/plain": [
       "(4617, 21)"
      ]
     },
     "execution_count": 144,
     "metadata": {},
     "output_type": "execute_result"
    }
   ],
   "source": [
    "data1.shape"
   ]
  },
  {
   "cell_type": "code",
   "execution_count": 145,
   "metadata": {
    "colab": {
     "base_uri": "https://localhost:8080/"
    },
    "id": "jKH6TMX68bNE",
    "outputId": "0caacbf2-63d9-41ba-87fd-b5cce8e918a7"
   },
   "outputs": [
    {
     "data": {
      "text/plain": [
       "4"
      ]
     },
     "execution_count": 145,
     "metadata": {},
     "output_type": "execute_result"
    }
   ],
   "source": [
    "corr_features = correlation(X_smote, 0.9)\n",
    "len(set(corr_features))"
   ]
  },
  {
   "cell_type": "code",
   "execution_count": 146,
   "metadata": {
    "colab": {
     "base_uri": "https://localhost:8080/"
    },
    "id": "2lkG-N3h8f0u",
    "outputId": "46e3ea3d-42fb-4ebc-e783-1f03455b6db7"
   },
   "outputs": [
    {
     "data": {
      "text/plain": [
       "{'Day_charge', 'Eve_charge', 'International_charge', 'Night_charge'}"
      ]
     },
     "execution_count": 146,
     "metadata": {},
     "output_type": "execute_result"
    }
   ],
   "source": [
    "corr_features"
   ]
  },
  {
   "cell_type": "markdown",
   "metadata": {
    "id": "vJQEE6918mZD"
   },
   "source": [
    "* Dropping highly correlated features:"
   ]
  },
  {
   "cell_type": "code",
   "execution_count": 147,
   "metadata": {
    "colab": {
     "base_uri": "https://localhost:8080/",
     "height": 487
    },
    "id": "GGKjKPjd8rDB",
    "outputId": "e9620b53-a611-4420-e157-a4ca179ab1a5"
   },
   "outputs": [
    {
     "data": {
      "text/html": [
       "<div>\n",
       "<style scoped>\n",
       "    .dataframe tbody tr th:only-of-type {\n",
       "        vertical-align: middle;\n",
       "    }\n",
       "\n",
       "    .dataframe tbody tr th {\n",
       "        vertical-align: top;\n",
       "    }\n",
       "\n",
       "    .dataframe thead th {\n",
       "        text-align: right;\n",
       "    }\n",
       "</style>\n",
       "<table border=\"1\" class=\"dataframe\">\n",
       "  <thead>\n",
       "    <tr style=\"text-align: right;\">\n",
       "      <th></th>\n",
       "      <th>State</th>\n",
       "      <th>Account_length</th>\n",
       "      <th>Area_code</th>\n",
       "      <th>Phone</th>\n",
       "      <th>International_plan</th>\n",
       "      <th>VMail_plan</th>\n",
       "      <th>Vmail_message</th>\n",
       "      <th>Day_mins</th>\n",
       "      <th>Day_calls</th>\n",
       "      <th>Eve_mins</th>\n",
       "      <th>Eve_calls</th>\n",
       "      <th>Night_mins</th>\n",
       "      <th>Night_calls</th>\n",
       "      <th>International_mins</th>\n",
       "      <th>International_calls</th>\n",
       "      <th>Cust_serv_calls</th>\n",
       "    </tr>\n",
       "  </thead>\n",
       "  <tbody>\n",
       "    <tr>\n",
       "      <th>2264</th>\n",
       "      <td>10</td>\n",
       "      <td>18</td>\n",
       "      <td>408</td>\n",
       "      <td>3946382</td>\n",
       "      <td>0</td>\n",
       "      <td>0</td>\n",
       "      <td>0</td>\n",
       "      <td>197.0</td>\n",
       "      <td>97</td>\n",
       "      <td>203.7</td>\n",
       "      <td>107</td>\n",
       "      <td>202.0</td>\n",
       "      <td>105</td>\n",
       "      <td>8.7</td>\n",
       "      <td>3</td>\n",
       "      <td>3</td>\n",
       "    </tr>\n",
       "    <tr>\n",
       "      <th>1839</th>\n",
       "      <td>1</td>\n",
       "      <td>70</td>\n",
       "      <td>415</td>\n",
       "      <td>3457014</td>\n",
       "      <td>0</td>\n",
       "      <td>0</td>\n",
       "      <td>0</td>\n",
       "      <td>230.3</td>\n",
       "      <td>110</td>\n",
       "      <td>77.9</td>\n",
       "      <td>87</td>\n",
       "      <td>247.1</td>\n",
       "      <td>105</td>\n",
       "      <td>13.2</td>\n",
       "      <td>4</td>\n",
       "      <td>1</td>\n",
       "    </tr>\n",
       "    <tr>\n",
       "      <th>2525</th>\n",
       "      <td>42</td>\n",
       "      <td>95</td>\n",
       "      <td>510</td>\n",
       "      <td>3657784</td>\n",
       "      <td>0</td>\n",
       "      <td>0</td>\n",
       "      <td>0</td>\n",
       "      <td>174.0</td>\n",
       "      <td>57</td>\n",
       "      <td>281.1</td>\n",
       "      <td>118</td>\n",
       "      <td>197.2</td>\n",
       "      <td>94</td>\n",
       "      <td>9.7</td>\n",
       "      <td>2</td>\n",
       "      <td>0</td>\n",
       "    </tr>\n",
       "    <tr>\n",
       "      <th>23</th>\n",
       "      <td>40</td>\n",
       "      <td>111</td>\n",
       "      <td>415</td>\n",
       "      <td>3502565</td>\n",
       "      <td>0</td>\n",
       "      <td>0</td>\n",
       "      <td>0</td>\n",
       "      <td>110.4</td>\n",
       "      <td>103</td>\n",
       "      <td>137.3</td>\n",
       "      <td>102</td>\n",
       "      <td>189.6</td>\n",
       "      <td>105</td>\n",
       "      <td>7.7</td>\n",
       "      <td>6</td>\n",
       "      <td>2</td>\n",
       "    </tr>\n",
       "    <tr>\n",
       "      <th>1831</th>\n",
       "      <td>35</td>\n",
       "      <td>93</td>\n",
       "      <td>415</td>\n",
       "      <td>3979184</td>\n",
       "      <td>0</td>\n",
       "      <td>1</td>\n",
       "      <td>42</td>\n",
       "      <td>152.3</td>\n",
       "      <td>90</td>\n",
       "      <td>267.5</td>\n",
       "      <td>102</td>\n",
       "      <td>266.9</td>\n",
       "      <td>130</td>\n",
       "      <td>11.3</td>\n",
       "      <td>5</td>\n",
       "      <td>7</td>\n",
       "    </tr>\n",
       "    <tr>\n",
       "      <th>...</th>\n",
       "      <td>...</td>\n",
       "      <td>...</td>\n",
       "      <td>...</td>\n",
       "      <td>...</td>\n",
       "      <td>...</td>\n",
       "      <td>...</td>\n",
       "      <td>...</td>\n",
       "      <td>...</td>\n",
       "      <td>...</td>\n",
       "      <td>...</td>\n",
       "      <td>...</td>\n",
       "      <td>...</td>\n",
       "      <td>...</td>\n",
       "      <td>...</td>\n",
       "      <td>...</td>\n",
       "      <td>...</td>\n",
       "    </tr>\n",
       "    <tr>\n",
       "      <th>4405</th>\n",
       "      <td>13</td>\n",
       "      <td>137</td>\n",
       "      <td>510</td>\n",
       "      <td>3486721</td>\n",
       "      <td>0</td>\n",
       "      <td>0</td>\n",
       "      <td>0</td>\n",
       "      <td>203.1</td>\n",
       "      <td>97</td>\n",
       "      <td>132.0</td>\n",
       "      <td>76</td>\n",
       "      <td>250.9</td>\n",
       "      <td>94</td>\n",
       "      <td>9.2</td>\n",
       "      <td>4</td>\n",
       "      <td>4</td>\n",
       "    </tr>\n",
       "    <tr>\n",
       "      <th>4537</th>\n",
       "      <td>37</td>\n",
       "      <td>100</td>\n",
       "      <td>415</td>\n",
       "      <td>3886108</td>\n",
       "      <td>0</td>\n",
       "      <td>1</td>\n",
       "      <td>31</td>\n",
       "      <td>67.7</td>\n",
       "      <td>67</td>\n",
       "      <td>147.1</td>\n",
       "      <td>116</td>\n",
       "      <td>288.3</td>\n",
       "      <td>103</td>\n",
       "      <td>12.3</td>\n",
       "      <td>2</td>\n",
       "      <td>6</td>\n",
       "    </tr>\n",
       "    <tr>\n",
       "      <th>1965</th>\n",
       "      <td>34</td>\n",
       "      <td>139</td>\n",
       "      <td>510</td>\n",
       "      <td>3997268</td>\n",
       "      <td>0</td>\n",
       "      <td>0</td>\n",
       "      <td>0</td>\n",
       "      <td>236.6</td>\n",
       "      <td>109</td>\n",
       "      <td>169.9</td>\n",
       "      <td>107</td>\n",
       "      <td>212.3</td>\n",
       "      <td>118</td>\n",
       "      <td>11.1</td>\n",
       "      <td>2</td>\n",
       "      <td>1</td>\n",
       "    </tr>\n",
       "    <tr>\n",
       "      <th>2114</th>\n",
       "      <td>43</td>\n",
       "      <td>123</td>\n",
       "      <td>408</td>\n",
       "      <td>4166594</td>\n",
       "      <td>0</td>\n",
       "      <td>0</td>\n",
       "      <td>0</td>\n",
       "      <td>260.9</td>\n",
       "      <td>85</td>\n",
       "      <td>168.5</td>\n",
       "      <td>103</td>\n",
       "      <td>178.3</td>\n",
       "      <td>91</td>\n",
       "      <td>13.3</td>\n",
       "      <td>5</td>\n",
       "      <td>3</td>\n",
       "    </tr>\n",
       "    <tr>\n",
       "      <th>2990</th>\n",
       "      <td>13</td>\n",
       "      <td>47</td>\n",
       "      <td>415</td>\n",
       "      <td>3654387</td>\n",
       "      <td>0</td>\n",
       "      <td>1</td>\n",
       "      <td>28</td>\n",
       "      <td>172.9</td>\n",
       "      <td>109</td>\n",
       "      <td>137.6</td>\n",
       "      <td>94</td>\n",
       "      <td>203.8</td>\n",
       "      <td>109</td>\n",
       "      <td>8.3</td>\n",
       "      <td>6</td>\n",
       "      <td>1</td>\n",
       "    </tr>\n",
       "  </tbody>\n",
       "</table>\n",
       "<p>924 rows × 16 columns</p>\n",
       "</div>"
      ],
      "text/plain": [
       "      State  Account_length  Area_code    Phone  International_plan  \\\n",
       "2264     10              18        408  3946382                   0   \n",
       "1839      1              70        415  3457014                   0   \n",
       "2525     42              95        510  3657784                   0   \n",
       "23       40             111        415  3502565                   0   \n",
       "1831     35              93        415  3979184                   0   \n",
       "...     ...             ...        ...      ...                 ...   \n",
       "4405     13             137        510  3486721                   0   \n",
       "4537     37             100        415  3886108                   0   \n",
       "1965     34             139        510  3997268                   0   \n",
       "2114     43             123        408  4166594                   0   \n",
       "2990     13              47        415  3654387                   0   \n",
       "\n",
       "      VMail_plan  Vmail_message  Day_mins  Day_calls  Eve_mins  Eve_calls  \\\n",
       "2264           0              0     197.0         97     203.7        107   \n",
       "1839           0              0     230.3        110      77.9         87   \n",
       "2525           0              0     174.0         57     281.1        118   \n",
       "23             0              0     110.4        103     137.3        102   \n",
       "1831           1             42     152.3         90     267.5        102   \n",
       "...          ...            ...       ...        ...       ...        ...   \n",
       "4405           0              0     203.1         97     132.0         76   \n",
       "4537           1             31      67.7         67     147.1        116   \n",
       "1965           0              0     236.6        109     169.9        107   \n",
       "2114           0              0     260.9         85     168.5        103   \n",
       "2990           1             28     172.9        109     137.6         94   \n",
       "\n",
       "      Night_mins  Night_calls  International_mins  International_calls  \\\n",
       "2264       202.0          105                 8.7                    3   \n",
       "1839       247.1          105                13.2                    4   \n",
       "2525       197.2           94                 9.7                    2   \n",
       "23         189.6          105                 7.7                    6   \n",
       "1831       266.9          130                11.3                    5   \n",
       "...          ...          ...                 ...                  ...   \n",
       "4405       250.9           94                 9.2                    4   \n",
       "4537       288.3          103                12.3                    2   \n",
       "1965       212.3          118                11.1                    2   \n",
       "2114       178.3           91                13.3                    5   \n",
       "2990       203.8          109                 8.3                    6   \n",
       "\n",
       "      Cust_serv_calls  \n",
       "2264                3  \n",
       "1839                1  \n",
       "2525                0  \n",
       "23                  2  \n",
       "1831                7  \n",
       "...               ...  \n",
       "4405                4  \n",
       "4537                6  \n",
       "1965                1  \n",
       "2114                3  \n",
       "2990                1  \n",
       "\n",
       "[924 rows x 16 columns]"
      ]
     },
     "execution_count": 147,
     "metadata": {},
     "output_type": "execute_result"
    }
   ],
   "source": [
    "X_smote.drop(corr_features,axis=1)\n",
    "X_test.drop(corr_features,axis=1)"
   ]
  },
  {
   "cell_type": "markdown",
   "metadata": {
    "id": "JV-gcdxWCBLU"
   },
   "source": [
    "**TRAINING AND TESTING OF DATA**"
   ]
  },
  {
   "cell_type": "markdown",
   "metadata": {
    "id": "1mT6d0yn84PW"
   },
   "source": [
    "Now we've got our data splitted into training and testing sets, it's time to build a machine learning model.\n",
    "\n",
    "We'll Train it (finding patterns) on the training set.\n",
    "\n",
    "and then test it testing set\n",
    "\n",
    "selecting a model from : https://scikit-learn.org/stable/tutorial/machine_learning_map/index.html\n",
    "\n",
    "after having a look I found some model to work with.\n",
    "\n",
    "We're going to try 6 different Machine Learning Model:\n",
    "1. `Logistic Regression`\n",
    "2. `K-Nearest neighbours Classifer`\n",
    "3. `RandomForestClassifer`\n",
    "4. `SVC Classifier`\n",
    "5. `XGBOOST Classifier`\n",
    "6. `SGD Classifier`\n",
    "7. `MlP Classifier`\n",
    "8. `Radial Basis Function`\n",
    "9. `Naive Bayes Classifier`\n"
   ]
  },
  {
   "cell_type": "code",
   "execution_count": 148,
   "metadata": {
    "colab": {
     "base_uri": "https://localhost:8080/",
     "height": 74
    },
    "id": "z8MgDGqm9CX4",
    "outputId": "92e63af5-a1cc-4c45-86fc-cd13becf6b0d"
   },
   "outputs": [
    {
     "data": {
      "text/html": [
       "<style>#sk-container-id-5 {color: black;background-color: white;}#sk-container-id-5 pre{padding: 0;}#sk-container-id-5 div.sk-toggleable {background-color: white;}#sk-container-id-5 label.sk-toggleable__label {cursor: pointer;display: block;width: 100%;margin-bottom: 0;padding: 0.3em;box-sizing: border-box;text-align: center;}#sk-container-id-5 label.sk-toggleable__label-arrow:before {content: \"▸\";float: left;margin-right: 0.25em;color: #696969;}#sk-container-id-5 label.sk-toggleable__label-arrow:hover:before {color: black;}#sk-container-id-5 div.sk-estimator:hover label.sk-toggleable__label-arrow:before {color: black;}#sk-container-id-5 div.sk-toggleable__content {max-height: 0;max-width: 0;overflow: hidden;text-align: left;background-color: #f0f8ff;}#sk-container-id-5 div.sk-toggleable__content pre {margin: 0.2em;color: black;border-radius: 0.25em;background-color: #f0f8ff;}#sk-container-id-5 input.sk-toggleable__control:checked~div.sk-toggleable__content {max-height: 200px;max-width: 100%;overflow: auto;}#sk-container-id-5 input.sk-toggleable__control:checked~label.sk-toggleable__label-arrow:before {content: \"▾\";}#sk-container-id-5 div.sk-estimator input.sk-toggleable__control:checked~label.sk-toggleable__label {background-color: #d4ebff;}#sk-container-id-5 div.sk-label input.sk-toggleable__control:checked~label.sk-toggleable__label {background-color: #d4ebff;}#sk-container-id-5 input.sk-hidden--visually {border: 0;clip: rect(1px 1px 1px 1px);clip: rect(1px, 1px, 1px, 1px);height: 1px;margin: -1px;overflow: hidden;padding: 0;position: absolute;width: 1px;}#sk-container-id-5 div.sk-estimator {font-family: monospace;background-color: #f0f8ff;border: 1px dotted black;border-radius: 0.25em;box-sizing: border-box;margin-bottom: 0.5em;}#sk-container-id-5 div.sk-estimator:hover {background-color: #d4ebff;}#sk-container-id-5 div.sk-parallel-item::after {content: \"\";width: 100%;border-bottom: 1px solid gray;flex-grow: 1;}#sk-container-id-5 div.sk-label:hover label.sk-toggleable__label {background-color: #d4ebff;}#sk-container-id-5 div.sk-serial::before {content: \"\";position: absolute;border-left: 1px solid gray;box-sizing: border-box;top: 0;bottom: 0;left: 50%;z-index: 0;}#sk-container-id-5 div.sk-serial {display: flex;flex-direction: column;align-items: center;background-color: white;padding-right: 0.2em;padding-left: 0.2em;position: relative;}#sk-container-id-5 div.sk-item {position: relative;z-index: 1;}#sk-container-id-5 div.sk-parallel {display: flex;align-items: stretch;justify-content: center;background-color: white;position: relative;}#sk-container-id-5 div.sk-item::before, #sk-container-id-5 div.sk-parallel-item::before {content: \"\";position: absolute;border-left: 1px solid gray;box-sizing: border-box;top: 0;bottom: 0;left: 50%;z-index: -1;}#sk-container-id-5 div.sk-parallel-item {display: flex;flex-direction: column;z-index: 1;position: relative;background-color: white;}#sk-container-id-5 div.sk-parallel-item:first-child::after {align-self: flex-end;width: 50%;}#sk-container-id-5 div.sk-parallel-item:last-child::after {align-self: flex-start;width: 50%;}#sk-container-id-5 div.sk-parallel-item:only-child::after {width: 0;}#sk-container-id-5 div.sk-dashed-wrapped {border: 1px dashed gray;margin: 0 0.4em 0.5em 0.4em;box-sizing: border-box;padding-bottom: 0.4em;background-color: white;}#sk-container-id-5 div.sk-label label {font-family: monospace;font-weight: bold;display: inline-block;line-height: 1.2em;}#sk-container-id-5 div.sk-label-container {text-align: center;}#sk-container-id-5 div.sk-container {/* jupyter's `normalize.less` sets `[hidden] { display: none; }` but bootstrap.min.css set `[hidden] { display: none !important; }` so we also need the `!important` here to be able to override the default hidden behavior on the sphinx rendered scikit-learn.org. See: https://github.com/scikit-learn/scikit-learn/issues/21755 */display: inline-block !important;position: relative;}#sk-container-id-5 div.sk-text-repr-fallback {display: none;}</style><div id=\"sk-container-id-5\" class=\"sk-top-container\"><div class=\"sk-text-repr-fallback\"><pre>LogisticRegression()</pre><b>In a Jupyter environment, please rerun this cell to show the HTML representation or trust the notebook. <br />On GitHub, the HTML representation is unable to render, please try loading this page with nbviewer.org.</b></div><div class=\"sk-container\" hidden><div class=\"sk-item\"><div class=\"sk-estimator sk-toggleable\"><input class=\"sk-toggleable__control sk-hidden--visually\" id=\"sk-estimator-id-7\" type=\"checkbox\" checked><label for=\"sk-estimator-id-7\" class=\"sk-toggleable__label sk-toggleable__label-arrow\">LogisticRegression</label><div class=\"sk-toggleable__content\"><pre>LogisticRegression()</pre></div></div></div></div></div>"
      ],
      "text/plain": [
       "LogisticRegression()"
      ]
     },
     "execution_count": 148,
     "metadata": {},
     "output_type": "execute_result"
    }
   ],
   "source": [
    "LR=LogisticRegression()\n",
    "LR.fit(X_smote.drop(corr_features,axis=1),Y_smote)#fit train data"
   ]
  },
  {
   "cell_type": "code",
   "execution_count": 149,
   "metadata": {
    "colab": {
     "base_uri": "https://localhost:8080/"
    },
    "id": "L_NmE7LO9EoT",
    "outputId": "1269f5ba-4fd8-48a1-94e5-b8d4bda2eb4b"
   },
   "outputs": [
    {
     "name": "stdout",
     "output_type": "stream",
     "text": [
      "[0.]\n"
     ]
    }
   ],
   "source": [
    "print(LR.intercept_) #line intercept"
   ]
  },
  {
   "cell_type": "code",
   "execution_count": 150,
   "metadata": {
    "id": "3wm5k0Ym9EbO"
   },
   "outputs": [],
   "source": [
    "y_log_pred=LR.predict(X_test.drop(corr_features,axis=1))"
   ]
  },
  {
   "cell_type": "code",
   "execution_count": 151,
   "metadata": {
    "colab": {
     "base_uri": "https://localhost:8080/"
    },
    "id": "aDAcHtmV9EQi",
    "outputId": "49600e87-e529-411a-c092-6dc6693dab59"
   },
   "outputs": [
    {
     "name": "stdout",
     "output_type": "stream",
     "text": [
      "              precision    recall  f1-score   support\n",
      "\n",
      "           0       0.86      1.00      0.93       799\n",
      "           1       0.00      0.00      0.00       125\n",
      "\n",
      "    accuracy                           0.86       924\n",
      "   macro avg       0.43      0.50      0.46       924\n",
      "weighted avg       0.75      0.86      0.80       924\n",
      "\n"
     ]
    }
   ],
   "source": [
    "print(classification_report(y_test,y_log_pred))"
   ]
  },
  {
   "cell_type": "markdown",
   "metadata": {
    "id": "M5aMEW6c9P9T"
   },
   "source": [
    "* Classification Report"
   ]
  },
  {
   "cell_type": "code",
   "execution_count": 152,
   "metadata": {
    "colab": {
     "base_uri": "https://localhost:8080/",
     "height": 143
    },
    "id": "fy0Faq549T0Y",
    "outputId": "f5b86009-13d9-4de4-a325-1757a6450ebb"
   },
   "outputs": [
    {
     "data": {
      "text/html": [
       "<div>\n",
       "<style scoped>\n",
       "    .dataframe tbody tr th:only-of-type {\n",
       "        vertical-align: middle;\n",
       "    }\n",
       "\n",
       "    .dataframe tbody tr th {\n",
       "        vertical-align: top;\n",
       "    }\n",
       "\n",
       "    .dataframe thead th {\n",
       "        text-align: right;\n",
       "    }\n",
       "</style>\n",
       "<table border=\"1\" class=\"dataframe\">\n",
       "  <thead>\n",
       "    <tr style=\"text-align: right;\">\n",
       "      <th>col_0</th>\n",
       "      <th>0</th>\n",
       "    </tr>\n",
       "    <tr>\n",
       "      <th>Churn</th>\n",
       "      <th></th>\n",
       "    </tr>\n",
       "  </thead>\n",
       "  <tbody>\n",
       "    <tr>\n",
       "      <th>0</th>\n",
       "      <td>799</td>\n",
       "    </tr>\n",
       "    <tr>\n",
       "      <th>1</th>\n",
       "      <td>125</td>\n",
       "    </tr>\n",
       "  </tbody>\n",
       "</table>\n",
       "</div>"
      ],
      "text/plain": [
       "col_0    0\n",
       "Churn     \n",
       "0      799\n",
       "1      125"
      ]
     },
     "execution_count": 152,
     "metadata": {},
     "output_type": "execute_result"
    }
   ],
   "source": [
    "pd.crosstab(y_test,y_log_pred)"
   ]
  },
  {
   "cell_type": "code",
   "execution_count": 153,
   "metadata": {
    "id": "NsWNGLGe9X6N"
   },
   "outputs": [],
   "source": [
    "y_prob=LR.predict_proba(X_test.drop(corr_features,axis=1))[:,1] # predict proba for class 1"
   ]
  },
  {
   "cell_type": "code",
   "execution_count": 154,
   "metadata": {
    "id": "GsAcJxfF9X22"
   },
   "outputs": [],
   "source": [
    "from sklearn.metrics import roc_curve,roc_auc_score\n",
    "\n",
    "fpr, tpr, threshold = roc_curve(y_test, y_prob)"
   ]
  },
  {
   "cell_type": "code",
   "execution_count": 155,
   "metadata": {
    "colab": {
     "base_uri": "https://localhost:8080/"
    },
    "id": "qX9M_OW89X0P",
    "outputId": "e65bed6a-1efd-4882-a532-a9e2ac0ce13f"
   },
   "outputs": [
    {
     "name": "stdout",
     "output_type": "stream",
     "text": [
      "roc-curve 0.49541927409261577\n"
     ]
    }
   ],
   "source": [
    "roc_auc = roc_auc_score(y_test,y_prob)\n",
    "print('roc-curve',roc_auc)\n"
   ]
  },
  {
   "cell_type": "code",
   "execution_count": 156,
   "metadata": {
    "id": "_kvkmkEw9Xx2"
   },
   "outputs": [],
   "source": [
    "def plot_roc_curve(fpr, tpr):# function to plot roc curve\n",
    "    plt.plot(fpr, tpr, color='orange', label='ROC curve (area = %0.3f)' % roc_auc)#line plot between fpr and tpr\n",
    "    plt.plot([0, 1], [0, 1], color='darkblue', linestyle='--')\n",
    "    plt.xlabel('False Positive Rate')# assigning name to  x axis\n",
    "    plt.ylabel('True Positive Rate')# assigning name to y axis\n",
    "    plt.title('Receiver Operating Characteristic (ROC) Curve')#assigning name to curve\n",
    "    plt.legend()#area describing the elements of the graph\n",
    "    plt.show()#to show graph without location"
   ]
  },
  {
   "cell_type": "code",
   "execution_count": 157,
   "metadata": {
    "colab": {
     "base_uri": "https://localhost:8080/",
     "height": 467
    },
    "id": "5brE1JYD9Xu4",
    "outputId": "cc6c17ef-271d-4aa8-f20e-ef8fb880d486"
   },
   "outputs": [
    {
     "data": {
      "image/png": "[encoded data removed]",
      "text/plain": [
       "<Figure size 432x288 with 1 Axes>"
      ]
     },
     "metadata": {},
     "output_type": "display_data"
    }
   ],
   "source": [
    "plot_roc_curve(fpr, tpr)#plotting ruc curve"
   ]
  },
  {
   "cell_type": "code",
   "execution_count": 158,
   "metadata": {
    "id": "doOKyE7w9Xri"
   },
   "outputs": [],
   "source": [
    "# Putting Models in a Dictionary to make our function more dynamic\n",
    "\n",
    "models = {\n",
    "    \"Logistic Regression\":LogisticRegression(),\n",
    "    \"KNN\":KNeighborsClassifier(),\n",
    "    \"Random Forest\":RandomForestClassifier(),\n",
    "    \"SVC\":SVC(),\n",
    "    \"Xgboost\":XGBClassifier(),\n",
    "    \"SGD\":SGDClassifier(),\n",
    "    \"NB\":GaussianNB(),\n",
    "    \"MLP\":MLPClassifier(),\n",
    "}\n",
    "\n",
    "# Create a function to fit and score models\n",
    "def fit_and_score(models, X_smote, X_test, Y_smote, y_test):\n",
    "  \"\"\"\n",
    "  Fits and evaluate given machine learning models.\n",
    "  Models: a dictionary of diccerent sklearn Machine Learnng Models\n",
    "  X_train : Training data (no labeles)\n",
    "  X_test : Testing data (no labels)\n",
    "  y_train : Training labels\n",
    "  y_test : Test labels\n",
    "  \"\"\"\n",
    "  # Setting up Random seeds\n",
    "  np.random.seed(42)\n",
    "  # Make a dictionary to keep model scores\n",
    "  model_scores ={}\n",
    "  # Loop through models\n",
    "  for name, model in models.items():\n",
    "    # Fit the model to data\n",
    "    model.fit(X_smote.drop(corr_features,axis=1), Y_smote)\n",
    "    # Evaluate the model and append its score to model_scores\n",
    "    model_scores[name] = model.score(X_test.drop(corr_features,axis=1),y_test)\n",
    "  return model_scores"
   ]
  },
  {
   "cell_type": "code",
   "execution_count": 159,
   "metadata": {
    "id": "LU1grZQ49Xoi"
   },
   "outputs": [],
   "source": [
    "model_scores = fit_and_score(models=models,\n",
    "                             X_smote=X_smote,\n",
    "                             X_test=X_test,\n",
    "                             Y_smote = Y_smote,\n",
    "                             y_test = y_test)"
   ]
  },
  {
   "cell_type": "code",
   "execution_count": 160,
   "metadata": {
    "colab": {
     "base_uri": "https://localhost:8080/"
    },
    "id": "8DSujPjw_lYL",
    "outputId": "e71809d0-4233-4f44-a705-b2534fdcdd46"
   },
   "outputs": [
    {
     "data": {
      "text/plain": [
       "{'Logistic Regression': 0.8647186147186147,\n",
       " 'KNN': 0.566017316017316,\n",
       " 'Random Forest': 0.9101731601731602,\n",
       " 'SVC': 0.3051948051948052,\n",
       " 'Xgboost': 0.935064935064935,\n",
       " 'SGD': 0.8647186147186147,\n",
       " 'NB': 0.6071428571428571,\n",
       " 'MLP': 0.8647186147186147}"
      ]
     },
     "execution_count": 160,
     "metadata": {},
     "output_type": "execute_result"
    }
   ],
   "source": [
    "model_scores"
   ]
  },
  {
   "cell_type": "markdown",
   "metadata": {
    "id": "YWpUCSRi_3IJ"
   },
   "source": [
    "Let's visulaize the model comparision before goin any further"
   ]
  },
  {
   "cell_type": "code",
   "execution_count": 161,
   "metadata": {
    "colab": {
     "base_uri": "https://localhost:8080/",
     "height": 513
    },
    "id": "g7GZ9bB7_quo",
    "outputId": "a44ca3f1-d5e5-4df9-89d6-3b33977dcbbb"
   },
   "outputs": [
    {
     "data": {
      "image/png": "[encoded data removed]",
      "text/plain": [
       "<Figure size 432x288 with 1 Axes>"
      ]
     },
     "metadata": {},
     "output_type": "display_data"
    }
   ],
   "source": [
    "model_compare = pd.DataFrame(model_scores, index=[\"accuracy\"])\n",
    "model_compare.T.plot.bar();"
   ]
  },
  {
   "cell_type": "markdown",
   "metadata": {
    "id": "CAzdoLBG_-O-"
   },
   "source": [
    "As we can see `XGBoost Classification`, performs best while `KNN`,`SVC` and `SGD Classification` and was slightly behind and `Random Forest`was perform good.\n",
    "\n",
    "but still, model's first predictions aren't always what we should based our next step off.\n",
    "\n",
    "so let's do Hyperparameter Tuning"
   ]
  },
  {
   "cell_type": "markdown",
   "metadata": {
    "id": "cycd8PBwANlM"
   },
   "source": [
    "# Hyper Tuning\n",
    "\n",
    " ## Logistic Regression"
   ]
  },
  {
   "cell_type": "code",
   "execution_count": 88,
   "metadata": {
    "id": "gkP6L9ly_qsJ"
   },
   "outputs": [],
   "source": [
    "# Creating a hyperparameter grid for LogisticRegression\n",
    "log_reg_grid = {\"C\":np.logspace(-4,4,20),\n",
    "                \"solver\":[\"liblinear\"]}\n",
    "\n",
    "# Create a hyperparameter grid for RandomForestClassifer\n",
    "rf_grid = {\"n_estimators\":np.arange(10,1000,50),\n",
    "           \"max_depth\":[None,3,5,10],\n",
    "           \"min_samples_split\":np.arange(2,20,2),\n",
    "           \"min_samples_leaf\":np.arange(1,20,2)}"
   ]
  },
  {
   "cell_type": "markdown",
   "metadata": {
    "id": "vLG77js5AcfQ"
   },
   "source": [
    "So now rather than doing hyperparamer tuning by hand or manully let's use `RandomizedSearchCV`"
   ]
  },
  {
   "cell_type": "code",
   "execution_count": 89,
   "metadata": {
    "colab": {
     "base_uri": "https://localhost:8080/",
     "height": 134
    },
    "id": "lDqeKT-V_qpW",
    "outputId": "4851a712-6ef5-481f-e412-c5e6a861a237"
   },
   "outputs": [
    {
     "name": "stdout",
     "output_type": "stream",
     "text": [
      "Fitting 5 folds for each of 20 candidates, totalling 100 fits\n"
     ]
    },
    {
     "data": {
      "text/html": [
       "<style>#sk-container-id-10 {color: black;background-color: white;}#sk-container-id-10 pre{padding: 0;}#sk-container-id-10 div.sk-toggleable {background-color: white;}#sk-container-id-10 label.sk-toggleable__label {cursor: pointer;display: block;width: 100%;margin-bottom: 0;padding: 0.3em;box-sizing: border-box;text-align: center;}#sk-container-id-10 label.sk-toggleable__label-arrow:before {content: \"▸\";float: left;margin-right: 0.25em;color: #696969;}#sk-container-id-10 label.sk-toggleable__label-arrow:hover:before {color: black;}#sk-container-id-10 div.sk-estimator:hover label.sk-toggleable__label-arrow:before {color: black;}#sk-container-id-10 div.sk-toggleable__content {max-height: 0;max-width: 0;overflow: hidden;text-align: left;background-color: #f0f8ff;}#sk-container-id-10 div.sk-toggleable__content pre {margin: 0.2em;color: black;border-radius: 0.25em;background-color: #f0f8ff;}#sk-container-id-10 input.sk-toggleable__control:checked~div.sk-toggleable__content {max-height: 200px;max-width: 100%;overflow: auto;}#sk-container-id-10 input.sk-toggleable__control:checked~label.sk-toggleable__label-arrow:before {content: \"▾\";}#sk-container-id-10 div.sk-estimator input.sk-toggleable__control:checked~label.sk-toggleable__label {background-color: #d4ebff;}#sk-container-id-10 div.sk-label input.sk-toggleable__control:checked~label.sk-toggleable__label {background-color: #d4ebff;}#sk-container-id-10 input.sk-hidden--visually {border: 0;clip: rect(1px 1px 1px 1px);clip: rect(1px, 1px, 1px, 1px);height: 1px;margin: -1px;overflow: hidden;padding: 0;position: absolute;width: 1px;}#sk-container-id-10 div.sk-estimator {font-family: monospace;background-color: #f0f8ff;border: 1px dotted black;border-radius: 0.25em;box-sizing: border-box;margin-bottom: 0.5em;}#sk-container-id-10 div.sk-estimator:hover {background-color: #d4ebff;}#sk-container-id-10 div.sk-parallel-item::after {content: \"\";width: 100%;border-bottom: 1px solid gray;flex-grow: 1;}#sk-container-id-10 div.sk-label:hover label.sk-toggleable__label {background-color: #d4ebff;}#sk-container-id-10 div.sk-serial::before {content: \"\";position: absolute;border-left: 1px solid gray;box-sizing: border-box;top: 0;bottom: 0;left: 50%;z-index: 0;}#sk-container-id-10 div.sk-serial {display: flex;flex-direction: column;align-items: center;background-color: white;padding-right: 0.2em;padding-left: 0.2em;position: relative;}#sk-container-id-10 div.sk-item {position: relative;z-index: 1;}#sk-container-id-10 div.sk-parallel {display: flex;align-items: stretch;justify-content: center;background-color: white;position: relative;}#sk-container-id-10 div.sk-item::before, #sk-container-id-10 div.sk-parallel-item::before {content: \"\";position: absolute;border-left: 1px solid gray;box-sizing: border-box;top: 0;bottom: 0;left: 50%;z-index: -1;}#sk-container-id-10 div.sk-parallel-item {display: flex;flex-direction: column;z-index: 1;position: relative;background-color: white;}#sk-container-id-10 div.sk-parallel-item:first-child::after {align-self: flex-end;width: 50%;}#sk-container-id-10 div.sk-parallel-item:last-child::after {align-self: flex-start;width: 50%;}#sk-container-id-10 div.sk-parallel-item:only-child::after {width: 0;}#sk-container-id-10 div.sk-dashed-wrapped {border: 1px dashed gray;margin: 0 0.4em 0.5em 0.4em;box-sizing: border-box;padding-bottom: 0.4em;background-color: white;}#sk-container-id-10 div.sk-label label {font-family: monospace;font-weight: bold;display: inline-block;line-height: 1.2em;}#sk-container-id-10 div.sk-label-container {text-align: center;}#sk-container-id-10 div.sk-container {/* jupyter's `normalize.less` sets `[hidden] { display: none; }` but bootstrap.min.css set `[hidden] { display: none !important; }` so we also need the `!important` here to be able to override the default hidden behavior on the sphinx rendered scikit-learn.org. See: https://github.com/scikit-learn/scikit-learn/issues/21755 */display: inline-block !important;position: relative;}#sk-container-id-10 div.sk-text-repr-fallback {display: none;}</style><div id=\"sk-container-id-10\" class=\"sk-top-container\"><div class=\"sk-text-repr-fallback\"><pre>RandomizedSearchCV(cv=5, estimator=LogisticRegression(), n_iter=20,\n",
       "                   param_distributions={&#x27;C&#x27;: array([1.00000000e-04, 2.63665090e-04, 6.95192796e-04, 1.83298071e-03,\n",
       "       4.83293024e-03, 1.27427499e-02, 3.35981829e-02, 8.85866790e-02,\n",
       "       2.33572147e-01, 6.15848211e-01, 1.62377674e+00, 4.28133240e+00,\n",
       "       1.12883789e+01, 2.97635144e+01, 7.84759970e+01, 2.06913808e+02,\n",
       "       5.45559478e+02, 1.43844989e+03, 3.79269019e+03, 1.00000000e+04]),\n",
       "                                        &#x27;solver&#x27;: [&#x27;liblinear&#x27;]},\n",
       "                   verbose=True)</pre><b>In a Jupyter environment, please rerun this cell to show the HTML representation or trust the notebook. <br />On GitHub, the HTML representation is unable to render, please try loading this page with nbviewer.org.</b></div><div class=\"sk-container\" hidden><div class=\"sk-item sk-dashed-wrapped\"><div class=\"sk-label-container\"><div class=\"sk-label sk-toggleable\"><input class=\"sk-toggleable__control sk-hidden--visually\" id=\"sk-estimator-id-16\" type=\"checkbox\" ><label for=\"sk-estimator-id-16\" class=\"sk-toggleable__label sk-toggleable__label-arrow\">RandomizedSearchCV</label><div class=\"sk-toggleable__content\"><pre>RandomizedSearchCV(cv=5, estimator=LogisticRegression(), n_iter=20,\n",
       "                   param_distributions={&#x27;C&#x27;: array([1.00000000e-04, 2.63665090e-04, 6.95192796e-04, 1.83298071e-03,\n",
       "       4.83293024e-03, 1.27427499e-02, 3.35981829e-02, 8.85866790e-02,\n",
       "       2.33572147e-01, 6.15848211e-01, 1.62377674e+00, 4.28133240e+00,\n",
       "       1.12883789e+01, 2.97635144e+01, 7.84759970e+01, 2.06913808e+02,\n",
       "       5.45559478e+02, 1.43844989e+03, 3.79269019e+03, 1.00000000e+04]),\n",
       "                                        &#x27;solver&#x27;: [&#x27;liblinear&#x27;]},\n",
       "                   verbose=True)</pre></div></div></div><div class=\"sk-parallel\"><div class=\"sk-parallel-item\"><div class=\"sk-item\"><div class=\"sk-label-container\"><div class=\"sk-label sk-toggleable\"><input class=\"sk-toggleable__control sk-hidden--visually\" id=\"sk-estimator-id-17\" type=\"checkbox\" ><label for=\"sk-estimator-id-17\" class=\"sk-toggleable__label sk-toggleable__label-arrow\">estimator: LogisticRegression</label><div class=\"sk-toggleable__content\"><pre>LogisticRegression()</pre></div></div></div><div class=\"sk-serial\"><div class=\"sk-item\"><div class=\"sk-estimator sk-toggleable\"><input class=\"sk-toggleable__control sk-hidden--visually\" id=\"sk-estimator-id-18\" type=\"checkbox\" ><label for=\"sk-estimator-id-18\" class=\"sk-toggleable__label sk-toggleable__label-arrow\">LogisticRegression</label><div class=\"sk-toggleable__content\"><pre>LogisticRegression()</pre></div></div></div></div></div></div></div></div></div></div>"
      ],
      "text/plain": [
       "RandomizedSearchCV(cv=5, estimator=LogisticRegression(), n_iter=20,\n",
       "                   param_distributions={'C': array([1.00000000e-04, 2.63665090e-04, 6.95192796e-04, 1.83298071e-03,\n",
       "       4.83293024e-03, 1.27427499e-02, 3.35981829e-02, 8.85866790e-02,\n",
       "       2.33572147e-01, 6.15848211e-01, 1.62377674e+00, 4.28133240e+00,\n",
       "       1.12883789e+01, 2.97635144e+01, 7.84759970e+01, 2.06913808e+02,\n",
       "       5.45559478e+02, 1.43844989e+03, 3.79269019e+03, 1.00000000e+04]),\n",
       "                                        'solver': ['liblinear']},\n",
       "                   verbose=True)"
      ]
     },
     "execution_count": 89,
     "metadata": {},
     "output_type": "execute_result"
    }
   ],
   "source": [
    "np.random.seed(42)\n",
    "\n",
    "# setup random hyperparameter search for LogisticRegression\n",
    "rs_log_reg = RandomizedSearchCV(LogisticRegression(),\n",
    "                                param_distributions=log_reg_grid,\n",
    "                                cv=5,\n",
    "                                n_iter=20,\n",
    "                                verbose=True)\n",
    "\n",
    "# Fit random hyperparameter search model for LoisticRegression\n",
    "rs_log_reg.fit(X_smote.drop(corr_features,axis=1), Y_smote)"
   ]
  },
  {
   "cell_type": "code",
   "execution_count": 90,
   "metadata": {
    "colab": {
     "base_uri": "https://localhost:8080/"
    },
    "id": "Fnr8O8yD_qm6",
    "outputId": "671913e1-eec3-4ae4-dcfc-fc5e4d9cd735"
   },
   "outputs": [
    {
     "data": {
      "text/plain": [
       "{'solver': 'liblinear', 'C': 0.615848211066026}"
      ]
     },
     "execution_count": 90,
     "metadata": {},
     "output_type": "execute_result"
    }
   ],
   "source": [
    "rs_log_reg.best_params_"
   ]
  },
  {
   "cell_type": "code",
   "execution_count": 92,
   "metadata": {
    "colab": {
     "base_uri": "https://localhost:8080/"
    },
    "id": "6HepAlQC_qkK",
    "outputId": "f60dc1b3-aa54-40d6-c6ff-9d65b40af9ef"
   },
   "outputs": [
    {
     "data": {
      "text/plain": [
       "0.6893939393939394"
      ]
     },
     "execution_count": 92,
     "metadata": {},
     "output_type": "execute_result"
    }
   ],
   "source": [
    "rs_log_reg.score(X_test.drop(corr_features,axis=1),y_test)"
   ]
  },
  {
   "cell_type": "markdown",
   "metadata": {
    "id": "B3Hg2PlDAs7H"
   },
   "source": [
    "After Tuning Logistic Regression, we got the best score as **0.68** as less than before tuning"
   ]
  },
  {
   "cell_type": "markdown",
   "metadata": {
    "id": "dhFSW51dBakz"
   },
   "source": [
    "## Stochastic Gradient Descent"
   ]
  },
  {
   "cell_type": "code",
   "execution_count": 80,
   "metadata": {
    "id": "0WULR_Z3A7eS"
   },
   "outputs": [],
   "source": [
    "loss = ['hinge', 'log', 'modified_huber', 'squared_hinge',\n",
    "'perceptron']\n",
    "penalty = ['l1', 'l2', 'elasticnet']\n",
    "alpha = [0.0001, 0.001, 0.01, 0.1, 1, 10, 100, 1000]\n",
    "learning_rate = ['constant', 'optimal', 'invscaling', 'adaptive']\n",
    "\n",
    "eta0 = [1, 10, 100]"
   ]
  },
  {
   "cell_type": "code",
   "execution_count": 81,
   "metadata": {
    "id": "8c5rzRfvA7bf"
   },
   "outputs": [],
   "source": [
    "param_distributions = dict(loss=loss,\n",
    "penalty=penalty,\n",
    "alpha=alpha,\n",
    "learning_rate=learning_rate,\n",
    "\n",
    "eta0=eta0)"
   ]
  },
  {
   "cell_type": "markdown",
   "metadata": {
    "id": "BtF5jrPoBlco"
   },
   "source": [
    "So now rather than doing hyperparamer tuning by hand or manully let's use `RandomizedSearchCV`"
   ]
  },
  {
   "cell_type": "code",
   "execution_count": 93,
   "metadata": {
    "id": "XUGeO1SKA7Y_"
   },
   "outputs": [],
   "source": [
    "np.random.seed(42)\n",
    "sgd = SGDClassifier(loss=\"hinge\", penalty=\"l2\", max_iter=5)\n",
    "random = RandomizedSearchCV(estimator=sgd,\n",
    "param_distributions=param_distributions,\n",
    "scoring='roc_auc',\n",
    "verbose=1, n_jobs=-1,\n",
    "n_iter=1000)"
   ]
  },
  {
   "cell_type": "code",
   "execution_count": 94,
   "metadata": {
    "colab": {
     "base_uri": "https://localhost:8080/"
    },
    "id": "A3U7tWktA7Wd",
    "outputId": "6c6b4e93-9f6e-42c0-92a9-676ed612497f"
   },
   "outputs": [
    {
     "name": "stdout",
     "output_type": "stream",
     "text": [
      "Fitting 5 folds for each of 1000 candidates, totalling 5000 fits\n"
     ]
    }
   ],
   "source": [
    "random_result = random.fit(X_smote.drop(corr_features,axis=1), Y_smote)"
   ]
  },
  {
   "cell_type": "code",
   "execution_count": 95,
   "metadata": {
    "colab": {
     "base_uri": "https://localhost:8080/"
    },
    "id": "0qtbbJX1A7Ty",
    "outputId": "ab1669a7-2d5d-4acc-cbcd-83c79ed1f29f"
   },
   "outputs": [
    {
     "data": {
      "text/plain": [
       "{'penalty': 'elasticnet',\n",
       " 'loss': 'log',\n",
       " 'learning_rate': 'optimal',\n",
       " 'eta0': 100,\n",
       " 'alpha': 10}"
      ]
     },
     "execution_count": 95,
     "metadata": {},
     "output_type": "execute_result"
    }
   ],
   "source": [
    "random_result.best_params_"
   ]
  },
  {
   "cell_type": "code",
   "execution_count": 96,
   "metadata": {
    "id": "qN425CUMA7RP"
   },
   "outputs": [],
   "source": [
    "np.random.seed(42)\n",
    "sgd1=SGDClassifier(penalty='l2',\n",
    " loss = 'modified_huber',\n",
    " learning_rate = 'optimal',\n",
    " eta0 = 10,\n",
    " alpha = 1)"
   ]
  },
  {
   "cell_type": "code",
   "execution_count": 97,
   "metadata": {
    "colab": {
     "base_uri": "https://localhost:8080/",
     "height": 74
    },
    "id": "rtaqX7SeA7Op",
    "outputId": "03447fa5-1609-4d75-a8bd-aa06b26f142d"
   },
   "outputs": [
    {
     "data": {
      "text/html": [
       "<style>#sk-container-id-11 {color: black;background-color: white;}#sk-container-id-11 pre{padding: 0;}#sk-container-id-11 div.sk-toggleable {background-color: white;}#sk-container-id-11 label.sk-toggleable__label {cursor: pointer;display: block;width: 100%;margin-bottom: 0;padding: 0.3em;box-sizing: border-box;text-align: center;}#sk-container-id-11 label.sk-toggleable__label-arrow:before {content: \"▸\";float: left;margin-right: 0.25em;color: #696969;}#sk-container-id-11 label.sk-toggleable__label-arrow:hover:before {color: black;}#sk-container-id-11 div.sk-estimator:hover label.sk-toggleable__label-arrow:before {color: black;}#sk-container-id-11 div.sk-toggleable__content {max-height: 0;max-width: 0;overflow: hidden;text-align: left;background-color: #f0f8ff;}#sk-container-id-11 div.sk-toggleable__content pre {margin: 0.2em;color: black;border-radius: 0.25em;background-color: #f0f8ff;}#sk-container-id-11 input.sk-toggleable__control:checked~div.sk-toggleable__content {max-height: 200px;max-width: 100%;overflow: auto;}#sk-container-id-11 input.sk-toggleable__control:checked~label.sk-toggleable__label-arrow:before {content: \"▾\";}#sk-container-id-11 div.sk-estimator input.sk-toggleable__control:checked~label.sk-toggleable__label {background-color: #d4ebff;}#sk-container-id-11 div.sk-label input.sk-toggleable__control:checked~label.sk-toggleable__label {background-color: #d4ebff;}#sk-container-id-11 input.sk-hidden--visually {border: 0;clip: rect(1px 1px 1px 1px);clip: rect(1px, 1px, 1px, 1px);height: 1px;margin: -1px;overflow: hidden;padding: 0;position: absolute;width: 1px;}#sk-container-id-11 div.sk-estimator {font-family: monospace;background-color: #f0f8ff;border: 1px dotted black;border-radius: 0.25em;box-sizing: border-box;margin-bottom: 0.5em;}#sk-container-id-11 div.sk-estimator:hover {background-color: #d4ebff;}#sk-container-id-11 div.sk-parallel-item::after {content: \"\";width: 100%;border-bottom: 1px solid gray;flex-grow: 1;}#sk-container-id-11 div.sk-label:hover label.sk-toggleable__label {background-color: #d4ebff;}#sk-container-id-11 div.sk-serial::before {content: \"\";position: absolute;border-left: 1px solid gray;box-sizing: border-box;top: 0;bottom: 0;left: 50%;z-index: 0;}#sk-container-id-11 div.sk-serial {display: flex;flex-direction: column;align-items: center;background-color: white;padding-right: 0.2em;padding-left: 0.2em;position: relative;}#sk-container-id-11 div.sk-item {position: relative;z-index: 1;}#sk-container-id-11 div.sk-parallel {display: flex;align-items: stretch;justify-content: center;background-color: white;position: relative;}#sk-container-id-11 div.sk-item::before, #sk-container-id-11 div.sk-parallel-item::before {content: \"\";position: absolute;border-left: 1px solid gray;box-sizing: border-box;top: 0;bottom: 0;left: 50%;z-index: -1;}#sk-container-id-11 div.sk-parallel-item {display: flex;flex-direction: column;z-index: 1;position: relative;background-color: white;}#sk-container-id-11 div.sk-parallel-item:first-child::after {align-self: flex-end;width: 50%;}#sk-container-id-11 div.sk-parallel-item:last-child::after {align-self: flex-start;width: 50%;}#sk-container-id-11 div.sk-parallel-item:only-child::after {width: 0;}#sk-container-id-11 div.sk-dashed-wrapped {border: 1px dashed gray;margin: 0 0.4em 0.5em 0.4em;box-sizing: border-box;padding-bottom: 0.4em;background-color: white;}#sk-container-id-11 div.sk-label label {font-family: monospace;font-weight: bold;display: inline-block;line-height: 1.2em;}#sk-container-id-11 div.sk-label-container {text-align: center;}#sk-container-id-11 div.sk-container {/* jupyter's `normalize.less` sets `[hidden] { display: none; }` but bootstrap.min.css set `[hidden] { display: none !important; }` so we also need the `!important` here to be able to override the default hidden behavior on the sphinx rendered scikit-learn.org. See: https://github.com/scikit-learn/scikit-learn/issues/21755 */display: inline-block !important;position: relative;}#sk-container-id-11 div.sk-text-repr-fallback {display: none;}</style><div id=\"sk-container-id-11\" class=\"sk-top-container\"><div class=\"sk-text-repr-fallback\"><pre>SGDClassifier(alpha=1, eta0=10, loss=&#x27;modified_huber&#x27;)</pre><b>In a Jupyter environment, please rerun this cell to show the HTML representation or trust the notebook. <br />On GitHub, the HTML representation is unable to render, please try loading this page with nbviewer.org.</b></div><div class=\"sk-container\" hidden><div class=\"sk-item\"><div class=\"sk-estimator sk-toggleable\"><input class=\"sk-toggleable__control sk-hidden--visually\" id=\"sk-estimator-id-19\" type=\"checkbox\" checked><label for=\"sk-estimator-id-19\" class=\"sk-toggleable__label sk-toggleable__label-arrow\">SGDClassifier</label><div class=\"sk-toggleable__content\"><pre>SGDClassifier(alpha=1, eta0=10, loss=&#x27;modified_huber&#x27;)</pre></div></div></div></div></div>"
      ],
      "text/plain": [
       "SGDClassifier(alpha=1, eta0=10, loss='modified_huber')"
      ]
     },
     "execution_count": 97,
     "metadata": {},
     "output_type": "execute_result"
    }
   ],
   "source": [
    "sgd1.fit(X_smote.drop(corr_features,axis=1),Y_smote)"
   ]
  },
  {
   "cell_type": "code",
   "execution_count": 98,
   "metadata": {
    "colab": {
     "base_uri": "https://localhost:8080/"
    },
    "id": "5cA-UBDSA7MJ",
    "outputId": "73a0f958-5981-43cd-8333-e88d2374152a"
   },
   "outputs": [
    {
     "data": {
      "text/plain": [
       "0.8647186147186147"
      ]
     },
     "execution_count": 98,
     "metadata": {},
     "output_type": "execute_result"
    }
   ],
   "source": [
    "sgd1.score(X_test.drop(corr_features,axis=1),y_test)"
   ]
  },
  {
   "cell_type": "markdown",
   "metadata": {
    "id": "wDW7wz59B9s-"
   },
   "source": [
    "After Tuned Stochastic Gradient Descent and got best score as **0.86** , which is same as before tuning."
   ]
  },
  {
   "cell_type": "markdown",
   "metadata": {
    "id": "tIBtjm-cCB6d"
   },
   "source": [
    "## Random Forest Classification"
   ]
  },
  {
   "cell_type": "code",
   "execution_count": 62,
   "metadata": {
    "colab": {
     "base_uri": "https://localhost:8080/"
    },
    "id": "MM_As7xMA7JY",
    "outputId": "deec4bdf-7221-40d0-ea7b-a9556022761d"
   },
   "outputs": [
    {
     "data": {
      "text/plain": [
       "[200, 400, 600, 800, 1000, 1200, 1400, 1600, 1800, 2000]"
      ]
     },
     "execution_count": 62,
     "metadata": {},
     "output_type": "execute_result"
    }
   ],
   "source": [
    "n_estimators=[int(x) for x in np.linspace(start=200,stop=2000,num=10)]\n",
    "n_estimators"
   ]
  },
  {
   "cell_type": "code",
   "execution_count": 63,
   "metadata": {
    "id": "6yev6KF8A7G0"
   },
   "outputs": [],
   "source": [
    "n_estimators = [int(x) for x in np.linspace(start=200, stop=2000, num=10)]\n",
    "max_features = ['auto', 'sqrt']\n",
    "max_depth = [int(x) for x in np.linspace(10, 110, num=11)]\n",
    "max_depth.append(None)\n",
    "min_samples_split = list(range(1,11))\n",
    "min_samples_leaf = list(range(1,11))\n",
    "bootstrap = [True, False]\n",
    "\n",
    "\n",
    "params={\n",
    "  'n_estimators': n_estimators, 'max_features': max_features,\n",
    "               'max_depth': max_depth, 'min_samples_split': min_samples_split,\n",
    "               'min_samples_leaf': min_samples_leaf, 'bootstrap': bootstrap\n",
    "\n",
    "}\n"
   ]
  },
  {
   "cell_type": "code",
   "execution_count": 64,
   "metadata": {
    "id": "8w1gre3yA7EK"
   },
   "outputs": [],
   "source": [
    "np.random.seed(42)\n",
    "RC1=RandomForestClassifier()"
   ]
  },
  {
   "cell_type": "markdown",
   "metadata": {
    "id": "sVX9AZpICtTb"
   },
   "source": [
    "So now rather than doing hyperparamer tuning by hand or manully let's use `RandomizedSearchCV`"
   ]
  },
  {
   "cell_type": "code",
   "execution_count": 65,
   "metadata": {
    "colab": {
     "base_uri": "https://localhost:8080/"
    },
    "id": "GfL_Au_iA7BW",
    "outputId": "4a3f9b0d-3903-4e08-8c7b-0778c99457ef"
   },
   "outputs": [
    {
     "name": "stdout",
     "output_type": "stream",
     "text": [
      "Fitting 3 folds for each of 100 candidates, totalling 300 fits\n"
     ]
    },
    {
     "data": {
      "text/html": [
       "<style>#sk-container-id-2 {color: black;background-color: white;}#sk-container-id-2 pre{padding: 0;}#sk-container-id-2 div.sk-toggleable {background-color: white;}#sk-container-id-2 label.sk-toggleable__label {cursor: pointer;display: block;width: 100%;margin-bottom: 0;padding: 0.3em;box-sizing: border-box;text-align: center;}#sk-container-id-2 label.sk-toggleable__label-arrow:before {content: \"▸\";float: left;margin-right: 0.25em;color: #696969;}#sk-container-id-2 label.sk-toggleable__label-arrow:hover:before {color: black;}#sk-container-id-2 div.sk-estimator:hover label.sk-toggleable__label-arrow:before {color: black;}#sk-container-id-2 div.sk-toggleable__content {max-height: 0;max-width: 0;overflow: hidden;text-align: left;background-color: #f0f8ff;}#sk-container-id-2 div.sk-toggleable__content pre {margin: 0.2em;color: black;border-radius: 0.25em;background-color: #f0f8ff;}#sk-container-id-2 input.sk-toggleable__control:checked~div.sk-toggleable__content {max-height: 200px;max-width: 100%;overflow: auto;}#sk-container-id-2 input.sk-toggleable__control:checked~label.sk-toggleable__label-arrow:before {content: \"▾\";}#sk-container-id-2 div.sk-estimator input.sk-toggleable__control:checked~label.sk-toggleable__label {background-color: #d4ebff;}#sk-container-id-2 div.sk-label input.sk-toggleable__control:checked~label.sk-toggleable__label {background-color: #d4ebff;}#sk-container-id-2 input.sk-hidden--visually {border: 0;clip: rect(1px 1px 1px 1px);clip: rect(1px, 1px, 1px, 1px);height: 1px;margin: -1px;overflow: hidden;padding: 0;position: absolute;width: 1px;}#sk-container-id-2 div.sk-estimator {font-family: monospace;background-color: #f0f8ff;border: 1px dotted black;border-radius: 0.25em;box-sizing: border-box;margin-bottom: 0.5em;}#sk-container-id-2 div.sk-estimator:hover {background-color: #d4ebff;}#sk-container-id-2 div.sk-parallel-item::after {content: \"\";width: 100%;border-bottom: 1px solid gray;flex-grow: 1;}#sk-container-id-2 div.sk-label:hover label.sk-toggleable__label {background-color: #d4ebff;}#sk-container-id-2 div.sk-serial::before {content: \"\";position: absolute;border-left: 1px solid gray;box-sizing: border-box;top: 0;bottom: 0;left: 50%;z-index: 0;}#sk-container-id-2 div.sk-serial {display: flex;flex-direction: column;align-items: center;background-color: white;padding-right: 0.2em;padding-left: 0.2em;position: relative;}#sk-container-id-2 div.sk-item {position: relative;z-index: 1;}#sk-container-id-2 div.sk-parallel {display: flex;align-items: stretch;justify-content: center;background-color: white;position: relative;}#sk-container-id-2 div.sk-item::before, #sk-container-id-2 div.sk-parallel-item::before {content: \"\";position: absolute;border-left: 1px solid gray;box-sizing: border-box;top: 0;bottom: 0;left: 50%;z-index: -1;}#sk-container-id-2 div.sk-parallel-item {display: flex;flex-direction: column;z-index: 1;position: relative;background-color: white;}#sk-container-id-2 div.sk-parallel-item:first-child::after {align-self: flex-end;width: 50%;}#sk-container-id-2 div.sk-parallel-item:last-child::after {align-self: flex-start;width: 50%;}#sk-container-id-2 div.sk-parallel-item:only-child::after {width: 0;}#sk-container-id-2 div.sk-dashed-wrapped {border: 1px dashed gray;margin: 0 0.4em 0.5em 0.4em;box-sizing: border-box;padding-bottom: 0.4em;background-color: white;}#sk-container-id-2 div.sk-label label {font-family: monospace;font-weight: bold;display: inline-block;line-height: 1.2em;}#sk-container-id-2 div.sk-label-container {text-align: center;}#sk-container-id-2 div.sk-container {/* jupyter's `normalize.less` sets `[hidden] { display: none; }` but bootstrap.min.css set `[hidden] { display: none !important; }` so we also need the `!important` here to be able to override the default hidden behavior on the sphinx rendered scikit-learn.org. See: https://github.com/scikit-learn/scikit-learn/issues/21755 */display: inline-block !important;position: relative;}#sk-container-id-2 div.sk-text-repr-fallback {display: none;}</style><div id=\"sk-container-id-2\" class=\"sk-top-container\"><div class=\"sk-text-repr-fallback\"><pre>RandomizedSearchCV(cv=3, estimator=RandomForestClassifier(), n_iter=100,\n",
       "                   n_jobs=-1,\n",
       "                   param_distributions={&#x27;bootstrap&#x27;: [True, False],\n",
       "                                        &#x27;max_depth&#x27;: [10, 20, 30, 40, 50, 60,\n",
       "                                                      70, 80, 90, 100, 110,\n",
       "                                                      None],\n",
       "                                        &#x27;max_features&#x27;: [&#x27;auto&#x27;, &#x27;sqrt&#x27;],\n",
       "                                        &#x27;min_samples_leaf&#x27;: [1, 2, 3, 4, 5, 6,\n",
       "                                                             7, 8, 9, 10],\n",
       "                                        &#x27;min_samples_split&#x27;: [1, 2, 3, 4, 5, 6,\n",
       "                                                              7, 8, 9, 10],\n",
       "                                        &#x27;n_estimators&#x27;: [200, 400, 600, 800,\n",
       "                                                         1000, 1200, 1400, 1600,\n",
       "                                                         1800, 2000]},\n",
       "                   random_state=42, scoring=&#x27;f1&#x27;, verbose=3)</pre><b>In a Jupyter environment, please rerun this cell to show the HTML representation or trust the notebook. <br />On GitHub, the HTML representation is unable to render, please try loading this page with nbviewer.org.</b></div><div class=\"sk-container\" hidden><div class=\"sk-item sk-dashed-wrapped\"><div class=\"sk-label-container\"><div class=\"sk-label sk-toggleable\"><input class=\"sk-toggleable__control sk-hidden--visually\" id=\"sk-estimator-id-2\" type=\"checkbox\" ><label for=\"sk-estimator-id-2\" class=\"sk-toggleable__label sk-toggleable__label-arrow\">RandomizedSearchCV</label><div class=\"sk-toggleable__content\"><pre>RandomizedSearchCV(cv=3, estimator=RandomForestClassifier(), n_iter=100,\n",
       "                   n_jobs=-1,\n",
       "                   param_distributions={&#x27;bootstrap&#x27;: [True, False],\n",
       "                                        &#x27;max_depth&#x27;: [10, 20, 30, 40, 50, 60,\n",
       "                                                      70, 80, 90, 100, 110,\n",
       "                                                      None],\n",
       "                                        &#x27;max_features&#x27;: [&#x27;auto&#x27;, &#x27;sqrt&#x27;],\n",
       "                                        &#x27;min_samples_leaf&#x27;: [1, 2, 3, 4, 5, 6,\n",
       "                                                             7, 8, 9, 10],\n",
       "                                        &#x27;min_samples_split&#x27;: [1, 2, 3, 4, 5, 6,\n",
       "                                                              7, 8, 9, 10],\n",
       "                                        &#x27;n_estimators&#x27;: [200, 400, 600, 800,\n",
       "                                                         1000, 1200, 1400, 1600,\n",
       "                                                         1800, 2000]},\n",
       "                   random_state=42, scoring=&#x27;f1&#x27;, verbose=3)</pre></div></div></div><div class=\"sk-parallel\"><div class=\"sk-parallel-item\"><div class=\"sk-item\"><div class=\"sk-label-container\"><div class=\"sk-label sk-toggleable\"><input class=\"sk-toggleable__control sk-hidden--visually\" id=\"sk-estimator-id-3\" type=\"checkbox\" ><label for=\"sk-estimator-id-3\" class=\"sk-toggleable__label sk-toggleable__label-arrow\">estimator: RandomForestClassifier</label><div class=\"sk-toggleable__content\"><pre>RandomForestClassifier()</pre></div></div></div><div class=\"sk-serial\"><div class=\"sk-item\"><div class=\"sk-estimator sk-toggleable\"><input class=\"sk-toggleable__control sk-hidden--visually\" id=\"sk-estimator-id-4\" type=\"checkbox\" ><label for=\"sk-estimator-id-4\" class=\"sk-toggleable__label sk-toggleable__label-arrow\">RandomForestClassifier</label><div class=\"sk-toggleable__content\"><pre>RandomForestClassifier()</pre></div></div></div></div></div></div></div></div></div></div>"
      ],
      "text/plain": [
       "RandomizedSearchCV(cv=3, estimator=RandomForestClassifier(), n_iter=100,\n",
       "                   n_jobs=-1,\n",
       "                   param_distributions={'bootstrap': [True, False],\n",
       "                                        'max_depth': [10, 20, 30, 40, 50, 60,\n",
       "                                                      70, 80, 90, 100, 110,\n",
       "                                                      None],\n",
       "                                        'max_features': ['auto', 'sqrt'],\n",
       "                                        'min_samples_leaf': [1, 2, 3, 4, 5, 6,\n",
       "                                                             7, 8, 9, 10],\n",
       "                                        'min_samples_split': [1, 2, 3, 4, 5, 6,\n",
       "                                                              7, 8, 9, 10],\n",
       "                                        'n_estimators': [200, 400, 600, 800,\n",
       "                                                         1000, 1200, 1400, 1600,\n",
       "                                                         1800, 2000]},\n",
       "                   random_state=42, scoring='f1', verbose=3)"
      ]
     },
     "execution_count": 65,
     "metadata": {},
     "output_type": "execute_result"
    }
   ],
   "source": [
    "RS=RandomizedSearchCV(estimator=RC1, scoring='f1',param_distributions=params, n_iter=100, cv=3,\n",
    "                               verbose=3, random_state=42, n_jobs=-1)\n",
    "\n",
    "RS.fit(X_smote.drop(corr_features,axis=1),Y_smote)"
   ]
  },
  {
   "cell_type": "code",
   "execution_count": 66,
   "metadata": {
    "id": "1D5ABvZ8A623"
   },
   "outputs": [
    {
     "data": {
      "text/html": [
       "<style>#sk-container-id-3 {color: black;background-color: white;}#sk-container-id-3 pre{padding: 0;}#sk-container-id-3 div.sk-toggleable {background-color: white;}#sk-container-id-3 label.sk-toggleable__label {cursor: pointer;display: block;width: 100%;margin-bottom: 0;padding: 0.3em;box-sizing: border-box;text-align: center;}#sk-container-id-3 label.sk-toggleable__label-arrow:before {content: \"▸\";float: left;margin-right: 0.25em;color: #696969;}#sk-container-id-3 label.sk-toggleable__label-arrow:hover:before {color: black;}#sk-container-id-3 div.sk-estimator:hover label.sk-toggleable__label-arrow:before {color: black;}#sk-container-id-3 div.sk-toggleable__content {max-height: 0;max-width: 0;overflow: hidden;text-align: left;background-color: #f0f8ff;}#sk-container-id-3 div.sk-toggleable__content pre {margin: 0.2em;color: black;border-radius: 0.25em;background-color: #f0f8ff;}#sk-container-id-3 input.sk-toggleable__control:checked~div.sk-toggleable__content {max-height: 200px;max-width: 100%;overflow: auto;}#sk-container-id-3 input.sk-toggleable__control:checked~label.sk-toggleable__label-arrow:before {content: \"▾\";}#sk-container-id-3 div.sk-estimator input.sk-toggleable__control:checked~label.sk-toggleable__label {background-color: #d4ebff;}#sk-container-id-3 div.sk-label input.sk-toggleable__control:checked~label.sk-toggleable__label {background-color: #d4ebff;}#sk-container-id-3 input.sk-hidden--visually {border: 0;clip: rect(1px 1px 1px 1px);clip: rect(1px, 1px, 1px, 1px);height: 1px;margin: -1px;overflow: hidden;padding: 0;position: absolute;width: 1px;}#sk-container-id-3 div.sk-estimator {font-family: monospace;background-color: #f0f8ff;border: 1px dotted black;border-radius: 0.25em;box-sizing: border-box;margin-bottom: 0.5em;}#sk-container-id-3 div.sk-estimator:hover {background-color: #d4ebff;}#sk-container-id-3 div.sk-parallel-item::after {content: \"\";width: 100%;border-bottom: 1px solid gray;flex-grow: 1;}#sk-container-id-3 div.sk-label:hover label.sk-toggleable__label {background-color: #d4ebff;}#sk-container-id-3 div.sk-serial::before {content: \"\";position: absolute;border-left: 1px solid gray;box-sizing: border-box;top: 0;bottom: 0;left: 50%;z-index: 0;}#sk-container-id-3 div.sk-serial {display: flex;flex-direction: column;align-items: center;background-color: white;padding-right: 0.2em;padding-left: 0.2em;position: relative;}#sk-container-id-3 div.sk-item {position: relative;z-index: 1;}#sk-container-id-3 div.sk-parallel {display: flex;align-items: stretch;justify-content: center;background-color: white;position: relative;}#sk-container-id-3 div.sk-item::before, #sk-container-id-3 div.sk-parallel-item::before {content: \"\";position: absolute;border-left: 1px solid gray;box-sizing: border-box;top: 0;bottom: 0;left: 50%;z-index: -1;}#sk-container-id-3 div.sk-parallel-item {display: flex;flex-direction: column;z-index: 1;position: relative;background-color: white;}#sk-container-id-3 div.sk-parallel-item:first-child::after {align-self: flex-end;width: 50%;}#sk-container-id-3 div.sk-parallel-item:last-child::after {align-self: flex-start;width: 50%;}#sk-container-id-3 div.sk-parallel-item:only-child::after {width: 0;}#sk-container-id-3 div.sk-dashed-wrapped {border: 1px dashed gray;margin: 0 0.4em 0.5em 0.4em;box-sizing: border-box;padding-bottom: 0.4em;background-color: white;}#sk-container-id-3 div.sk-label label {font-family: monospace;font-weight: bold;display: inline-block;line-height: 1.2em;}#sk-container-id-3 div.sk-label-container {text-align: center;}#sk-container-id-3 div.sk-container {/* jupyter's `normalize.less` sets `[hidden] { display: none; }` but bootstrap.min.css set `[hidden] { display: none !important; }` so we also need the `!important` here to be able to override the default hidden behavior on the sphinx rendered scikit-learn.org. See: https://github.com/scikit-learn/scikit-learn/issues/21755 */display: inline-block !important;position: relative;}#sk-container-id-3 div.sk-text-repr-fallback {display: none;}</style><div id=\"sk-container-id-3\" class=\"sk-top-container\"><div class=\"sk-text-repr-fallback\"><pre>RandomForestClassifier(bootstrap=False, max_depth=100, min_samples_split=3,\n",
       "                       n_estimators=400)</pre><b>In a Jupyter environment, please rerun this cell to show the HTML representation or trust the notebook. <br />On GitHub, the HTML representation is unable to render, please try loading this page with nbviewer.org.</b></div><div class=\"sk-container\" hidden><div class=\"sk-item\"><div class=\"sk-estimator sk-toggleable\"><input class=\"sk-toggleable__control sk-hidden--visually\" id=\"sk-estimator-id-5\" type=\"checkbox\" checked><label for=\"sk-estimator-id-5\" class=\"sk-toggleable__label sk-toggleable__label-arrow\">RandomForestClassifier</label><div class=\"sk-toggleable__content\"><pre>RandomForestClassifier(bootstrap=False, max_depth=100, min_samples_split=3,\n",
       "                       n_estimators=400)</pre></div></div></div></div></div>"
      ],
      "text/plain": [
       "RandomForestClassifier(bootstrap=False, max_depth=100, min_samples_split=3,\n",
       "                       n_estimators=400)"
      ]
     },
     "execution_count": 66,
     "metadata": {},
     "output_type": "execute_result"
    }
   ],
   "source": [
    "RS.best_estimator_"
   ]
  },
  {
   "cell_type": "code",
   "execution_count": 67,
   "metadata": {
    "id": "VgEd-RZvCzJG"
   },
   "outputs": [
    {
     "data": {
      "text/plain": [
       "{'n_estimators': 400,\n",
       " 'min_samples_split': 3,\n",
       " 'min_samples_leaf': 1,\n",
       " 'max_features': 'sqrt',\n",
       " 'max_depth': 100,\n",
       " 'bootstrap': False}"
      ]
     },
     "execution_count": 67,
     "metadata": {},
     "output_type": "execute_result"
    }
   ],
   "source": [
    "RS.best_params_ #best_params"
   ]
  },
  {
   "cell_type": "code",
   "execution_count": 68,
   "metadata": {
    "id": "jCJLbvuVCzAY"
   },
   "outputs": [
    {
     "data": {
      "text/html": [
       "<style>#sk-container-id-4 {color: black;background-color: white;}#sk-container-id-4 pre{padding: 0;}#sk-container-id-4 div.sk-toggleable {background-color: white;}#sk-container-id-4 label.sk-toggleable__label {cursor: pointer;display: block;width: 100%;margin-bottom: 0;padding: 0.3em;box-sizing: border-box;text-align: center;}#sk-container-id-4 label.sk-toggleable__label-arrow:before {content: \"▸\";float: left;margin-right: 0.25em;color: #696969;}#sk-container-id-4 label.sk-toggleable__label-arrow:hover:before {color: black;}#sk-container-id-4 div.sk-estimator:hover label.sk-toggleable__label-arrow:before {color: black;}#sk-container-id-4 div.sk-toggleable__content {max-height: 0;max-width: 0;overflow: hidden;text-align: left;background-color: #f0f8ff;}#sk-container-id-4 div.sk-toggleable__content pre {margin: 0.2em;color: black;border-radius: 0.25em;background-color: #f0f8ff;}#sk-container-id-4 input.sk-toggleable__control:checked~div.sk-toggleable__content {max-height: 200px;max-width: 100%;overflow: auto;}#sk-container-id-4 input.sk-toggleable__control:checked~label.sk-toggleable__label-arrow:before {content: \"▾\";}#sk-container-id-4 div.sk-estimator input.sk-toggleable__control:checked~label.sk-toggleable__label {background-color: #d4ebff;}#sk-container-id-4 div.sk-label input.sk-toggleable__control:checked~label.sk-toggleable__label {background-color: #d4ebff;}#sk-container-id-4 input.sk-hidden--visually {border: 0;clip: rect(1px 1px 1px 1px);clip: rect(1px, 1px, 1px, 1px);height: 1px;margin: -1px;overflow: hidden;padding: 0;position: absolute;width: 1px;}#sk-container-id-4 div.sk-estimator {font-family: monospace;background-color: #f0f8ff;border: 1px dotted black;border-radius: 0.25em;box-sizing: border-box;margin-bottom: 0.5em;}#sk-container-id-4 div.sk-estimator:hover {background-color: #d4ebff;}#sk-container-id-4 div.sk-parallel-item::after {content: \"\";width: 100%;border-bottom: 1px solid gray;flex-grow: 1;}#sk-container-id-4 div.sk-label:hover label.sk-toggleable__label {background-color: #d4ebff;}#sk-container-id-4 div.sk-serial::before {content: \"\";position: absolute;border-left: 1px solid gray;box-sizing: border-box;top: 0;bottom: 0;left: 50%;z-index: 0;}#sk-container-id-4 div.sk-serial {display: flex;flex-direction: column;align-items: center;background-color: white;padding-right: 0.2em;padding-left: 0.2em;position: relative;}#sk-container-id-4 div.sk-item {position: relative;z-index: 1;}#sk-container-id-4 div.sk-parallel {display: flex;align-items: stretch;justify-content: center;background-color: white;position: relative;}#sk-container-id-4 div.sk-item::before, #sk-container-id-4 div.sk-parallel-item::before {content: \"\";position: absolute;border-left: 1px solid gray;box-sizing: border-box;top: 0;bottom: 0;left: 50%;z-index: -1;}#sk-container-id-4 div.sk-parallel-item {display: flex;flex-direction: column;z-index: 1;position: relative;background-color: white;}#sk-container-id-4 div.sk-parallel-item:first-child::after {align-self: flex-end;width: 50%;}#sk-container-id-4 div.sk-parallel-item:last-child::after {align-self: flex-start;width: 50%;}#sk-container-id-4 div.sk-parallel-item:only-child::after {width: 0;}#sk-container-id-4 div.sk-dashed-wrapped {border: 1px dashed gray;margin: 0 0.4em 0.5em 0.4em;box-sizing: border-box;padding-bottom: 0.4em;background-color: white;}#sk-container-id-4 div.sk-label label {font-family: monospace;font-weight: bold;display: inline-block;line-height: 1.2em;}#sk-container-id-4 div.sk-label-container {text-align: center;}#sk-container-id-4 div.sk-container {/* jupyter's `normalize.less` sets `[hidden] { display: none; }` but bootstrap.min.css set `[hidden] { display: none !important; }` so we also need the `!important` here to be able to override the default hidden behavior on the sphinx rendered scikit-learn.org. See: https://github.com/scikit-learn/scikit-learn/issues/21755 */display: inline-block !important;position: relative;}#sk-container-id-4 div.sk-text-repr-fallback {display: none;}</style><div id=\"sk-container-id-4\" class=\"sk-top-container\"><div class=\"sk-text-repr-fallback\"><pre>RandomForestClassifier(max_depth=10, n_estimators=1400)</pre><b>In a Jupyter environment, please rerun this cell to show the HTML representation or trust the notebook. <br />On GitHub, the HTML representation is unable to render, please try loading this page with nbviewer.org.</b></div><div class=\"sk-container\" hidden><div class=\"sk-item\"><div class=\"sk-estimator sk-toggleable\"><input class=\"sk-toggleable__control sk-hidden--visually\" id=\"sk-estimator-id-6\" type=\"checkbox\" checked><label for=\"sk-estimator-id-6\" class=\"sk-toggleable__label sk-toggleable__label-arrow\">RandomForestClassifier</label><div class=\"sk-toggleable__content\"><pre>RandomForestClassifier(max_depth=10, n_estimators=1400)</pre></div></div></div></div></div>"
      ],
      "text/plain": [
       "RandomForestClassifier(max_depth=10, n_estimators=1400)"
      ]
     },
     "execution_count": 68,
     "metadata": {},
     "output_type": "execute_result"
    }
   ],
   "source": [
    "np.random.seed(42)\n",
    "model_RC=RandomForestClassifier(max_features='sqrt', min_samples_leaf=1,max_depth= 10,\n",
    "                       min_samples_split=2, n_estimators=1400,bootstrap=True) #fit with best_params\n",
    "model_RC.fit(X_smote.drop(corr_features,axis=1), Y_smote)"
   ]
  },
  {
   "cell_type": "code",
   "execution_count": 69,
   "metadata": {
    "id": "4hh1Bq7-C4nw"
   },
   "outputs": [
    {
     "data": {
      "text/plain": [
       "0.9004329004329005"
      ]
     },
     "execution_count": 69,
     "metadata": {},
     "output_type": "execute_result"
    }
   ],
   "source": [
    "model_RC.score(X_test.drop(corr_features,axis=1),y_test)"
   ]
  },
  {
   "cell_type": "markdown",
   "metadata": {
    "id": "UzMmK2IWC-tg"
   },
   "source": [
    "After Random Forest Classification Tuned and got best score as **0.90** as less than before tuning."
   ]
  },
  {
   "cell_type": "markdown",
   "metadata": {
    "id": "xLT9tnyLDCtI"
   },
   "source": [
    "## XGBOOST Classification"
   ]
  },
  {
   "cell_type": "code",
   "execution_count": 63,
   "metadata": {
    "id": "NVRZ1ZERC4hq"
   },
   "outputs": [],
   "source": [
    "params_xg={\n",
    "    'gamma':[x for x in np.linspace(0,100,1000)],\n",
    "    'max_depth':[int(x) for x in range(1,11)],\n",
    "\n",
    "    'n_estimators':[int(x) for x in np.arange(1,200)],\n",
    "    'learning_rate':[0.01,0.02,0.03,0.05,0.1,0.2,0.300000012,0.4,0.5]\n",
    "}"
   ]
  },
  {
   "cell_type": "code",
   "execution_count": 64,
   "metadata": {
    "id": "HsqgS9TzC4fx"
   },
   "outputs": [],
   "source": [
    "np.random.seed(42)\n",
    "XG=XGBClassifier()"
   ]
  },
  {
   "cell_type": "markdown",
   "metadata": {
    "id": "ZpN05G88DL7q"
   },
   "source": [
    "So now rather than doing hyperparamer tuning by hand or manully let's use `RandomizedSearchCV`"
   ]
  },
  {
   "cell_type": "code",
   "execution_count": 65,
   "metadata": {
    "id": "CiaoW5EHC4ao"
   },
   "outputs": [
    {
     "name": "stdout",
     "output_type": "stream",
     "text": [
      "Fitting 3 folds for each of 100 candidates, totalling 300 fits\n"
     ]
    },
    {
     "data": {
      "text/html": [
       "<style>#sk-container-id-2 {color: black;background-color: white;}#sk-container-id-2 pre{padding: 0;}#sk-container-id-2 div.sk-toggleable {background-color: white;}#sk-container-id-2 label.sk-toggleable__label {cursor: pointer;display: block;width: 100%;margin-bottom: 0;padding: 0.3em;box-sizing: border-box;text-align: center;}#sk-container-id-2 label.sk-toggleable__label-arrow:before {content: \"▸\";float: left;margin-right: 0.25em;color: #696969;}#sk-container-id-2 label.sk-toggleable__label-arrow:hover:before {color: black;}#sk-container-id-2 div.sk-estimator:hover label.sk-toggleable__label-arrow:before {color: black;}#sk-container-id-2 div.sk-toggleable__content {max-height: 0;max-width: 0;overflow: hidden;text-align: left;background-color: #f0f8ff;}#sk-container-id-2 div.sk-toggleable__content pre {margin: 0.2em;color: black;border-radius: 0.25em;background-color: #f0f8ff;}#sk-container-id-2 input.sk-toggleable__control:checked~div.sk-toggleable__content {max-height: 200px;max-width: 100%;overflow: auto;}#sk-container-id-2 input.sk-toggleable__control:checked~label.sk-toggleable__label-arrow:before {content: \"▾\";}#sk-container-id-2 div.sk-estimator input.sk-toggleable__control:checked~label.sk-toggleable__label {background-color: #d4ebff;}#sk-container-id-2 div.sk-label input.sk-toggleable__control:checked~label.sk-toggleable__label {background-color: #d4ebff;}#sk-container-id-2 input.sk-hidden--visually {border: 0;clip: rect(1px 1px 1px 1px);clip: rect(1px, 1px, 1px, 1px);height: 1px;margin: -1px;overflow: hidden;padding: 0;position: absolute;width: 1px;}#sk-container-id-2 div.sk-estimator {font-family: monospace;background-color: #f0f8ff;border: 1px dotted black;border-radius: 0.25em;box-sizing: border-box;margin-bottom: 0.5em;}#sk-container-id-2 div.sk-estimator:hover {background-color: #d4ebff;}#sk-container-id-2 div.sk-parallel-item::after {content: \"\";width: 100%;border-bottom: 1px solid gray;flex-grow: 1;}#sk-container-id-2 div.sk-label:hover label.sk-toggleable__label {background-color: #d4ebff;}#sk-container-id-2 div.sk-serial::before {content: \"\";position: absolute;border-left: 1px solid gray;box-sizing: border-box;top: 0;bottom: 0;left: 50%;z-index: 0;}#sk-container-id-2 div.sk-serial {display: flex;flex-direction: column;align-items: center;background-color: white;padding-right: 0.2em;padding-left: 0.2em;position: relative;}#sk-container-id-2 div.sk-item {position: relative;z-index: 1;}#sk-container-id-2 div.sk-parallel {display: flex;align-items: stretch;justify-content: center;background-color: white;position: relative;}#sk-container-id-2 div.sk-item::before, #sk-container-id-2 div.sk-parallel-item::before {content: \"\";position: absolute;border-left: 1px solid gray;box-sizing: border-box;top: 0;bottom: 0;left: 50%;z-index: -1;}#sk-container-id-2 div.sk-parallel-item {display: flex;flex-direction: column;z-index: 1;position: relative;background-color: white;}#sk-container-id-2 div.sk-parallel-item:first-child::after {align-self: flex-end;width: 50%;}#sk-container-id-2 div.sk-parallel-item:last-child::after {align-self: flex-start;width: 50%;}#sk-container-id-2 div.sk-parallel-item:only-child::after {width: 0;}#sk-container-id-2 div.sk-dashed-wrapped {border: 1px dashed gray;margin: 0 0.4em 0.5em 0.4em;box-sizing: border-box;padding-bottom: 0.4em;background-color: white;}#sk-container-id-2 div.sk-label label {font-family: monospace;font-weight: bold;display: inline-block;line-height: 1.2em;}#sk-container-id-2 div.sk-label-container {text-align: center;}#sk-container-id-2 div.sk-container {/* jupyter's `normalize.less` sets `[hidden] { display: none; }` but bootstrap.min.css set `[hidden] { display: none !important; }` so we also need the `!important` here to be able to override the default hidden behavior on the sphinx rendered scikit-learn.org. See: https://github.com/scikit-learn/scikit-learn/issues/21755 */display: inline-block !important;position: relative;}#sk-container-id-2 div.sk-text-repr-fallback {display: none;}</style><div id=\"sk-container-id-2\" class=\"sk-top-container\"><div class=\"sk-text-repr-fallback\"><pre>RandomizedSearchCV(cv=3,\n",
       "                   estimator=XGBClassifier(base_score=None, booster=None,\n",
       "                                           callbacks=None,\n",
       "                                           colsample_bylevel=None,\n",
       "                                           colsample_bynode=None,\n",
       "                                           colsample_bytree=None,\n",
       "                                           early_stopping_rounds=None,\n",
       "                                           enable_categorical=False,\n",
       "                                           eval_metric=None, gamma=None,\n",
       "                                           gpu_id=None, grow_policy=None,\n",
       "                                           importance_type=None,\n",
       "                                           interaction_constraints=None,\n",
       "                                           learning_rate=None, max_bin=None,...\n",
       "                                                  2.4024024024024024,\n",
       "                                                  2.5025025025025025,\n",
       "                                                  2.6026026026026026,\n",
       "                                                  2.702702702702703,\n",
       "                                                  2.802802802802803,\n",
       "                                                  2.902902902902903, ...],\n",
       "                                        &#x27;learning_rate&#x27;: [0.01, 0.02, 0.03,\n",
       "                                                          0.05, 0.1, 0.2,\n",
       "                                                          0.300000012, 0.4,\n",
       "                                                          0.5],\n",
       "                                        &#x27;max_depth&#x27;: [1, 2, 3, 4, 5, 6, 7, 8, 9,\n",
       "                                                      10],\n",
       "                                        &#x27;n_estimators&#x27;: [1, 2, 3, 4, 5, 6, 7, 8,\n",
       "                                                         9, 10, 11, 12, 13, 14,\n",
       "                                                         15, 16, 17, 18, 19, 20,\n",
       "                                                         21, 22, 23, 24, 25, 26,\n",
       "                                                         27, 28, 29, 30, ...]},\n",
       "                   random_state=42, scoring=&#x27;f1&#x27;, verbose=3)</pre><b>In a Jupyter environment, please rerun this cell to show the HTML representation or trust the notebook. <br />On GitHub, the HTML representation is unable to render, please try loading this page with nbviewer.org.</b></div><div class=\"sk-container\" hidden><div class=\"sk-item sk-dashed-wrapped\"><div class=\"sk-label-container\"><div class=\"sk-label sk-toggleable\"><input class=\"sk-toggleable__control sk-hidden--visually\" id=\"sk-estimator-id-2\" type=\"checkbox\" ><label for=\"sk-estimator-id-2\" class=\"sk-toggleable__label sk-toggleable__label-arrow\">RandomizedSearchCV</label><div class=\"sk-toggleable__content\"><pre>RandomizedSearchCV(cv=3,\n",
       "                   estimator=XGBClassifier(base_score=None, booster=None,\n",
       "                                           callbacks=None,\n",
       "                                           colsample_bylevel=None,\n",
       "                                           colsample_bynode=None,\n",
       "                                           colsample_bytree=None,\n",
       "                                           early_stopping_rounds=None,\n",
       "                                           enable_categorical=False,\n",
       "                                           eval_metric=None, gamma=None,\n",
       "                                           gpu_id=None, grow_policy=None,\n",
       "                                           importance_type=None,\n",
       "                                           interaction_constraints=None,\n",
       "                                           learning_rate=None, max_bin=None,...\n",
       "                                                  2.4024024024024024,\n",
       "                                                  2.5025025025025025,\n",
       "                                                  2.6026026026026026,\n",
       "                                                  2.702702702702703,\n",
       "                                                  2.802802802802803,\n",
       "                                                  2.902902902902903, ...],\n",
       "                                        &#x27;learning_rate&#x27;: [0.01, 0.02, 0.03,\n",
       "                                                          0.05, 0.1, 0.2,\n",
       "                                                          0.300000012, 0.4,\n",
       "                                                          0.5],\n",
       "                                        &#x27;max_depth&#x27;: [1, 2, 3, 4, 5, 6, 7, 8, 9,\n",
       "                                                      10],\n",
       "                                        &#x27;n_estimators&#x27;: [1, 2, 3, 4, 5, 6, 7, 8,\n",
       "                                                         9, 10, 11, 12, 13, 14,\n",
       "                                                         15, 16, 17, 18, 19, 20,\n",
       "                                                         21, 22, 23, 24, 25, 26,\n",
       "                                                         27, 28, 29, 30, ...]},\n",
       "                   random_state=42, scoring=&#x27;f1&#x27;, verbose=3)</pre></div></div></div><div class=\"sk-parallel\"><div class=\"sk-parallel-item\"><div class=\"sk-item\"><div class=\"sk-label-container\"><div class=\"sk-label sk-toggleable\"><input class=\"sk-toggleable__control sk-hidden--visually\" id=\"sk-estimator-id-3\" type=\"checkbox\" ><label for=\"sk-estimator-id-3\" class=\"sk-toggleable__label sk-toggleable__label-arrow\">estimator: XGBClassifier</label><div class=\"sk-toggleable__content\"><pre>XGBClassifier(base_score=None, booster=None, callbacks=None,\n",
       "              colsample_bylevel=None, colsample_bynode=None,\n",
       "              colsample_bytree=None, early_stopping_rounds=None,\n",
       "              enable_categorical=False, eval_metric=None, gamma=None,\n",
       "              gpu_id=None, grow_policy=None, importance_type=None,\n",
       "              interaction_constraints=None, learning_rate=None, max_bin=None,\n",
       "              max_cat_to_onehot=None, max_delta_step=None, max_depth=None,\n",
       "              max_leaves=None, min_child_weight=None, missing=nan,\n",
       "              monotone_constraints=None, n_estimators=100, n_jobs=None,\n",
       "              num_parallel_tree=None, predictor=None, random_state=None,\n",
       "              reg_alpha=None, reg_lambda=None, ...)</pre></div></div></div><div class=\"sk-serial\"><div class=\"sk-item\"><div class=\"sk-estimator sk-toggleable\"><input class=\"sk-toggleable__control sk-hidden--visually\" id=\"sk-estimator-id-4\" type=\"checkbox\" ><label for=\"sk-estimator-id-4\" class=\"sk-toggleable__label sk-toggleable__label-arrow\">XGBClassifier</label><div class=\"sk-toggleable__content\"><pre>XGBClassifier(base_score=None, booster=None, callbacks=None,\n",
       "              colsample_bylevel=None, colsample_bynode=None,\n",
       "              colsample_bytree=None, early_stopping_rounds=None,\n",
       "              enable_categorical=False, eval_metric=None, gamma=None,\n",
       "              gpu_id=None, grow_policy=None, importance_type=None,\n",
       "              interaction_constraints=None, learning_rate=None, max_bin=None,\n",
       "              max_cat_to_onehot=None, max_delta_step=None, max_depth=None,\n",
       "              max_leaves=None, min_child_weight=None, missing=nan,\n",
       "              monotone_constraints=None, n_estimators=100, n_jobs=None,\n",
       "              num_parallel_tree=None, predictor=None, random_state=None,\n",
       "              reg_alpha=None, reg_lambda=None, ...)</pre></div></div></div></div></div></div></div></div></div></div>"
      ],
      "text/plain": [
       "RandomizedSearchCV(cv=3,\n",
       "                   estimator=XGBClassifier(base_score=None, booster=None,\n",
       "                                           callbacks=None,\n",
       "                                           colsample_bylevel=None,\n",
       "                                           colsample_bynode=None,\n",
       "                                           colsample_bytree=None,\n",
       "                                           early_stopping_rounds=None,\n",
       "                                           enable_categorical=False,\n",
       "                                           eval_metric=None, gamma=None,\n",
       "                                           gpu_id=None, grow_policy=None,\n",
       "                                           importance_type=None,\n",
       "                                           interaction_constraints=None,\n",
       "                                           learning_rate=None, max_bin=None,...\n",
       "                                                  2.4024024024024024,\n",
       "                                                  2.5025025025025025,\n",
       "                                                  2.6026026026026026,\n",
       "                                                  2.702702702702703,\n",
       "                                                  2.802802802802803,\n",
       "                                                  2.902902902902903, ...],\n",
       "                                        'learning_rate': [0.01, 0.02, 0.03,\n",
       "                                                          0.05, 0.1, 0.2,\n",
       "                                                          0.300000012, 0.4,\n",
       "                                                          0.5],\n",
       "                                        'max_depth': [1, 2, 3, 4, 5, 6, 7, 8, 9,\n",
       "                                                      10],\n",
       "                                        'n_estimators': [1, 2, 3, 4, 5, 6, 7, 8,\n",
       "                                                         9, 10, 11, 12, 13, 14,\n",
       "                                                         15, 16, 17, 18, 19, 20,\n",
       "                                                         21, 22, 23, 24, 25, 26,\n",
       "                                                         27, 28, 29, 30, ...]},\n",
       "                   random_state=42, scoring='f1', verbose=3)"
      ]
     },
     "execution_count": 65,
     "metadata": {},
     "output_type": "execute_result"
    }
   ],
   "source": [
    "Xg_RS=RandomizedSearchCV(estimator=XG, scoring='f1',param_distributions=params_xg, n_iter=100, cv=3,\n",
    "                               verbose=3, random_state=42, n_jobs=-1)\n",
    "\n",
    "Xg_RS.fit(X_smote.drop(corr_features,axis=1), Y_smote)"
   ]
  },
  {
   "cell_type": "code",
   "execution_count": 66,
   "metadata": {
    "id": "CoBFXvr4C4Xe"
   },
   "outputs": [
    {
     "data": {
      "text/html": [
       "<style>#sk-container-id-3 {color: black;background-color: white;}#sk-container-id-3 pre{padding: 0;}#sk-container-id-3 div.sk-toggleable {background-color: white;}#sk-container-id-3 label.sk-toggleable__label {cursor: pointer;display: block;width: 100%;margin-bottom: 0;padding: 0.3em;box-sizing: border-box;text-align: center;}#sk-container-id-3 label.sk-toggleable__label-arrow:before {content: \"▸\";float: left;margin-right: 0.25em;color: #696969;}#sk-container-id-3 label.sk-toggleable__label-arrow:hover:before {color: black;}#sk-container-id-3 div.sk-estimator:hover label.sk-toggleable__label-arrow:before {color: black;}#sk-container-id-3 div.sk-toggleable__content {max-height: 0;max-width: 0;overflow: hidden;text-align: left;background-color: #f0f8ff;}#sk-container-id-3 div.sk-toggleable__content pre {margin: 0.2em;color: black;border-radius: 0.25em;background-color: #f0f8ff;}#sk-container-id-3 input.sk-toggleable__control:checked~div.sk-toggleable__content {max-height: 200px;max-width: 100%;overflow: auto;}#sk-container-id-3 input.sk-toggleable__control:checked~label.sk-toggleable__label-arrow:before {content: \"▾\";}#sk-container-id-3 div.sk-estimator input.sk-toggleable__control:checked~label.sk-toggleable__label {background-color: #d4ebff;}#sk-container-id-3 div.sk-label input.sk-toggleable__control:checked~label.sk-toggleable__label {background-color: #d4ebff;}#sk-container-id-3 input.sk-hidden--visually {border: 0;clip: rect(1px 1px 1px 1px);clip: rect(1px, 1px, 1px, 1px);height: 1px;margin: -1px;overflow: hidden;padding: 0;position: absolute;width: 1px;}#sk-container-id-3 div.sk-estimator {font-family: monospace;background-color: #f0f8ff;border: 1px dotted black;border-radius: 0.25em;box-sizing: border-box;margin-bottom: 0.5em;}#sk-container-id-3 div.sk-estimator:hover {background-color: #d4ebff;}#sk-container-id-3 div.sk-parallel-item::after {content: \"\";width: 100%;border-bottom: 1px solid gray;flex-grow: 1;}#sk-container-id-3 div.sk-label:hover label.sk-toggleable__label {background-color: #d4ebff;}#sk-container-id-3 div.sk-serial::before {content: \"\";position: absolute;border-left: 1px solid gray;box-sizing: border-box;top: 0;bottom: 0;left: 50%;z-index: 0;}#sk-container-id-3 div.sk-serial {display: flex;flex-direction: column;align-items: center;background-color: white;padding-right: 0.2em;padding-left: 0.2em;position: relative;}#sk-container-id-3 div.sk-item {position: relative;z-index: 1;}#sk-container-id-3 div.sk-parallel {display: flex;align-items: stretch;justify-content: center;background-color: white;position: relative;}#sk-container-id-3 div.sk-item::before, #sk-container-id-3 div.sk-parallel-item::before {content: \"\";position: absolute;border-left: 1px solid gray;box-sizing: border-box;top: 0;bottom: 0;left: 50%;z-index: -1;}#sk-container-id-3 div.sk-parallel-item {display: flex;flex-direction: column;z-index: 1;position: relative;background-color: white;}#sk-container-id-3 div.sk-parallel-item:first-child::after {align-self: flex-end;width: 50%;}#sk-container-id-3 div.sk-parallel-item:last-child::after {align-self: flex-start;width: 50%;}#sk-container-id-3 div.sk-parallel-item:only-child::after {width: 0;}#sk-container-id-3 div.sk-dashed-wrapped {border: 1px dashed gray;margin: 0 0.4em 0.5em 0.4em;box-sizing: border-box;padding-bottom: 0.4em;background-color: white;}#sk-container-id-3 div.sk-label label {font-family: monospace;font-weight: bold;display: inline-block;line-height: 1.2em;}#sk-container-id-3 div.sk-label-container {text-align: center;}#sk-container-id-3 div.sk-container {/* jupyter's `normalize.less` sets `[hidden] { display: none; }` but bootstrap.min.css set `[hidden] { display: none !important; }` so we also need the `!important` here to be able to override the default hidden behavior on the sphinx rendered scikit-learn.org. See: https://github.com/scikit-learn/scikit-learn/issues/21755 */display: inline-block !important;position: relative;}#sk-container-id-3 div.sk-text-repr-fallback {display: none;}</style><div id=\"sk-container-id-3\" class=\"sk-top-container\"><div class=\"sk-text-repr-fallback\"><pre>XGBClassifier(base_score=0.5, booster=&#x27;gbtree&#x27;, callbacks=None,\n",
       "              colsample_bylevel=1, colsample_bynode=1, colsample_bytree=1,\n",
       "              early_stopping_rounds=None, enable_categorical=False,\n",
       "              eval_metric=None, gamma=0.5005005005005005, gpu_id=-1,\n",
       "              grow_policy=&#x27;depthwise&#x27;, importance_type=None,\n",
       "              interaction_constraints=&#x27;&#x27;, learning_rate=0.300000012,\n",
       "              max_bin=256, max_cat_to_onehot=4, max_delta_step=0, max_depth=10,\n",
       "              max_leaves=0, min_child_weight=1, missing=nan,\n",
       "              monotone_constraints=&#x27;()&#x27;, n_estimators=75, n_jobs=0,\n",
       "              num_parallel_tree=1, predictor=&#x27;auto&#x27;, random_state=0,\n",
       "              reg_alpha=0, reg_lambda=1, ...)</pre><b>In a Jupyter environment, please rerun this cell to show the HTML representation or trust the notebook. <br />On GitHub, the HTML representation is unable to render, please try loading this page with nbviewer.org.</b></div><div class=\"sk-container\" hidden><div class=\"sk-item\"><div class=\"sk-estimator sk-toggleable\"><input class=\"sk-toggleable__control sk-hidden--visually\" id=\"sk-estimator-id-5\" type=\"checkbox\" checked><label for=\"sk-estimator-id-5\" class=\"sk-toggleable__label sk-toggleable__label-arrow\">XGBClassifier</label><div class=\"sk-toggleable__content\"><pre>XGBClassifier(base_score=0.5, booster=&#x27;gbtree&#x27;, callbacks=None,\n",
       "              colsample_bylevel=1, colsample_bynode=1, colsample_bytree=1,\n",
       "              early_stopping_rounds=None, enable_categorical=False,\n",
       "              eval_metric=None, gamma=0.5005005005005005, gpu_id=-1,\n",
       "              grow_policy=&#x27;depthwise&#x27;, importance_type=None,\n",
       "              interaction_constraints=&#x27;&#x27;, learning_rate=0.300000012,\n",
       "              max_bin=256, max_cat_to_onehot=4, max_delta_step=0, max_depth=10,\n",
       "              max_leaves=0, min_child_weight=1, missing=nan,\n",
       "              monotone_constraints=&#x27;()&#x27;, n_estimators=75, n_jobs=0,\n",
       "              num_parallel_tree=1, predictor=&#x27;auto&#x27;, random_state=0,\n",
       "              reg_alpha=0, reg_lambda=1, ...)</pre></div></div></div></div></div>"
      ],
      "text/plain": [
       "XGBClassifier(base_score=0.5, booster='gbtree', callbacks=None,\n",
       "              colsample_bylevel=1, colsample_bynode=1, colsample_bytree=1,\n",
       "              early_stopping_rounds=None, enable_categorical=False,\n",
       "              eval_metric=None, gamma=0.5005005005005005, gpu_id=-1,\n",
       "              grow_policy='depthwise', importance_type=None,\n",
       "              interaction_constraints='', learning_rate=0.300000012,\n",
       "              max_bin=256, max_cat_to_onehot=4, max_delta_step=0, max_depth=10,\n",
       "              max_leaves=0, min_child_weight=1, missing=nan,\n",
       "              monotone_constraints='()', n_estimators=75, n_jobs=0,\n",
       "              num_parallel_tree=1, predictor='auto', random_state=0,\n",
       "              reg_alpha=0, reg_lambda=1, ...)"
      ]
     },
     "execution_count": 66,
     "metadata": {},
     "output_type": "execute_result"
    }
   ],
   "source": [
    "Xg_RS.best_estimator_ #best_estimator"
   ]
  },
  {
   "cell_type": "code",
   "execution_count": 67,
   "metadata": {
    "id": "1UL6hCSUC4U5"
   },
   "outputs": [
    {
     "data": {
      "text/plain": [
       "{'n_estimators': 75,\n",
       " 'max_depth': 10,\n",
       " 'learning_rate': 0.300000012,\n",
       " 'gamma': 0.5005005005005005}"
      ]
     },
     "execution_count": 67,
     "metadata": {},
     "output_type": "execute_result"
    }
   ],
   "source": [
    "Xg_RS.best_params_ #best_params"
   ]
  },
  {
   "cell_type": "code",
   "execution_count": 68,
   "metadata": {
    "id": "Sjh6e-SzC4SH"
   },
   "outputs": [
    {
     "data": {
      "text/html": [
       "<style>#sk-container-id-4 {color: black;background-color: white;}#sk-container-id-4 pre{padding: 0;}#sk-container-id-4 div.sk-toggleable {background-color: white;}#sk-container-id-4 label.sk-toggleable__label {cursor: pointer;display: block;width: 100%;margin-bottom: 0;padding: 0.3em;box-sizing: border-box;text-align: center;}#sk-container-id-4 label.sk-toggleable__label-arrow:before {content: \"▸\";float: left;margin-right: 0.25em;color: #696969;}#sk-container-id-4 label.sk-toggleable__label-arrow:hover:before {color: black;}#sk-container-id-4 div.sk-estimator:hover label.sk-toggleable__label-arrow:before {color: black;}#sk-container-id-4 div.sk-toggleable__content {max-height: 0;max-width: 0;overflow: hidden;text-align: left;background-color: #f0f8ff;}#sk-container-id-4 div.sk-toggleable__content pre {margin: 0.2em;color: black;border-radius: 0.25em;background-color: #f0f8ff;}#sk-container-id-4 input.sk-toggleable__control:checked~div.sk-toggleable__content {max-height: 200px;max-width: 100%;overflow: auto;}#sk-container-id-4 input.sk-toggleable__control:checked~label.sk-toggleable__label-arrow:before {content: \"▾\";}#sk-container-id-4 div.sk-estimator input.sk-toggleable__control:checked~label.sk-toggleable__label {background-color: #d4ebff;}#sk-container-id-4 div.sk-label input.sk-toggleable__control:checked~label.sk-toggleable__label {background-color: #d4ebff;}#sk-container-id-4 input.sk-hidden--visually {border: 0;clip: rect(1px 1px 1px 1px);clip: rect(1px, 1px, 1px, 1px);height: 1px;margin: -1px;overflow: hidden;padding: 0;position: absolute;width: 1px;}#sk-container-id-4 div.sk-estimator {font-family: monospace;background-color: #f0f8ff;border: 1px dotted black;border-radius: 0.25em;box-sizing: border-box;margin-bottom: 0.5em;}#sk-container-id-4 div.sk-estimator:hover {background-color: #d4ebff;}#sk-container-id-4 div.sk-parallel-item::after {content: \"\";width: 100%;border-bottom: 1px solid gray;flex-grow: 1;}#sk-container-id-4 div.sk-label:hover label.sk-toggleable__label {background-color: #d4ebff;}#sk-container-id-4 div.sk-serial::before {content: \"\";position: absolute;border-left: 1px solid gray;box-sizing: border-box;top: 0;bottom: 0;left: 50%;z-index: 0;}#sk-container-id-4 div.sk-serial {display: flex;flex-direction: column;align-items: center;background-color: white;padding-right: 0.2em;padding-left: 0.2em;position: relative;}#sk-container-id-4 div.sk-item {position: relative;z-index: 1;}#sk-container-id-4 div.sk-parallel {display: flex;align-items: stretch;justify-content: center;background-color: white;position: relative;}#sk-container-id-4 div.sk-item::before, #sk-container-id-4 div.sk-parallel-item::before {content: \"\";position: absolute;border-left: 1px solid gray;box-sizing: border-box;top: 0;bottom: 0;left: 50%;z-index: -1;}#sk-container-id-4 div.sk-parallel-item {display: flex;flex-direction: column;z-index: 1;position: relative;background-color: white;}#sk-container-id-4 div.sk-parallel-item:first-child::after {align-self: flex-end;width: 50%;}#sk-container-id-4 div.sk-parallel-item:last-child::after {align-self: flex-start;width: 50%;}#sk-container-id-4 div.sk-parallel-item:only-child::after {width: 0;}#sk-container-id-4 div.sk-dashed-wrapped {border: 1px dashed gray;margin: 0 0.4em 0.5em 0.4em;box-sizing: border-box;padding-bottom: 0.4em;background-color: white;}#sk-container-id-4 div.sk-label label {font-family: monospace;font-weight: bold;display: inline-block;line-height: 1.2em;}#sk-container-id-4 div.sk-label-container {text-align: center;}#sk-container-id-4 div.sk-container {/* jupyter's `normalize.less` sets `[hidden] { display: none; }` but bootstrap.min.css set `[hidden] { display: none !important; }` so we also need the `!important` here to be able to override the default hidden behavior on the sphinx rendered scikit-learn.org. See: https://github.com/scikit-learn/scikit-learn/issues/21755 */display: inline-block !important;position: relative;}#sk-container-id-4 div.sk-text-repr-fallback {display: none;}</style><div id=\"sk-container-id-4\" class=\"sk-top-container\"><div class=\"sk-text-repr-fallback\"><pre>XGBClassifier(base_score=0.5, booster=&#x27;gbtree&#x27;, callbacks=None,\n",
       "              colsample_bylevel=1, colsample_bynode=1, colsample_bytree=1,\n",
       "              early_stopping_rounds=None, enable_categorical=False,\n",
       "              eval_metric=None, gamma=0.2002002002002002, gpu_id=-1,\n",
       "              grow_policy=&#x27;depthwise&#x27;, importance_type=None,\n",
       "              interaction_constraints=&#x27;&#x27;, learning_rate=0.300000012,\n",
       "              max_bin=256, max_cat_to_onehot=4, max_delta_step=0, max_depth=7,\n",
       "              max_leaves=0, min_child_weight=1, missing=nan,\n",
       "              monotone_constraints=&#x27;()&#x27;, n_estimators=31, n_jobs=0,\n",
       "              num_parallel_tree=1, predictor=&#x27;auto&#x27;, random_state=42,\n",
       "              reg_alpha=0, reg_lambda=1, ...)</pre><b>In a Jupyter environment, please rerun this cell to show the HTML representation or trust the notebook. <br />On GitHub, the HTML representation is unable to render, please try loading this page with nbviewer.org.</b></div><div class=\"sk-container\" hidden><div class=\"sk-item\"><div class=\"sk-estimator sk-toggleable\"><input class=\"sk-toggleable__control sk-hidden--visually\" id=\"sk-estimator-id-6\" type=\"checkbox\" checked><label for=\"sk-estimator-id-6\" class=\"sk-toggleable__label sk-toggleable__label-arrow\">XGBClassifier</label><div class=\"sk-toggleable__content\"><pre>XGBClassifier(base_score=0.5, booster=&#x27;gbtree&#x27;, callbacks=None,\n",
       "              colsample_bylevel=1, colsample_bynode=1, colsample_bytree=1,\n",
       "              early_stopping_rounds=None, enable_categorical=False,\n",
       "              eval_metric=None, gamma=0.2002002002002002, gpu_id=-1,\n",
       "              grow_policy=&#x27;depthwise&#x27;, importance_type=None,\n",
       "              interaction_constraints=&#x27;&#x27;, learning_rate=0.300000012,\n",
       "              max_bin=256, max_cat_to_onehot=4, max_delta_step=0, max_depth=7,\n",
       "              max_leaves=0, min_child_weight=1, missing=nan,\n",
       "              monotone_constraints=&#x27;()&#x27;, n_estimators=31, n_jobs=0,\n",
       "              num_parallel_tree=1, predictor=&#x27;auto&#x27;, random_state=42,\n",
       "              reg_alpha=0, reg_lambda=1, ...)</pre></div></div></div></div></div>"
      ],
      "text/plain": [
       "XGBClassifier(base_score=0.5, booster='gbtree', callbacks=None,\n",
       "              colsample_bylevel=1, colsample_bynode=1, colsample_bytree=1,\n",
       "              early_stopping_rounds=None, enable_categorical=False,\n",
       "              eval_metric=None, gamma=0.2002002002002002, gpu_id=-1,\n",
       "              grow_policy='depthwise', importance_type=None,\n",
       "              interaction_constraints='', learning_rate=0.300000012,\n",
       "              max_bin=256, max_cat_to_onehot=4, max_delta_step=0, max_depth=7,\n",
       "              max_leaves=0, min_child_weight=1, missing=nan,\n",
       "              monotone_constraints='()', n_estimators=31, n_jobs=0,\n",
       "              num_parallel_tree=1, predictor='auto', random_state=42,\n",
       "              reg_alpha=0, reg_lambda=1, ...)"
      ]
     },
     "execution_count": 68,
     "metadata": {},
     "output_type": "execute_result"
    }
   ],
   "source": [
    "xg_boost=XGBClassifier(gamma=0.2002002002002002, learning_rate=0.300000012, max_depth=7,\n",
    "              n_estimators=31, random_state=42)\n",
    "xg_boost.fit(X_smote.drop(corr_features,axis=1), Y_smote) #fit"
   ]
  },
  {
   "cell_type": "code",
   "execution_count": 69,
   "metadata": {
    "id": "0r4qcVv8C4P0",
    "scrolled": false
   },
   "outputs": [
    {
     "data": {
      "text/plain": [
       "0.9307359307359307"
      ]
     },
     "execution_count": 69,
     "metadata": {},
     "output_type": "execute_result"
    }
   ],
   "source": [
    "xg_boost.score(X_test.drop(corr_features,axis=1),y_test)"
   ]
  },
  {
   "cell_type": "markdown",
   "metadata": {},
   "source": [
    "## Multilayer Perceptron Classification"
   ]
  },
  {
   "cell_type": "code",
   "execution_count": 162,
   "metadata": {},
   "outputs": [],
   "source": [
    "model_mlp = MLPClassifier(hidden_layer_sizes=(50,3),\n",
    "                       learning_rate_init=0.1,\n",
    "                       max_iter=100,\n",
    "                       activation='relu',\n",
    "                       random_state=42) ## model object creation max_iter=Stopping parameter\n",
    "model_mlp.fit(X_smote.drop(corr_features,axis=1),Y_smote) ## training the data\n",
    "y_predict_proba_mlp = model_mlp.predict_proba(X_test.drop(corr_features,axis=1)) ## predicting the pro\n",
    "## bability of class\n",
    "y_predict_mlp = model_mlp.predict(X_test.drop(corr_features,axis=1))\n",
    "y_train_predict_mlp = model_mlp.predict(X_smote.drop(corr_features,axis=1))"
   ]
  },
  {
   "cell_type": "code",
   "execution_count": 163,
   "metadata": {},
   "outputs": [
    {
     "data": {
      "text/plain": [
       "0.8647186147186147"
      ]
     },
     "execution_count": 163,
     "metadata": {},
     "output_type": "execute_result"
    }
   ],
   "source": [
    "model_mlp.score(X_test.drop(corr_features,axis=1),y_test)"
   ]
  },
  {
   "cell_type": "markdown",
   "metadata": {},
   "source": [
    "* ADDING A NEW COLUMN NAMED **churn_risk** to predict probability of getting churn after testing "
   ]
  },
  {
   "cell_type": "code",
   "execution_count": 95,
   "metadata": {},
   "outputs": [
    {
     "data": {
      "text/html": [
       "<div>\n",
       "<style scoped>\n",
       "    .dataframe tbody tr th:only-of-type {\n",
       "        vertical-align: middle;\n",
       "    }\n",
       "\n",
       "    .dataframe tbody tr th {\n",
       "        vertical-align: top;\n",
       "    }\n",
       "\n",
       "    .dataframe thead th {\n",
       "        text-align: right;\n",
       "    }\n",
       "</style>\n",
       "<table border=\"1\" class=\"dataframe\">\n",
       "  <thead>\n",
       "    <tr style=\"text-align: right;\">\n",
       "      <th></th>\n",
       "      <th>State</th>\n",
       "      <th>Account_length</th>\n",
       "      <th>Area_code</th>\n",
       "      <th>Phone</th>\n",
       "      <th>International_plan</th>\n",
       "      <th>VMail_plan</th>\n",
       "      <th>Vmail_message</th>\n",
       "      <th>Day_mins</th>\n",
       "      <th>Day_calls</th>\n",
       "      <th>Day_charge</th>\n",
       "      <th>Eve_mins</th>\n",
       "      <th>Eve_calls</th>\n",
       "      <th>Eve_charge</th>\n",
       "      <th>Night_mins</th>\n",
       "      <th>Night_calls</th>\n",
       "      <th>Night_charge</th>\n",
       "      <th>International_mins</th>\n",
       "      <th>International_calls</th>\n",
       "      <th>International_charge</th>\n",
       "      <th>Cust_serv_calls</th>\n",
       "      <th>Churn_Risk</th>\n",
       "    </tr>\n",
       "  </thead>\n",
       "  <tbody>\n",
       "    <tr>\n",
       "      <th>2264</th>\n",
       "      <td>10</td>\n",
       "      <td>18</td>\n",
       "      <td>408</td>\n",
       "      <td>3946382</td>\n",
       "      <td>0</td>\n",
       "      <td>0</td>\n",
       "      <td>0</td>\n",
       "      <td>197.0</td>\n",
       "      <td>97</td>\n",
       "      <td>33.49</td>\n",
       "      <td>203.7</td>\n",
       "      <td>107</td>\n",
       "      <td>17.31</td>\n",
       "      <td>202.0</td>\n",
       "      <td>105</td>\n",
       "      <td>9.09</td>\n",
       "      <td>8.7</td>\n",
       "      <td>3</td>\n",
       "      <td>2.35</td>\n",
       "      <td>3</td>\n",
       "      <td>0</td>\n",
       "    </tr>\n",
       "    <tr>\n",
       "      <th>1839</th>\n",
       "      <td>1</td>\n",
       "      <td>70</td>\n",
       "      <td>415</td>\n",
       "      <td>3457014</td>\n",
       "      <td>0</td>\n",
       "      <td>0</td>\n",
       "      <td>0</td>\n",
       "      <td>230.3</td>\n",
       "      <td>110</td>\n",
       "      <td>39.15</td>\n",
       "      <td>77.9</td>\n",
       "      <td>87</td>\n",
       "      <td>6.62</td>\n",
       "      <td>247.1</td>\n",
       "      <td>105</td>\n",
       "      <td>11.12</td>\n",
       "      <td>13.2</td>\n",
       "      <td>4</td>\n",
       "      <td>3.56</td>\n",
       "      <td>1</td>\n",
       "      <td>0</td>\n",
       "    </tr>\n",
       "    <tr>\n",
       "      <th>2525</th>\n",
       "      <td>42</td>\n",
       "      <td>95</td>\n",
       "      <td>510</td>\n",
       "      <td>3657784</td>\n",
       "      <td>0</td>\n",
       "      <td>0</td>\n",
       "      <td>0</td>\n",
       "      <td>174.0</td>\n",
       "      <td>57</td>\n",
       "      <td>29.58</td>\n",
       "      <td>281.1</td>\n",
       "      <td>118</td>\n",
       "      <td>23.89</td>\n",
       "      <td>197.2</td>\n",
       "      <td>94</td>\n",
       "      <td>8.87</td>\n",
       "      <td>9.7</td>\n",
       "      <td>2</td>\n",
       "      <td>2.62</td>\n",
       "      <td>0</td>\n",
       "      <td>0</td>\n",
       "    </tr>\n",
       "    <tr>\n",
       "      <th>23</th>\n",
       "      <td>40</td>\n",
       "      <td>111</td>\n",
       "      <td>415</td>\n",
       "      <td>3502565</td>\n",
       "      <td>0</td>\n",
       "      <td>0</td>\n",
       "      <td>0</td>\n",
       "      <td>110.4</td>\n",
       "      <td>103</td>\n",
       "      <td>18.77</td>\n",
       "      <td>137.3</td>\n",
       "      <td>102</td>\n",
       "      <td>11.67</td>\n",
       "      <td>189.6</td>\n",
       "      <td>105</td>\n",
       "      <td>8.53</td>\n",
       "      <td>7.7</td>\n",
       "      <td>6</td>\n",
       "      <td>2.08</td>\n",
       "      <td>2</td>\n",
       "      <td>0</td>\n",
       "    </tr>\n",
       "    <tr>\n",
       "      <th>1831</th>\n",
       "      <td>35</td>\n",
       "      <td>93</td>\n",
       "      <td>415</td>\n",
       "      <td>3979184</td>\n",
       "      <td>0</td>\n",
       "      <td>1</td>\n",
       "      <td>42</td>\n",
       "      <td>152.3</td>\n",
       "      <td>90</td>\n",
       "      <td>25.89</td>\n",
       "      <td>267.5</td>\n",
       "      <td>102</td>\n",
       "      <td>22.74</td>\n",
       "      <td>266.9</td>\n",
       "      <td>130</td>\n",
       "      <td>12.01</td>\n",
       "      <td>11.3</td>\n",
       "      <td>5</td>\n",
       "      <td>3.05</td>\n",
       "      <td>7</td>\n",
       "      <td>0</td>\n",
       "    </tr>\n",
       "    <tr>\n",
       "      <th>...</th>\n",
       "      <td>...</td>\n",
       "      <td>...</td>\n",
       "      <td>...</td>\n",
       "      <td>...</td>\n",
       "      <td>...</td>\n",
       "      <td>...</td>\n",
       "      <td>...</td>\n",
       "      <td>...</td>\n",
       "      <td>...</td>\n",
       "      <td>...</td>\n",
       "      <td>...</td>\n",
       "      <td>...</td>\n",
       "      <td>...</td>\n",
       "      <td>...</td>\n",
       "      <td>...</td>\n",
       "      <td>...</td>\n",
       "      <td>...</td>\n",
       "      <td>...</td>\n",
       "      <td>...</td>\n",
       "      <td>...</td>\n",
       "      <td>...</td>\n",
       "    </tr>\n",
       "    <tr>\n",
       "      <th>4405</th>\n",
       "      <td>13</td>\n",
       "      <td>137</td>\n",
       "      <td>510</td>\n",
       "      <td>3486721</td>\n",
       "      <td>0</td>\n",
       "      <td>0</td>\n",
       "      <td>0</td>\n",
       "      <td>203.1</td>\n",
       "      <td>97</td>\n",
       "      <td>34.53</td>\n",
       "      <td>132.0</td>\n",
       "      <td>76</td>\n",
       "      <td>11.22</td>\n",
       "      <td>250.9</td>\n",
       "      <td>94</td>\n",
       "      <td>11.29</td>\n",
       "      <td>9.2</td>\n",
       "      <td>4</td>\n",
       "      <td>2.48</td>\n",
       "      <td>4</td>\n",
       "      <td>0</td>\n",
       "    </tr>\n",
       "    <tr>\n",
       "      <th>4537</th>\n",
       "      <td>37</td>\n",
       "      <td>100</td>\n",
       "      <td>415</td>\n",
       "      <td>3886108</td>\n",
       "      <td>0</td>\n",
       "      <td>1</td>\n",
       "      <td>31</td>\n",
       "      <td>67.7</td>\n",
       "      <td>67</td>\n",
       "      <td>11.51</td>\n",
       "      <td>147.1</td>\n",
       "      <td>116</td>\n",
       "      <td>12.50</td>\n",
       "      <td>288.3</td>\n",
       "      <td>103</td>\n",
       "      <td>12.97</td>\n",
       "      <td>12.3</td>\n",
       "      <td>2</td>\n",
       "      <td>3.32</td>\n",
       "      <td>6</td>\n",
       "      <td>1</td>\n",
       "    </tr>\n",
       "    <tr>\n",
       "      <th>1965</th>\n",
       "      <td>34</td>\n",
       "      <td>139</td>\n",
       "      <td>510</td>\n",
       "      <td>3997268</td>\n",
       "      <td>0</td>\n",
       "      <td>0</td>\n",
       "      <td>0</td>\n",
       "      <td>236.6</td>\n",
       "      <td>109</td>\n",
       "      <td>40.22</td>\n",
       "      <td>169.9</td>\n",
       "      <td>107</td>\n",
       "      <td>14.44</td>\n",
       "      <td>212.3</td>\n",
       "      <td>118</td>\n",
       "      <td>9.55</td>\n",
       "      <td>11.1</td>\n",
       "      <td>2</td>\n",
       "      <td>3.00</td>\n",
       "      <td>1</td>\n",
       "      <td>0</td>\n",
       "    </tr>\n",
       "    <tr>\n",
       "      <th>2114</th>\n",
       "      <td>43</td>\n",
       "      <td>123</td>\n",
       "      <td>408</td>\n",
       "      <td>4166594</td>\n",
       "      <td>0</td>\n",
       "      <td>0</td>\n",
       "      <td>0</td>\n",
       "      <td>260.9</td>\n",
       "      <td>85</td>\n",
       "      <td>44.35</td>\n",
       "      <td>168.5</td>\n",
       "      <td>103</td>\n",
       "      <td>14.32</td>\n",
       "      <td>178.3</td>\n",
       "      <td>91</td>\n",
       "      <td>8.02</td>\n",
       "      <td>13.3</td>\n",
       "      <td>5</td>\n",
       "      <td>3.59</td>\n",
       "      <td>3</td>\n",
       "      <td>0</td>\n",
       "    </tr>\n",
       "    <tr>\n",
       "      <th>2990</th>\n",
       "      <td>13</td>\n",
       "      <td>47</td>\n",
       "      <td>415</td>\n",
       "      <td>3654387</td>\n",
       "      <td>0</td>\n",
       "      <td>1</td>\n",
       "      <td>28</td>\n",
       "      <td>172.9</td>\n",
       "      <td>109</td>\n",
       "      <td>29.39</td>\n",
       "      <td>137.6</td>\n",
       "      <td>94</td>\n",
       "      <td>11.70</td>\n",
       "      <td>203.8</td>\n",
       "      <td>109</td>\n",
       "      <td>9.17</td>\n",
       "      <td>8.3</td>\n",
       "      <td>6</td>\n",
       "      <td>2.24</td>\n",
       "      <td>1</td>\n",
       "      <td>0</td>\n",
       "    </tr>\n",
       "  </tbody>\n",
       "</table>\n",
       "<p>924 rows × 21 columns</p>\n",
       "</div>"
      ],
      "text/plain": [
       "      State  Account_length  Area_code    Phone  International_plan  \\\n",
       "2264     10              18        408  3946382                   0   \n",
       "1839      1              70        415  3457014                   0   \n",
       "2525     42              95        510  3657784                   0   \n",
       "23       40             111        415  3502565                   0   \n",
       "1831     35              93        415  3979184                   0   \n",
       "...     ...             ...        ...      ...                 ...   \n",
       "4405     13             137        510  3486721                   0   \n",
       "4537     37             100        415  3886108                   0   \n",
       "1965     34             139        510  3997268                   0   \n",
       "2114     43             123        408  4166594                   0   \n",
       "2990     13              47        415  3654387                   0   \n",
       "\n",
       "      VMail_plan  Vmail_message  Day_mins  Day_calls  Day_charge  Eve_mins  \\\n",
       "2264           0              0     197.0         97       33.49     203.7   \n",
       "1839           0              0     230.3        110       39.15      77.9   \n",
       "2525           0              0     174.0         57       29.58     281.1   \n",
       "23             0              0     110.4        103       18.77     137.3   \n",
       "1831           1             42     152.3         90       25.89     267.5   \n",
       "...          ...            ...       ...        ...         ...       ...   \n",
       "4405           0              0     203.1         97       34.53     132.0   \n",
       "4537           1             31      67.7         67       11.51     147.1   \n",
       "1965           0              0     236.6        109       40.22     169.9   \n",
       "2114           0              0     260.9         85       44.35     168.5   \n",
       "2990           1             28     172.9        109       29.39     137.6   \n",
       "\n",
       "      Eve_calls  Eve_charge  Night_mins  Night_calls  Night_charge  \\\n",
       "2264        107       17.31       202.0          105          9.09   \n",
       "1839         87        6.62       247.1          105         11.12   \n",
       "2525        118       23.89       197.2           94          8.87   \n",
       "23          102       11.67       189.6          105          8.53   \n",
       "1831        102       22.74       266.9          130         12.01   \n",
       "...         ...         ...         ...          ...           ...   \n",
       "4405         76       11.22       250.9           94         11.29   \n",
       "4537        116       12.50       288.3          103         12.97   \n",
       "1965        107       14.44       212.3          118          9.55   \n",
       "2114        103       14.32       178.3           91          8.02   \n",
       "2990         94       11.70       203.8          109          9.17   \n",
       "\n",
       "      International_mins  International_calls  International_charge  \\\n",
       "2264                 8.7                    3                  2.35   \n",
       "1839                13.2                    4                  3.56   \n",
       "2525                 9.7                    2                  2.62   \n",
       "23                   7.7                    6                  2.08   \n",
       "1831                11.3                    5                  3.05   \n",
       "...                  ...                  ...                   ...   \n",
       "4405                 9.2                    4                  2.48   \n",
       "4537                12.3                    2                  3.32   \n",
       "1965                11.1                    2                  3.00   \n",
       "2114                13.3                    5                  3.59   \n",
       "2990                 8.3                    6                  2.24   \n",
       "\n",
       "      Cust_serv_calls  Churn_Risk  \n",
       "2264                3           0  \n",
       "1839                1           0  \n",
       "2525                0           0  \n",
       "23                  2           0  \n",
       "1831                7           0  \n",
       "...               ...         ...  \n",
       "4405                4           0  \n",
       "4537                6           1  \n",
       "1965                1           0  \n",
       "2114                3           0  \n",
       "2990                1           0  \n",
       "\n",
       "[924 rows x 21 columns]"
      ]
     },
     "execution_count": 95,
     "metadata": {},
     "output_type": "execute_result"
    }
   ],
   "source": [
    "\n",
    "X_train, X_test, y_train, y_test = train_test_split(\n",
    "    data1.drop(['Churn'], axis=1), data1['Churn'], test_size=0.2, random_state=42)\n",
    "\n",
    "\n",
    "xgb_model = xgb.XGBClassifier(n_estimators=100, random_state=42)\n",
    "xgb_model.fit(X_train, y_train)\n",
    "\n",
    "\n",
    "cols_to_drop = []\n",
    "X_test_for_prediction = X_test.drop(cols_to_drop, axis=1)\n",
    "\n",
    "churn_probabilities = xgb_model.predict_proba(X_test_for_prediction)[:, 1]\n",
    "X_test['Churn_Risk'] = (churn_probabilities >= 0.5).astype(int)\n",
    "X_test"
   ]
  },
  {
   "cell_type": "code",
   "execution_count": 98,
   "metadata": {},
   "outputs": [
    {
     "data": {
      "text/html": [
       "<div>\n",
       "<style scoped>\n",
       "    .dataframe tbody tr th:only-of-type {\n",
       "        vertical-align: middle;\n",
       "    }\n",
       "\n",
       "    .dataframe tbody tr th {\n",
       "        vertical-align: top;\n",
       "    }\n",
       "\n",
       "    .dataframe thead th {\n",
       "        text-align: right;\n",
       "    }\n",
       "</style>\n",
       "<table border=\"1\" class=\"dataframe\">\n",
       "  <thead>\n",
       "    <tr style=\"text-align: right;\">\n",
       "      <th></th>\n",
       "      <th>State</th>\n",
       "      <th>Account_length</th>\n",
       "      <th>Area_code</th>\n",
       "      <th>Phone</th>\n",
       "      <th>International_plan</th>\n",
       "      <th>VMail_plan</th>\n",
       "      <th>Vmail_message</th>\n",
       "      <th>Day_mins</th>\n",
       "      <th>Day_calls</th>\n",
       "      <th>Day_charge</th>\n",
       "      <th>Eve_mins</th>\n",
       "      <th>Eve_calls</th>\n",
       "      <th>Eve_charge</th>\n",
       "      <th>Night_mins</th>\n",
       "      <th>Night_calls</th>\n",
       "      <th>Night_charge</th>\n",
       "      <th>International_mins</th>\n",
       "      <th>International_calls</th>\n",
       "      <th>International_charge</th>\n",
       "      <th>Cust_serv_calls</th>\n",
       "      <th>Churn</th>\n",
       "      <th>Churn_Risk</th>\n",
       "    </tr>\n",
       "  </thead>\n",
       "  <tbody>\n",
       "    <tr>\n",
       "      <th>8</th>\n",
       "      <td>18</td>\n",
       "      <td>117</td>\n",
       "      <td>408</td>\n",
       "      <td>3354719</td>\n",
       "      <td>0</td>\n",
       "      <td>0</td>\n",
       "      <td>0</td>\n",
       "      <td>184.5</td>\n",
       "      <td>97</td>\n",
       "      <td>31.37</td>\n",
       "      <td>351.6</td>\n",
       "      <td>80</td>\n",
       "      <td>29.89</td>\n",
       "      <td>215.8</td>\n",
       "      <td>90</td>\n",
       "      <td>9.71</td>\n",
       "      <td>8.7</td>\n",
       "      <td>4</td>\n",
       "      <td>2.35</td>\n",
       "      <td>1</td>\n",
       "      <td>0</td>\n",
       "      <td>0</td>\n",
       "    </tr>\n",
       "    <tr>\n",
       "      <th>12</th>\n",
       "      <td>12</td>\n",
       "      <td>168</td>\n",
       "      <td>408</td>\n",
       "      <td>3631107</td>\n",
       "      <td>0</td>\n",
       "      <td>0</td>\n",
       "      <td>0</td>\n",
       "      <td>128.8</td>\n",
       "      <td>96</td>\n",
       "      <td>21.90</td>\n",
       "      <td>104.9</td>\n",
       "      <td>71</td>\n",
       "      <td>8.92</td>\n",
       "      <td>141.1</td>\n",
       "      <td>128</td>\n",
       "      <td>6.35</td>\n",
       "      <td>11.2</td>\n",
       "      <td>2</td>\n",
       "      <td>3.02</td>\n",
       "      <td>1</td>\n",
       "      <td>0</td>\n",
       "      <td>0</td>\n",
       "    </tr>\n",
       "    <tr>\n",
       "      <th>14</th>\n",
       "      <td>12</td>\n",
       "      <td>62</td>\n",
       "      <td>415</td>\n",
       "      <td>3669238</td>\n",
       "      <td>0</td>\n",
       "      <td>0</td>\n",
       "      <td>0</td>\n",
       "      <td>120.7</td>\n",
       "      <td>70</td>\n",
       "      <td>20.52</td>\n",
       "      <td>307.2</td>\n",
       "      <td>76</td>\n",
       "      <td>26.11</td>\n",
       "      <td>203.0</td>\n",
       "      <td>99</td>\n",
       "      <td>9.14</td>\n",
       "      <td>13.1</td>\n",
       "      <td>6</td>\n",
       "      <td>3.54</td>\n",
       "      <td>4</td>\n",
       "      <td>0</td>\n",
       "      <td>1</td>\n",
       "    </tr>\n",
       "    <tr>\n",
       "      <th>17</th>\n",
       "      <td>46</td>\n",
       "      <td>93</td>\n",
       "      <td>510</td>\n",
       "      <td>3862923</td>\n",
       "      <td>0</td>\n",
       "      <td>0</td>\n",
       "      <td>0</td>\n",
       "      <td>190.7</td>\n",
       "      <td>114</td>\n",
       "      <td>32.42</td>\n",
       "      <td>218.2</td>\n",
       "      <td>111</td>\n",
       "      <td>18.55</td>\n",
       "      <td>129.6</td>\n",
       "      <td>121</td>\n",
       "      <td>5.83</td>\n",
       "      <td>8.1</td>\n",
       "      <td>3</td>\n",
       "      <td>2.19</td>\n",
       "      <td>3</td>\n",
       "      <td>0</td>\n",
       "      <td>0</td>\n",
       "    </tr>\n",
       "    <tr>\n",
       "      <th>19</th>\n",
       "      <td>43</td>\n",
       "      <td>73</td>\n",
       "      <td>415</td>\n",
       "      <td>3732782</td>\n",
       "      <td>0</td>\n",
       "      <td>0</td>\n",
       "      <td>0</td>\n",
       "      <td>224.4</td>\n",
       "      <td>90</td>\n",
       "      <td>38.15</td>\n",
       "      <td>159.5</td>\n",
       "      <td>88</td>\n",
       "      <td>13.56</td>\n",
       "      <td>192.8</td>\n",
       "      <td>74</td>\n",
       "      <td>8.68</td>\n",
       "      <td>13.0</td>\n",
       "      <td>2</td>\n",
       "      <td>3.51</td>\n",
       "      <td>1</td>\n",
       "      <td>0</td>\n",
       "      <td>0</td>\n",
       "    </tr>\n",
       "    <tr>\n",
       "      <th>...</th>\n",
       "      <td>...</td>\n",
       "      <td>...</td>\n",
       "      <td>...</td>\n",
       "      <td>...</td>\n",
       "      <td>...</td>\n",
       "      <td>...</td>\n",
       "      <td>...</td>\n",
       "      <td>...</td>\n",
       "      <td>...</td>\n",
       "      <td>...</td>\n",
       "      <td>...</td>\n",
       "      <td>...</td>\n",
       "      <td>...</td>\n",
       "      <td>...</td>\n",
       "      <td>...</td>\n",
       "      <td>...</td>\n",
       "      <td>...</td>\n",
       "      <td>...</td>\n",
       "      <td>...</td>\n",
       "      <td>...</td>\n",
       "      <td>...</td>\n",
       "      <td>...</td>\n",
       "    </tr>\n",
       "    <tr>\n",
       "      <th>4599</th>\n",
       "      <td>26</td>\n",
       "      <td>127</td>\n",
       "      <td>408</td>\n",
       "      <td>3426864</td>\n",
       "      <td>0</td>\n",
       "      <td>0</td>\n",
       "      <td>0</td>\n",
       "      <td>271.2</td>\n",
       "      <td>110</td>\n",
       "      <td>46.10</td>\n",
       "      <td>213.5</td>\n",
       "      <td>80</td>\n",
       "      <td>18.15</td>\n",
       "      <td>201.8</td>\n",
       "      <td>102</td>\n",
       "      <td>9.08</td>\n",
       "      <td>13.2</td>\n",
       "      <td>4</td>\n",
       "      <td>3.56</td>\n",
       "      <td>0</td>\n",
       "      <td>1</td>\n",
       "      <td>1</td>\n",
       "    </tr>\n",
       "    <tr>\n",
       "      <th>4605</th>\n",
       "      <td>44</td>\n",
       "      <td>80</td>\n",
       "      <td>415</td>\n",
       "      <td>3618630</td>\n",
       "      <td>0</td>\n",
       "      <td>0</td>\n",
       "      <td>0</td>\n",
       "      <td>195.1</td>\n",
       "      <td>65</td>\n",
       "      <td>33.17</td>\n",
       "      <td>214.0</td>\n",
       "      <td>80</td>\n",
       "      <td>18.19</td>\n",
       "      <td>124.4</td>\n",
       "      <td>96</td>\n",
       "      <td>5.60</td>\n",
       "      <td>9.2</td>\n",
       "      <td>6</td>\n",
       "      <td>2.48</td>\n",
       "      <td>2</td>\n",
       "      <td>0</td>\n",
       "      <td>0</td>\n",
       "    </tr>\n",
       "    <tr>\n",
       "      <th>4607</th>\n",
       "      <td>23</td>\n",
       "      <td>76</td>\n",
       "      <td>415</td>\n",
       "      <td>3776340</td>\n",
       "      <td>0</td>\n",
       "      <td>0</td>\n",
       "      <td>0</td>\n",
       "      <td>168.4</td>\n",
       "      <td>74</td>\n",
       "      <td>28.63</td>\n",
       "      <td>161.0</td>\n",
       "      <td>83</td>\n",
       "      <td>13.69</td>\n",
       "      <td>147.4</td>\n",
       "      <td>117</td>\n",
       "      <td>6.63</td>\n",
       "      <td>8.0</td>\n",
       "      <td>4</td>\n",
       "      <td>2.16</td>\n",
       "      <td>1</td>\n",
       "      <td>0</td>\n",
       "      <td>0</td>\n",
       "    </tr>\n",
       "    <tr>\n",
       "      <th>4613</th>\n",
       "      <td>32</td>\n",
       "      <td>177</td>\n",
       "      <td>408</td>\n",
       "      <td>3436820</td>\n",
       "      <td>0</td>\n",
       "      <td>1</td>\n",
       "      <td>29</td>\n",
       "      <td>189.0</td>\n",
       "      <td>91</td>\n",
       "      <td>32.13</td>\n",
       "      <td>303.1</td>\n",
       "      <td>96</td>\n",
       "      <td>25.76</td>\n",
       "      <td>163.6</td>\n",
       "      <td>116</td>\n",
       "      <td>7.36</td>\n",
       "      <td>15.7</td>\n",
       "      <td>1</td>\n",
       "      <td>4.24</td>\n",
       "      <td>3</td>\n",
       "      <td>0</td>\n",
       "      <td>0</td>\n",
       "    </tr>\n",
       "    <tr>\n",
       "      <th>4616</th>\n",
       "      <td>15</td>\n",
       "      <td>140</td>\n",
       "      <td>415</td>\n",
       "      <td>4096884</td>\n",
       "      <td>0</td>\n",
       "      <td>0</td>\n",
       "      <td>0</td>\n",
       "      <td>204.7</td>\n",
       "      <td>100</td>\n",
       "      <td>34.80</td>\n",
       "      <td>126.8</td>\n",
       "      <td>107</td>\n",
       "      <td>10.78</td>\n",
       "      <td>202.8</td>\n",
       "      <td>115</td>\n",
       "      <td>9.13</td>\n",
       "      <td>12.1</td>\n",
       "      <td>4</td>\n",
       "      <td>3.27</td>\n",
       "      <td>2</td>\n",
       "      <td>0</td>\n",
       "      <td>0</td>\n",
       "    </tr>\n",
       "  </tbody>\n",
       "</table>\n",
       "<p>924 rows × 22 columns</p>\n",
       "</div>"
      ],
      "text/plain": [
       "      State  Account_length  Area_code    Phone  International_plan  \\\n",
       "8        18             117        408  3354719                   0   \n",
       "12       12             168        408  3631107                   0   \n",
       "14       12              62        415  3669238                   0   \n",
       "17       46              93        510  3862923                   0   \n",
       "19       43              73        415  3732782                   0   \n",
       "...     ...             ...        ...      ...                 ...   \n",
       "4599     26             127        408  3426864                   0   \n",
       "4605     44              80        415  3618630                   0   \n",
       "4607     23              76        415  3776340                   0   \n",
       "4613     32             177        408  3436820                   0   \n",
       "4616     15             140        415  4096884                   0   \n",
       "\n",
       "      VMail_plan  Vmail_message  Day_mins  Day_calls  Day_charge  Eve_mins  \\\n",
       "8              0              0     184.5         97       31.37     351.6   \n",
       "12             0              0     128.8         96       21.90     104.9   \n",
       "14             0              0     120.7         70       20.52     307.2   \n",
       "17             0              0     190.7        114       32.42     218.2   \n",
       "19             0              0     224.4         90       38.15     159.5   \n",
       "...          ...            ...       ...        ...         ...       ...   \n",
       "4599           0              0     271.2        110       46.10     213.5   \n",
       "4605           0              0     195.1         65       33.17     214.0   \n",
       "4607           0              0     168.4         74       28.63     161.0   \n",
       "4613           1             29     189.0         91       32.13     303.1   \n",
       "4616           0              0     204.7        100       34.80     126.8   \n",
       "\n",
       "      Eve_calls  Eve_charge  Night_mins  Night_calls  Night_charge  \\\n",
       "8            80       29.89       215.8           90          9.71   \n",
       "12           71        8.92       141.1          128          6.35   \n",
       "14           76       26.11       203.0           99          9.14   \n",
       "17          111       18.55       129.6          121          5.83   \n",
       "19           88       13.56       192.8           74          8.68   \n",
       "...         ...         ...         ...          ...           ...   \n",
       "4599         80       18.15       201.8          102          9.08   \n",
       "4605         80       18.19       124.4           96          5.60   \n",
       "4607         83       13.69       147.4          117          6.63   \n",
       "4613         96       25.76       163.6          116          7.36   \n",
       "4616        107       10.78       202.8          115          9.13   \n",
       "\n",
       "      International_mins  International_calls  International_charge  \\\n",
       "8                    8.7                    4                  2.35   \n",
       "12                  11.2                    2                  3.02   \n",
       "14                  13.1                    6                  3.54   \n",
       "17                   8.1                    3                  2.19   \n",
       "19                  13.0                    2                  3.51   \n",
       "...                  ...                  ...                   ...   \n",
       "4599                13.2                    4                  3.56   \n",
       "4605                 9.2                    6                  2.48   \n",
       "4607                 8.0                    4                  2.16   \n",
       "4613                15.7                    1                  4.24   \n",
       "4616                12.1                    4                  3.27   \n",
       "\n",
       "      Cust_serv_calls  Churn  Churn_Risk  \n",
       "8                   1      0           0  \n",
       "12                  1      0           0  \n",
       "14                  4      0           1  \n",
       "17                  3      0           0  \n",
       "19                  1      0           0  \n",
       "...               ...    ...         ...  \n",
       "4599                0      1           1  \n",
       "4605                2      0           0  \n",
       "4607                1      0           0  \n",
       "4613                3      0           0  \n",
       "4616                2      0           0  \n",
       "\n",
       "[924 rows x 22 columns]"
      ]
     },
     "execution_count": 98,
     "metadata": {},
     "output_type": "execute_result"
    }
   ],
   "source": [
    "data1 = data1.merge(X_test[['Churn_Risk']], left_index=True, right_index=True)\n",
    "data1"
   ]
  },
  {
   "cell_type": "markdown",
   "metadata": {},
   "source": [
    "* Here we added \"CHURN_FLAG\" column with yes and no "
   ]
  },
  {
   "cell_type": "code",
   "execution_count": 101,
   "metadata": {
    "scrolled": true
   },
   "outputs": [
    {
     "data": {
      "text/html": [
       "<div>\n",
       "<style scoped>\n",
       "    .dataframe tbody tr th:only-of-type {\n",
       "        vertical-align: middle;\n",
       "    }\n",
       "\n",
       "    .dataframe tbody tr th {\n",
       "        vertical-align: top;\n",
       "    }\n",
       "\n",
       "    .dataframe thead th {\n",
       "        text-align: right;\n",
       "    }\n",
       "</style>\n",
       "<table border=\"1\" class=\"dataframe\">\n",
       "  <thead>\n",
       "    <tr style=\"text-align: right;\">\n",
       "      <th></th>\n",
       "      <th>State</th>\n",
       "      <th>Account_length</th>\n",
       "      <th>Area_code</th>\n",
       "      <th>Phone</th>\n",
       "      <th>International_plan</th>\n",
       "      <th>VMail_plan</th>\n",
       "      <th>Vmail_message</th>\n",
       "      <th>Day_mins</th>\n",
       "      <th>Day_calls</th>\n",
       "      <th>Day_charge</th>\n",
       "      <th>Eve_mins</th>\n",
       "      <th>Eve_calls</th>\n",
       "      <th>Eve_charge</th>\n",
       "      <th>Night_mins</th>\n",
       "      <th>Night_calls</th>\n",
       "      <th>Night_charge</th>\n",
       "      <th>International_mins</th>\n",
       "      <th>International_calls</th>\n",
       "      <th>International_charge</th>\n",
       "      <th>Cust_serv_calls</th>\n",
       "      <th>Churn</th>\n",
       "      <th>Churn_Risk</th>\n",
       "      <th>CHURN_FLAG</th>\n",
       "    </tr>\n",
       "  </thead>\n",
       "  <tbody>\n",
       "    <tr>\n",
       "      <th>8</th>\n",
       "      <td>18</td>\n",
       "      <td>117</td>\n",
       "      <td>408</td>\n",
       "      <td>3354719</td>\n",
       "      <td>0</td>\n",
       "      <td>0</td>\n",
       "      <td>0</td>\n",
       "      <td>184.5</td>\n",
       "      <td>97</td>\n",
       "      <td>31.37</td>\n",
       "      <td>351.6</td>\n",
       "      <td>80</td>\n",
       "      <td>29.89</td>\n",
       "      <td>215.8</td>\n",
       "      <td>90</td>\n",
       "      <td>9.71</td>\n",
       "      <td>8.7</td>\n",
       "      <td>4</td>\n",
       "      <td>2.35</td>\n",
       "      <td>1</td>\n",
       "      <td>0</td>\n",
       "      <td>0</td>\n",
       "      <td>NO</td>\n",
       "    </tr>\n",
       "    <tr>\n",
       "      <th>12</th>\n",
       "      <td>12</td>\n",
       "      <td>168</td>\n",
       "      <td>408</td>\n",
       "      <td>3631107</td>\n",
       "      <td>0</td>\n",
       "      <td>0</td>\n",
       "      <td>0</td>\n",
       "      <td>128.8</td>\n",
       "      <td>96</td>\n",
       "      <td>21.90</td>\n",
       "      <td>104.9</td>\n",
       "      <td>71</td>\n",
       "      <td>8.92</td>\n",
       "      <td>141.1</td>\n",
       "      <td>128</td>\n",
       "      <td>6.35</td>\n",
       "      <td>11.2</td>\n",
       "      <td>2</td>\n",
       "      <td>3.02</td>\n",
       "      <td>1</td>\n",
       "      <td>0</td>\n",
       "      <td>0</td>\n",
       "      <td>NO</td>\n",
       "    </tr>\n",
       "    <tr>\n",
       "      <th>14</th>\n",
       "      <td>12</td>\n",
       "      <td>62</td>\n",
       "      <td>415</td>\n",
       "      <td>3669238</td>\n",
       "      <td>0</td>\n",
       "      <td>0</td>\n",
       "      <td>0</td>\n",
       "      <td>120.7</td>\n",
       "      <td>70</td>\n",
       "      <td>20.52</td>\n",
       "      <td>307.2</td>\n",
       "      <td>76</td>\n",
       "      <td>26.11</td>\n",
       "      <td>203.0</td>\n",
       "      <td>99</td>\n",
       "      <td>9.14</td>\n",
       "      <td>13.1</td>\n",
       "      <td>6</td>\n",
       "      <td>3.54</td>\n",
       "      <td>4</td>\n",
       "      <td>0</td>\n",
       "      <td>1</td>\n",
       "      <td>YES</td>\n",
       "    </tr>\n",
       "    <tr>\n",
       "      <th>17</th>\n",
       "      <td>46</td>\n",
       "      <td>93</td>\n",
       "      <td>510</td>\n",
       "      <td>3862923</td>\n",
       "      <td>0</td>\n",
       "      <td>0</td>\n",
       "      <td>0</td>\n",
       "      <td>190.7</td>\n",
       "      <td>114</td>\n",
       "      <td>32.42</td>\n",
       "      <td>218.2</td>\n",
       "      <td>111</td>\n",
       "      <td>18.55</td>\n",
       "      <td>129.6</td>\n",
       "      <td>121</td>\n",
       "      <td>5.83</td>\n",
       "      <td>8.1</td>\n",
       "      <td>3</td>\n",
       "      <td>2.19</td>\n",
       "      <td>3</td>\n",
       "      <td>0</td>\n",
       "      <td>0</td>\n",
       "      <td>NO</td>\n",
       "    </tr>\n",
       "    <tr>\n",
       "      <th>19</th>\n",
       "      <td>43</td>\n",
       "      <td>73</td>\n",
       "      <td>415</td>\n",
       "      <td>3732782</td>\n",
       "      <td>0</td>\n",
       "      <td>0</td>\n",
       "      <td>0</td>\n",
       "      <td>224.4</td>\n",
       "      <td>90</td>\n",
       "      <td>38.15</td>\n",
       "      <td>159.5</td>\n",
       "      <td>88</td>\n",
       "      <td>13.56</td>\n",
       "      <td>192.8</td>\n",
       "      <td>74</td>\n",
       "      <td>8.68</td>\n",
       "      <td>13.0</td>\n",
       "      <td>2</td>\n",
       "      <td>3.51</td>\n",
       "      <td>1</td>\n",
       "      <td>0</td>\n",
       "      <td>0</td>\n",
       "      <td>NO</td>\n",
       "    </tr>\n",
       "    <tr>\n",
       "      <th>...</th>\n",
       "      <td>...</td>\n",
       "      <td>...</td>\n",
       "      <td>...</td>\n",
       "      <td>...</td>\n",
       "      <td>...</td>\n",
       "      <td>...</td>\n",
       "      <td>...</td>\n",
       "      <td>...</td>\n",
       "      <td>...</td>\n",
       "      <td>...</td>\n",
       "      <td>...</td>\n",
       "      <td>...</td>\n",
       "      <td>...</td>\n",
       "      <td>...</td>\n",
       "      <td>...</td>\n",
       "      <td>...</td>\n",
       "      <td>...</td>\n",
       "      <td>...</td>\n",
       "      <td>...</td>\n",
       "      <td>...</td>\n",
       "      <td>...</td>\n",
       "      <td>...</td>\n",
       "      <td>...</td>\n",
       "    </tr>\n",
       "    <tr>\n",
       "      <th>4599</th>\n",
       "      <td>26</td>\n",
       "      <td>127</td>\n",
       "      <td>408</td>\n",
       "      <td>3426864</td>\n",
       "      <td>0</td>\n",
       "      <td>0</td>\n",
       "      <td>0</td>\n",
       "      <td>271.2</td>\n",
       "      <td>110</td>\n",
       "      <td>46.10</td>\n",
       "      <td>213.5</td>\n",
       "      <td>80</td>\n",
       "      <td>18.15</td>\n",
       "      <td>201.8</td>\n",
       "      <td>102</td>\n",
       "      <td>9.08</td>\n",
       "      <td>13.2</td>\n",
       "      <td>4</td>\n",
       "      <td>3.56</td>\n",
       "      <td>0</td>\n",
       "      <td>1</td>\n",
       "      <td>1</td>\n",
       "      <td>YES</td>\n",
       "    </tr>\n",
       "    <tr>\n",
       "      <th>4605</th>\n",
       "      <td>44</td>\n",
       "      <td>80</td>\n",
       "      <td>415</td>\n",
       "      <td>3618630</td>\n",
       "      <td>0</td>\n",
       "      <td>0</td>\n",
       "      <td>0</td>\n",
       "      <td>195.1</td>\n",
       "      <td>65</td>\n",
       "      <td>33.17</td>\n",
       "      <td>214.0</td>\n",
       "      <td>80</td>\n",
       "      <td>18.19</td>\n",
       "      <td>124.4</td>\n",
       "      <td>96</td>\n",
       "      <td>5.60</td>\n",
       "      <td>9.2</td>\n",
       "      <td>6</td>\n",
       "      <td>2.48</td>\n",
       "      <td>2</td>\n",
       "      <td>0</td>\n",
       "      <td>0</td>\n",
       "      <td>NO</td>\n",
       "    </tr>\n",
       "    <tr>\n",
       "      <th>4607</th>\n",
       "      <td>23</td>\n",
       "      <td>76</td>\n",
       "      <td>415</td>\n",
       "      <td>3776340</td>\n",
       "      <td>0</td>\n",
       "      <td>0</td>\n",
       "      <td>0</td>\n",
       "      <td>168.4</td>\n",
       "      <td>74</td>\n",
       "      <td>28.63</td>\n",
       "      <td>161.0</td>\n",
       "      <td>83</td>\n",
       "      <td>13.69</td>\n",
       "      <td>147.4</td>\n",
       "      <td>117</td>\n",
       "      <td>6.63</td>\n",
       "      <td>8.0</td>\n",
       "      <td>4</td>\n",
       "      <td>2.16</td>\n",
       "      <td>1</td>\n",
       "      <td>0</td>\n",
       "      <td>0</td>\n",
       "      <td>NO</td>\n",
       "    </tr>\n",
       "    <tr>\n",
       "      <th>4613</th>\n",
       "      <td>32</td>\n",
       "      <td>177</td>\n",
       "      <td>408</td>\n",
       "      <td>3436820</td>\n",
       "      <td>0</td>\n",
       "      <td>1</td>\n",
       "      <td>29</td>\n",
       "      <td>189.0</td>\n",
       "      <td>91</td>\n",
       "      <td>32.13</td>\n",
       "      <td>303.1</td>\n",
       "      <td>96</td>\n",
       "      <td>25.76</td>\n",
       "      <td>163.6</td>\n",
       "      <td>116</td>\n",
       "      <td>7.36</td>\n",
       "      <td>15.7</td>\n",
       "      <td>1</td>\n",
       "      <td>4.24</td>\n",
       "      <td>3</td>\n",
       "      <td>0</td>\n",
       "      <td>0</td>\n",
       "      <td>NO</td>\n",
       "    </tr>\n",
       "    <tr>\n",
       "      <th>4616</th>\n",
       "      <td>15</td>\n",
       "      <td>140</td>\n",
       "      <td>415</td>\n",
       "      <td>4096884</td>\n",
       "      <td>0</td>\n",
       "      <td>0</td>\n",
       "      <td>0</td>\n",
       "      <td>204.7</td>\n",
       "      <td>100</td>\n",
       "      <td>34.80</td>\n",
       "      <td>126.8</td>\n",
       "      <td>107</td>\n",
       "      <td>10.78</td>\n",
       "      <td>202.8</td>\n",
       "      <td>115</td>\n",
       "      <td>9.13</td>\n",
       "      <td>12.1</td>\n",
       "      <td>4</td>\n",
       "      <td>3.27</td>\n",
       "      <td>2</td>\n",
       "      <td>0</td>\n",
       "      <td>0</td>\n",
       "      <td>NO</td>\n",
       "    </tr>\n",
       "  </tbody>\n",
       "</table>\n",
       "<p>924 rows × 23 columns</p>\n",
       "</div>"
      ],
      "text/plain": [
       "      State  Account_length  Area_code    Phone  International_plan  \\\n",
       "8        18             117        408  3354719                   0   \n",
       "12       12             168        408  3631107                   0   \n",
       "14       12              62        415  3669238                   0   \n",
       "17       46              93        510  3862923                   0   \n",
       "19       43              73        415  3732782                   0   \n",
       "...     ...             ...        ...      ...                 ...   \n",
       "4599     26             127        408  3426864                   0   \n",
       "4605     44              80        415  3618630                   0   \n",
       "4607     23              76        415  3776340                   0   \n",
       "4613     32             177        408  3436820                   0   \n",
       "4616     15             140        415  4096884                   0   \n",
       "\n",
       "      VMail_plan  Vmail_message  Day_mins  Day_calls  Day_charge  Eve_mins  \\\n",
       "8              0              0     184.5         97       31.37     351.6   \n",
       "12             0              0     128.8         96       21.90     104.9   \n",
       "14             0              0     120.7         70       20.52     307.2   \n",
       "17             0              0     190.7        114       32.42     218.2   \n",
       "19             0              0     224.4         90       38.15     159.5   \n",
       "...          ...            ...       ...        ...         ...       ...   \n",
       "4599           0              0     271.2        110       46.10     213.5   \n",
       "4605           0              0     195.1         65       33.17     214.0   \n",
       "4607           0              0     168.4         74       28.63     161.0   \n",
       "4613           1             29     189.0         91       32.13     303.1   \n",
       "4616           0              0     204.7        100       34.80     126.8   \n",
       "\n",
       "      Eve_calls  Eve_charge  Night_mins  Night_calls  Night_charge  \\\n",
       "8            80       29.89       215.8           90          9.71   \n",
       "12           71        8.92       141.1          128          6.35   \n",
       "14           76       26.11       203.0           99          9.14   \n",
       "17          111       18.55       129.6          121          5.83   \n",
       "19           88       13.56       192.8           74          8.68   \n",
       "...         ...         ...         ...          ...           ...   \n",
       "4599         80       18.15       201.8          102          9.08   \n",
       "4605         80       18.19       124.4           96          5.60   \n",
       "4607         83       13.69       147.4          117          6.63   \n",
       "4613         96       25.76       163.6          116          7.36   \n",
       "4616        107       10.78       202.8          115          9.13   \n",
       "\n",
       "      International_mins  International_calls  International_charge  \\\n",
       "8                    8.7                    4                  2.35   \n",
       "12                  11.2                    2                  3.02   \n",
       "14                  13.1                    6                  3.54   \n",
       "17                   8.1                    3                  2.19   \n",
       "19                  13.0                    2                  3.51   \n",
       "...                  ...                  ...                   ...   \n",
       "4599                13.2                    4                  3.56   \n",
       "4605                 9.2                    6                  2.48   \n",
       "4607                 8.0                    4                  2.16   \n",
       "4613                15.7                    1                  4.24   \n",
       "4616                12.1                    4                  3.27   \n",
       "\n",
       "      Cust_serv_calls  Churn  Churn_Risk CHURN_FLAG  \n",
       "8                   1      0           0         NO  \n",
       "12                  1      0           0         NO  \n",
       "14                  4      0           1        YES  \n",
       "17                  3      0           0         NO  \n",
       "19                  1      0           0         NO  \n",
       "...               ...    ...         ...        ...  \n",
       "4599                0      1           1        YES  \n",
       "4605                2      0           0         NO  \n",
       "4607                1      0           0         NO  \n",
       "4613                3      0           0         NO  \n",
       "4616                2      0           0         NO  \n",
       "\n",
       "[924 rows x 23 columns]"
      ]
     },
     "execution_count": 101,
     "metadata": {},
     "output_type": "execute_result"
    }
   ],
   "source": [
    "data1['CHURN_FLAG'] = data1['Churn_Risk'].apply(lambda x: 'YES' if x == 1 else 'NO')\n",
    "data1"
   ]
  },
  {
   "cell_type": "markdown",
   "metadata": {
    "id": "GbYJ9Sm7uNrT"
   },
   "source": [
    "# Result :"
   ]
  },
  {
   "cell_type": "markdown",
   "metadata": {},
   "source": [
    "#### PROJECT SUMMARY:"
   ]
  },
  {
   "cell_type": "markdown",
   "metadata": {},
   "source": [
    "* Variables influencing the customers to migrate:\n",
    "    \n",
    "    * Customers service calls are impacting more to churn, so it is necessary to aims and investigate what aspects of the service is provided \n",
    "    \n",
    "    * International_calls - Analyze the current pricing structure for different time periods and international calls.\n",
    "    \n",
    "    * Day_charge,Eve_Charge - Introduce special packages or offers that provide better value for money, especially during peak usage times.\n",
    "    \n",
    "    * Actively seek feedback from customers to understand their concerns and pain points related to charges.\n",
    "    \n",
    "    * Highlight the benefits of different services and plans to justify the charges."
   ]
  },
  {
   "cell_type": "markdown",
   "metadata": {
    "id": "7_5ixfVfu291"
   },
   "source": [
    "<table>\n",
    "  <tr>\n",
    "    <th>S No</th>\n",
    "    <th>Algorithm</th>\n",
    "    <th>Accuracy score</th>\n",
    "     <th>Accuracy score after tunning </th>\n",
    "  </tr>\n",
    "  <tr>\n",
    "    <td>1</td>\n",
    "    <td>Logistic Regression</td>\n",
    "    <td>0.86</td>\n",
    "    <td>0.68</td>\n",
    "  </tr>\n",
    "  <tr>\n",
    "    <td>2</td>\n",
    "    <td>Stochastic Gradient Descent</td>\n",
    "    <td>0.86</td>\n",
    "    <td>0.86</td>\n",
    "  </tr>\n",
    "  <tr>\n",
    "    <td>3</td>\n",
    "    <td>Random Forest Classification</td>\n",
    "    <td>0.91</td>\n",
    "    <td>0.90</td>\n",
    "  </tr>\n",
    "  <tr>\n",
    "    <td>4</td>\n",
    "    <td>XGBOOST Classification</td>\n",
    "    <td>0.93</td>\n",
    "    <td>0.93</td>\n",
    "  </tr>\n",
    "  <tr>\n",
    "    <td>5</td>\n",
    "    <td>Multilayer perceptron</td>\n",
    "    <td>0.86</td>\n",
    "    <td>0.86</td>\n",
    "  </tr>\n",
    "</table>"
   ]
  },
  {
   "cell_type": "markdown",
   "metadata": {},
   "source": [
    "## **Conclusion** :"
   ]
  },
  {
   "cell_type": "markdown",
   "metadata": {
    "id": "uebYVcySyn9M"
   },
   "source": [
    "\n",
    "  *  From the above result table , we can conclude that **Random forest classification and XGBOOST classification** gives high accuracy of **0.91 and 0.93**.\n",
    "  \n",
    "  * Thus we conclude that our model **XGBoost Classifier** performed with an accuracy of **93%**, which is the best fit model for customer churn.   \n",
    "  \n",
    "  * By addressing these influential factors, No-Churn Telecom can effectively reduce customer churn and enhance customer retention.\n",
    "  \n",
    "  * Churn_flag column will help implementing targeted retention campaigns to encourage customers to stay with the telecom operator.\n",
    "  \n",
    "This understanding can help the company retain its customer base and maintain a competitive edge in the industry."
   ]
  }
 ],
 "metadata": {
  "colab": {
   "provenance": []
  },
  "kernelspec": {
   "display_name": "Python 3 (ipykernel)",
   "language": "python",
   "name": "python3"
  },
  "language_info": {
   "codemirror_mode": {
    "name": "ipython",
    "version": 3
   },
   "file_extension": ".py",
   "mimetype": "text/x-python",
   "name": "python",
   "nbconvert_exporter": "python",
   "pygments_lexer": "ipython3",
   "version": "3.9.12"
  },
  "widgets": {
   "application/vnd.jupyter.widget-state+json": {
    "0edb0d6066c74788a1cff40fa433d07c": {
     "model_module": "@jupyter-widgets/controls",
     "model_module_version": "1.5.0",
     "model_name": "DescriptionStyleModel",
     "state": {
      "_model_module": "@jupyter-widgets/controls",
      "_model_module_version": "1.5.0",
      "_model_name": "DescriptionStyleModel",
      "_view_count": null,
      "_view_module": "@jupyter-widgets/base",
      "_view_module_version": "1.2.0",
      "_view_name": "StyleView",
      "description_width": ""
     }
    },
    "14b0293b78394cdaba6242ad5baa5347": {
     "model_module": "@jupyter-widgets/base",
     "model_module_version": "1.2.0",
     "model_name": "LayoutModel",
     "state": {
      "_model_module": "@jupyter-widgets/base",
      "_model_module_version": "1.2.0",
      "_model_name": "LayoutModel",
      "_view_count": null,
      "_view_module": "@jupyter-widgets/base",
      "_view_module_version": "1.2.0",
      "_view_name": "LayoutView",
      "align_content": null,
      "align_items": null,
      "align_self": null,
      "border": null,
      "bottom": null,
      "display": "inline-flex",
      "flex": null,
      "flex_flow": "row wrap",
      "grid_area": null,
      "grid_auto_columns": null,
      "grid_auto_flow": null,
      "grid_auto_rows": null,
      "grid_column": null,
      "grid_gap": null,
      "grid_row": null,
      "grid_template_areas": null,
      "grid_template_columns": null,
      "grid_template_rows": null,
      "height": null,
      "justify_content": null,
      "justify_items": null,
      "left": null,
      "margin": null,
      "max_height": null,
      "max_width": null,
      "min_height": null,
      "min_width": null,
      "object_fit": null,
      "object_position": null,
      "order": null,
      "overflow": null,
      "overflow_x": null,
      "overflow_y": null,
      "padding": null,
      "right": null,
      "top": null,
      "visibility": null,
      "width": "100%"
     }
    },
    "28771a09c1494394ba16779dece08739": {
     "model_module": "@jupyter-widgets/controls",
     "model_module_version": "1.5.0",
     "model_name": "HTMLModel",
     "state": {
      "_dom_classes": [],
      "_model_module": "@jupyter-widgets/controls",
      "_model_module_version": "1.5.0",
      "_model_name": "HTMLModel",
      "_view_count": null,
      "_view_module": "@jupyter-widgets/controls",
      "_view_module_version": "1.5.0",
      "_view_name": "HTMLView",
      "description": "",
      "description_tooltip": null,
      "layout": "IPY_MODEL_3757932dae2d41bd8c28a07b3cc152ac",
      "placeholder": "​",
      "style": "IPY_MODEL_4b55581178cf418296049b20cf90a7b2",
      "value": "Done! Use &#x27;show&#x27; commands to display/save.   "
     }
    },
    "3757932dae2d41bd8c28a07b3cc152ac": {
     "model_module": "@jupyter-widgets/base",
     "model_module_version": "1.2.0",
     "model_name": "LayoutModel",
     "state": {
      "_model_module": "@jupyter-widgets/base",
      "_model_module_version": "1.2.0",
      "_model_name": "LayoutModel",
      "_view_count": null,
      "_view_module": "@jupyter-widgets/base",
      "_view_module_version": "1.2.0",
      "_view_name": "LayoutView",
      "align_content": null,
      "align_items": null,
      "align_self": null,
      "border": null,
      "bottom": null,
      "display": null,
      "flex": null,
      "flex_flow": null,
      "grid_area": null,
      "grid_auto_columns": null,
      "grid_auto_flow": null,
      "grid_auto_rows": null,
      "grid_column": null,
      "grid_gap": null,
      "grid_row": null,
      "grid_template_areas": null,
      "grid_template_columns": null,
      "grid_template_rows": null,
      "height": null,
      "justify_content": null,
      "justify_items": null,
      "left": null,
      "margin": null,
      "max_height": null,
      "max_width": null,
      "min_height": null,
      "min_width": null,
      "object_fit": null,
      "object_position": null,
      "order": null,
      "overflow": null,
      "overflow_x": null,
      "overflow_y": null,
      "padding": null,
      "right": null,
      "top": null,
      "visibility": null,
      "width": null
     }
    },
    "439e260d935d437bbb53e9b5936b1ac7": {
     "model_module": "@jupyter-widgets/controls",
     "model_module_version": "1.5.0",
     "model_name": "HTMLModel",
     "state": {
      "_dom_classes": [],
      "_model_module": "@jupyter-widgets/controls",
      "_model_module_version": "1.5.0",
      "_model_name": "HTMLModel",
      "_view_count": null,
      "_view_module": "@jupyter-widgets/controls",
      "_view_module_version": "1.5.0",
      "_view_name": "HTMLView",
      "description": "",
      "description_tooltip": null,
      "layout": "IPY_MODEL_4c97f5ef21574acb9c86079a62c6354a",
      "placeholder": "​",
      "style": "IPY_MODEL_0edb0d6066c74788a1cff40fa433d07c",
      "value": " [100%]   00:00 -&gt; (00:00 left)"
     }
    },
    "47d8b51bbc274f278ba99daec8875c28": {
     "model_module": "@jupyter-widgets/controls",
     "model_module_version": "1.5.0",
     "model_name": "ProgressStyleModel",
     "state": {
      "_model_module": "@jupyter-widgets/controls",
      "_model_module_version": "1.5.0",
      "_model_name": "ProgressStyleModel",
      "_view_count": null,
      "_view_module": "@jupyter-widgets/base",
      "_view_module_version": "1.2.0",
      "_view_name": "StyleView",
      "bar_color": null,
      "description_width": ""
     }
    },
    "4b55581178cf418296049b20cf90a7b2": {
     "model_module": "@jupyter-widgets/controls",
     "model_module_version": "1.5.0",
     "model_name": "DescriptionStyleModel",
     "state": {
      "_model_module": "@jupyter-widgets/controls",
      "_model_module_version": "1.5.0",
      "_model_name": "DescriptionStyleModel",
      "_view_count": null,
      "_view_module": "@jupyter-widgets/base",
      "_view_module_version": "1.2.0",
      "_view_name": "StyleView",
      "description_width": ""
     }
    },
    "4c97f5ef21574acb9c86079a62c6354a": {
     "model_module": "@jupyter-widgets/base",
     "model_module_version": "1.2.0",
     "model_name": "LayoutModel",
     "state": {
      "_model_module": "@jupyter-widgets/base",
      "_model_module_version": "1.2.0",
      "_model_name": "LayoutModel",
      "_view_count": null,
      "_view_module": "@jupyter-widgets/base",
      "_view_module_version": "1.2.0",
      "_view_name": "LayoutView",
      "align_content": null,
      "align_items": null,
      "align_self": null,
      "border": null,
      "bottom": null,
      "display": null,
      "flex": null,
      "flex_flow": null,
      "grid_area": null,
      "grid_auto_columns": null,
      "grid_auto_flow": null,
      "grid_auto_rows": null,
      "grid_column": null,
      "grid_gap": null,
      "grid_row": null,
      "grid_template_areas": null,
      "grid_template_columns": null,
      "grid_template_rows": null,
      "height": null,
      "justify_content": null,
      "justify_items": null,
      "left": null,
      "margin": null,
      "max_height": null,
      "max_width": null,
      "min_height": null,
      "min_width": null,
      "object_fit": null,
      "object_position": null,
      "order": null,
      "overflow": null,
      "overflow_x": null,
      "overflow_y": null,
      "padding": null,
      "right": null,
      "top": null,
      "visibility": null,
      "width": null
     }
    },
    "766a8301317f483b9cc4258df842f3fb": {
     "model_module": "@jupyter-widgets/base",
     "model_module_version": "1.2.0",
     "model_name": "LayoutModel",
     "state": {
      "_model_module": "@jupyter-widgets/base",
      "_model_module_version": "1.2.0",
      "_model_name": "LayoutModel",
      "_view_count": null,
      "_view_module": "@jupyter-widgets/base",
      "_view_module_version": "1.2.0",
      "_view_name": "LayoutView",
      "align_content": null,
      "align_items": null,
      "align_self": null,
      "border": null,
      "bottom": null,
      "display": null,
      "flex": "2",
      "flex_flow": null,
      "grid_area": null,
      "grid_auto_columns": null,
      "grid_auto_flow": null,
      "grid_auto_rows": null,
      "grid_column": null,
      "grid_gap": null,
      "grid_row": null,
      "grid_template_areas": null,
      "grid_template_columns": null,
      "grid_template_rows": null,
      "height": null,
      "justify_content": null,
      "justify_items": null,
      "left": null,
      "margin": null,
      "max_height": null,
      "max_width": null,
      "min_height": null,
      "min_width": null,
      "object_fit": null,
      "object_position": null,
      "order": null,
      "overflow": null,
      "overflow_x": null,
      "overflow_y": null,
      "padding": null,
      "right": null,
      "top": null,
      "visibility": null,
      "width": null
     }
    },
    "d6c65e6c4e0747758ed6ecc19e4bbd68": {
     "model_module": "@jupyter-widgets/controls",
     "model_module_version": "1.5.0",
     "model_name": "HBoxModel",
     "state": {
      "_dom_classes": [],
      "_model_module": "@jupyter-widgets/controls",
      "_model_module_version": "1.5.0",
      "_model_name": "HBoxModel",
      "_view_count": null,
      "_view_module": "@jupyter-widgets/controls",
      "_view_module_version": "1.5.0",
      "_view_name": "HBoxView",
      "box_style": "",
      "children": [
       "IPY_MODEL_28771a09c1494394ba16779dece08739",
       "IPY_MODEL_e374e502f0d84b619993b437d1993948",
       "IPY_MODEL_439e260d935d437bbb53e9b5936b1ac7"
      ],
      "layout": "IPY_MODEL_14b0293b78394cdaba6242ad5baa5347"
     }
    },
    "e374e502f0d84b619993b437d1993948": {
     "model_module": "@jupyter-widgets/controls",
     "model_module_version": "1.5.0",
     "model_name": "FloatProgressModel",
     "state": {
      "_dom_classes": [],
      "_model_module": "@jupyter-widgets/controls",
      "_model_module_version": "1.5.0",
      "_model_name": "FloatProgressModel",
      "_view_count": null,
      "_view_module": "@jupyter-widgets/controls",
      "_view_module_version": "1.5.0",
      "_view_name": "ProgressView",
      "bar_style": "success",
      "description": "",
      "description_tooltip": null,
      "layout": "IPY_MODEL_766a8301317f483b9cc4258df842f3fb",
      "max": 1,
      "min": 0,
      "orientation": "horizontal",
      "style": "IPY_MODEL_47d8b51bbc274f278ba99daec8875c28",
      "value": 1
     }
    }
   }
  }
 },
 "nbformat": 4,
 "nbformat_minor": 1
}
